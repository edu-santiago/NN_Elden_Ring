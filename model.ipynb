{
 "cells": [
  {
   "cell_type": "code",
   "execution_count": 1,
   "id": "c283d9d2-c2c7-4916-9125-92819488274f",
   "metadata": {},
   "outputs": [],
   "source": [
    "import pandas as pd\n",
    "import numpy as np\n",
    "import torch\n",
    "import torch.nn as nn\n",
    "import torch.optim as optim\n",
    "from tqdm.notebook import tqdm\n",
    "import json\n",
    "import re\n",
    "import shap\n",
    "import lightgbm as lgb\n",
    "import itertools\n",
    "from sklearn.preprocessing import StandardScaler\n",
    "from imblearn.over_sampling import SMOTE\n",
    "from imblearn.under_sampling import RandomUnderSampler\n",
    "from sklearn.metrics import accuracy_score, classification_report, precision_score, recall_score, f1_score\n",
    "\n",
    "from utils.utils import *\n",
    "from utils.pre_processing import *\n",
    "from utils.nn import *\n",
    "from utils.nn_utils import *"
   ]
  },
  {
   "cell_type": "code",
   "execution_count": 2,
   "id": "d24a86e7-bab3-416a-9115-98645a368e4f",
   "metadata": {},
   "outputs": [],
   "source": [
    "df = load_data('data/df_tags','data/final_reviews')\n",
    "X_train, X_test, X_val, y_val, y_train, y_test = init_df(df,test_size=0.2,target_col='target',stratify=True,scaling=True,oversampling=True,undersampling=False)\n",
    "X_train, X_test, X_val, to_remove = remove_highly_correlated_features(X_train, X_test, X_val, threshold=0.9)\n",
    "df = df.drop(columns=df.columns[to_remove])"
   ]
  },
  {
   "cell_type": "code",
   "execution_count": 3,
   "id": "209c0e99-2473-40aa-a390-6e08b15dd1a0",
   "metadata": {},
   "outputs": [
    {
     "name": "stdout",
     "output_type": "stream",
     "text": [
      "[LightGBM] [Warning] Found whitespace in feature_names, replace with underlines\n",
      "[LightGBM] [Info] Number of positive: 2705, number of negative: 2705\n",
      "[LightGBM] [Info] Auto-choosing col-wise multi-threading, the overhead of testing was 0.006850 seconds.\n",
      "You can set `force_col_wise=true` to remove the overhead.\n",
      "[LightGBM] [Info] Total Bins 75579\n",
      "[LightGBM] [Info] Number of data points in the train set: 5410, number of used features: 304\n",
      "[LightGBM] [Warning] Found whitespace in feature_names, replace with underlines\n",
      "[LightGBM] [Info] [binary:BoostFromScore]: pavg=0.500000 -> initscore=0.000000\n",
      "Accuracy: 0.8263305322128851\n",
      "Precision: 0.1\n",
      "Recall: 0.17307692307692307\n",
      "F1 Score: 0.1267605633802817\n"
     ]
    }
   ],
   "source": [
    "feature_names = df.columns[:-1]  # Assuming the last column is the target\n",
    "\n",
    "# Create LightGBM datasets\n",
    "lgb_train = lgb.Dataset(X_train, label=y_train, feature_name=list(feature_names))\n",
    "lgb_val = lgb.Dataset(X_val, label=y_val, feature_name=list(feature_names), reference=lgb_train)\n",
    "\n",
    "# Define the model parameters\n",
    "params = {\n",
    "    'boosting_type': 'gbdt',\n",
    "    'objective': 'binary',\n",
    "    'metric': 'binary_logloss',\n",
    "    'num_leaves': 31,\n",
    "    'learning_rate': 0.01,\n",
    "    'feature_fraction': 1\n",
    "}\n",
    "\n",
    "def f1_eval(y_pred, dataset):\n",
    "    y_true = dataset.get_label()\n",
    "    y_pred_binary = np.round(y_pred)\n",
    "    return 'f1', f1_score(y_true, y_pred_binary), True\n",
    "\n",
    "# Train the model\n",
    "model = lgb.train(\n",
    "    params, \n",
    "    lgb_train, \n",
    "    num_boost_round=100, \n",
    "    valid_sets=[lgb_train, lgb_val], \n",
    "    valid_names=['train', 'val'],\n",
    "    feval=f1_eval\n",
    ")\n",
    "\n",
    "# Make predictions on the validation set\n",
    "y_val_pred = model.predict(X_val, num_iteration=model.best_iteration)\n",
    "y_val_pred_binary = np.round(y_val_pred)\n",
    "\n",
    "# Calculate evaluation metrics\n",
    "accuracy = accuracy_score(y_val, y_val_pred_binary)\n",
    "precision = precision_score(y_val, y_val_pred_binary)\n",
    "recall = recall_score(y_val, y_val_pred_binary)\n",
    "f1 = f1_score(y_val, y_val_pred_binary)\n",
    "\n",
    "# Print the evaluation metrics\n",
    "print(f\"Accuracy: {accuracy}\")\n",
    "print(f\"Precision: {precision}\")\n",
    "print(f\"Recall: {recall}\")\n",
    "print(f\"F1 Score: {f1}\")\n",
    "\n",
    "# Get feature importance\n",
    "importance = model.feature_importance()\n",
    "feature_importance = pd.DataFrame({'Feature': feature_names, 'Importance': importance})\n",
    "\n",
    "# Sort by importance\n",
    "feature_importance = feature_importance.sort_values(by='Importance', ascending=False)\n",
    "\n",
    "# Return the feature importance and metrics\n",
    "evaluation_metrics = {\n",
    "    'accuracy': accuracy,\n",
    "    'precision': precision,\n",
    "    'recall': recall,\n",
    "    'f1_score': f1\n",
    "}\n",
    "\n",
    "quantile_to_keep = 0.5\n",
    "min_imp = feature_importance['Importance'].quantile(quantile_to_keep)\n",
    "imp_feats = feature_importance.loc[feature_importance['Importance'] >= min_imp]['Feature']"
   ]
  },
  {
   "cell_type": "code",
   "execution_count": 4,
   "id": "3423ad25-5846-49c2-82ef-08c04acedb16",
   "metadata": {},
   "outputs": [
    {
     "data": {
      "text/plain": [
       "254                        Werewolves\n",
       "290                      Outbreak Sim\n",
       "289    Intentionally Awkward Controls\n",
       "56                     Hack and Slash\n",
       "287                       Programming\n",
       "286                     Warhammer 40K\n",
       "57                             Nudity\n",
       "278                             Party\n",
       "293                         Benchmark\n",
       "283                       Time Attack\n",
       "282                       Agriculture\n",
       "280                 Time Manipulation\n",
       "63                   Great Soundtrack\n",
       "294                     Political Sim\n",
       "82                       Early Access\n",
       "205                        Minimalist\n",
       "258                      Auto Battler\n",
       "259          Asynchronous Multiplayer\n",
       "35                             Aliens\n",
       "285                             Naval\n",
       "Name: Feature, dtype: object"
      ]
     },
     "execution_count": 4,
     "metadata": {},
     "output_type": "execute_result"
    }
   ],
   "source": [
    "feature_importance.sort_values('Importance')['Feature'].head(20)"
   ]
  },
  {
   "cell_type": "code",
   "execution_count": 5,
   "id": "0c0331db-f753-4a98-8b30-3968f49d2808",
   "metadata": {},
   "outputs": [],
   "source": [
    "df = load_data('data/df_tags','data/final_reviews')\n",
    "\n",
    "X_train, X_test, y_train, y_test = init_df(df,test_size=0.2,target_col='target',stratify=True,scaling=False,oversampling=False,undersampling=False,val=False)\n",
    "X_train = X_train.values\n",
    "X_test = X_test.values\n",
    "\n",
    "X_train_reduced = np.delete(X_train, to_remove, axis=1)\n",
    "X_test_reduced = np.delete(X_test, to_remove, axis=1)\n",
    "\n",
    "reduced_X_train = X_train[:, imp_feats.index]\n",
    "reduced_X_test = X_test[:, imp_feats.index]"
   ]
  },
  {
   "cell_type": "code",
   "execution_count": 6,
   "id": "c77761ec-20ef-43ce-ba8b-699c2f49b255",
   "metadata": {},
   "outputs": [],
   "source": [
    "#constantes\n",
    "\n",
    "input_size = reduced_X_train.shape[1]\n",
    "output_size = 1\n",
    "hidden_activation = 'relu'\n",
    "output_activation='sigmoid'\n",
    "criterion = 'BCEWithLogitsLoss'\n",
    "device = 'cpu'\n",
    "pos_weight = torch.tensor((1 - df['target']).sum()/df['target'].sum())"
   ]
  },
  {
   "cell_type": "code",
   "execution_count": 10,
   "id": "eb099370-bfb5-4632-b390-738e9ee76585",
   "metadata": {},
   "outputs": [
    {
     "data": {
      "application/vnd.jupyter.widget-view+json": {
       "model_id": "dc4643a5849e468694e996cae829732a",
       "version_major": 2,
       "version_minor": 0
      },
      "text/plain": [
       "  0%|          | 0/1000 [00:00<?, ?it/s]"
      ]
     },
     "metadata": {},
     "output_type": "display_data"
    },
    {
     "name": "stdout",
     "output_type": "stream",
     "text": [
      "Early stopping at epoch 11\n",
      "Accuracy: 0.9145658263305322\n",
      "Precision: 0.10344827586206896\n",
      "Recall: 0.07894736842105263\n",
      "F1: 0.08955223880597014\n"
     ]
    },
    {
     "data": {
      "application/vnd.jupyter.widget-view+json": {
       "model_id": "3bd158edcecd4ed8abe456ed5f8c0b86",
       "version_major": 2,
       "version_minor": 0
      },
      "text/plain": [
       "  0%|          | 0/1000 [00:00<?, ?it/s]"
      ]
     },
     "metadata": {},
     "output_type": "display_data"
    },
    {
     "name": "stdout",
     "output_type": "stream",
     "text": [
      "Early stopping at epoch 12\n",
      "Accuracy: 0.8949579831932774\n",
      "Precision: 0.08823529411764706\n",
      "Recall: 0.06382978723404255\n",
      "F1: 0.07407407407407407\n"
     ]
    },
    {
     "data": {
      "application/vnd.jupyter.widget-view+json": {
       "model_id": "2ad6dfb675bf4a16b551b11ed5411348",
       "version_major": 2,
       "version_minor": 0
      },
      "text/plain": [
       "  0%|          | 0/1000 [00:00<?, ?it/s]"
      ]
     },
     "metadata": {},
     "output_type": "display_data"
    },
    {
     "name": "stdout",
     "output_type": "stream",
     "text": [
      "Early stopping at epoch 15\n",
      "Accuracy: 0.8865546218487395\n",
      "Precision: 0.07936507936507936\n",
      "Recall: 0.17857142857142858\n",
      "F1: 0.10989010989010989\n"
     ]
    },
    {
     "data": {
      "application/vnd.jupyter.widget-view+json": {
       "model_id": "657a19fc171a41818b881c3f1b321443",
       "version_major": 2,
       "version_minor": 0
      },
      "text/plain": [
       "  0%|          | 0/1000 [00:00<?, ?it/s]"
      ]
     },
     "metadata": {},
     "output_type": "display_data"
    },
    {
     "name": "stdout",
     "output_type": "stream",
     "text": [
      "Early stopping at epoch 12\n",
      "Accuracy: 0.9089635854341737\n",
      "Precision: 0.12903225806451613\n",
      "Recall: 0.09523809523809523\n",
      "F1: 0.1095890410958904\n"
     ]
    },
    {
     "data": {
      "application/vnd.jupyter.widget-view+json": {
       "model_id": "6ee76221fbcc4187bd527bab8712d322",
       "version_major": 2,
       "version_minor": 0
      },
      "text/plain": [
       "  0%|          | 0/1000 [00:00<?, ?it/s]"
      ]
     },
     "metadata": {},
     "output_type": "display_data"
    },
    {
     "name": "stdout",
     "output_type": "stream",
     "text": [
      "Early stopping at epoch 12\n",
      "Accuracy: 0.8863955119214586\n",
      "Precision: 0.05263157894736842\n",
      "Recall: 0.0425531914893617\n",
      "F1: 0.047058823529411764\n"
     ]
    },
    {
     "data": {
      "application/vnd.jupyter.widget-view+json": {
       "model_id": "ca52c153fc2e477bb2cf776c32944b1d",
       "version_major": 2,
       "version_minor": 0
      },
      "text/plain": [
       "  0%|          | 0/1000 [00:00<?, ?it/s]"
      ]
     },
     "metadata": {},
     "output_type": "display_data"
    },
    {
     "name": "stdout",
     "output_type": "stream",
     "text": [
      "Early stopping at epoch 40\n",
      "Accuracy: 0.9089635854341737\n",
      "Precision: 0.11428571428571428\n",
      "Recall: 0.10526315789473684\n",
      "F1: 0.1095890410958904\n"
     ]
    },
    {
     "data": {
      "application/vnd.jupyter.widget-view+json": {
       "model_id": "3f250f9d1c9e40eab3f4711c11adb329",
       "version_major": 2,
       "version_minor": 0
      },
      "text/plain": [
       "  0%|          | 0/1000 [00:00<?, ?it/s]"
      ]
     },
     "metadata": {},
     "output_type": "display_data"
    },
    {
     "name": "stdout",
     "output_type": "stream",
     "text": [
      "Early stopping at epoch 37\n",
      "Accuracy: 0.9047619047619048\n",
      "Precision: 0.13793103448275862\n",
      "Recall: 0.0851063829787234\n",
      "F1: 0.10526315789473684\n"
     ]
    },
    {
     "data": {
      "application/vnd.jupyter.widget-view+json": {
       "model_id": "48c0060329994e17b6d72f12d63f21d3",
       "version_major": 2,
       "version_minor": 0
      },
      "text/plain": [
       "  0%|          | 0/1000 [00:00<?, ?it/s]"
      ]
     },
     "metadata": {},
     "output_type": "display_data"
    },
    {
     "name": "stdout",
     "output_type": "stream",
     "text": [
      "Early stopping at epoch 49\n",
      "Accuracy: 0.8977591036414566\n",
      "Precision: 0.07547169811320754\n",
      "Recall: 0.14285714285714285\n",
      "F1: 0.09876543209876543\n"
     ]
    },
    {
     "data": {
      "application/vnd.jupyter.widget-view+json": {
       "model_id": "75245d6ac82d4816b649b47bbe7c1ba4",
       "version_major": 2,
       "version_minor": 0
      },
      "text/plain": [
       "  0%|          | 0/1000 [00:00<?, ?it/s]"
      ]
     },
     "metadata": {},
     "output_type": "display_data"
    },
    {
     "name": "stdout",
     "output_type": "stream",
     "text": [
      "Early stopping at epoch 18\n",
      "Accuracy: 0.8991596638655462\n",
      "Precision: 0.125\n",
      "Recall: 0.11904761904761904\n",
      "F1: 0.12195121951219512\n"
     ]
    },
    {
     "data": {
      "application/vnd.jupyter.widget-view+json": {
       "model_id": "44fec769920141f78402583a9ee854fa",
       "version_major": 2,
       "version_minor": 0
      },
      "text/plain": [
       "  0%|          | 0/1000 [00:00<?, ?it/s]"
      ]
     },
     "metadata": {},
     "output_type": "display_data"
    },
    {
     "name": "stdout",
     "output_type": "stream",
     "text": [
      "Early stopping at epoch 19\n",
      "Accuracy: 0.908835904628331\n",
      "Precision: 0.05\n",
      "Recall: 0.02127659574468085\n",
      "F1: 0.029850746268656716\n"
     ]
    },
    {
     "data": {
      "application/vnd.jupyter.widget-view+json": {
       "model_id": "18df89d8d1004901aa60335022156233",
       "version_major": 2,
       "version_minor": 0
      },
      "text/plain": [
       "  0%|          | 0/1000 [00:00<?, ?it/s]"
      ]
     },
     "metadata": {},
     "output_type": "display_data"
    },
    {
     "name": "stdout",
     "output_type": "stream",
     "text": [
      "Epoch 050: | Train Loss: 1.274 | Val Loss: 1.2962 | Train F1: 0.3220| Val F1: 0.1299\n",
      "Epoch 100: | Train Loss: 1.231 | Val Loss: 1.2826 | Train F1: 0.3796| Val F1: 0.1538\n",
      "Epoch 150: | Train Loss: 1.199 | Val Loss: 1.2766 | Train F1: 0.4538| Val F1: 0.1538\n",
      "Early stopping at epoch 188\n",
      "Accuracy: 0.9103641456582633\n",
      "Precision: 0.11764705882352941\n",
      "Recall: 0.10526315789473684\n",
      "F1: 0.1111111111111111\n"
     ]
    },
    {
     "data": {
      "application/vnd.jupyter.widget-view+json": {
       "model_id": "bbcfe420a3f84dff9d230b7d95d15a62",
       "version_major": 2,
       "version_minor": 0
      },
      "text/plain": [
       "  0%|          | 0/1000 [00:00<?, ?it/s]"
      ]
     },
     "metadata": {},
     "output_type": "display_data"
    },
    {
     "name": "stdout",
     "output_type": "stream",
     "text": [
      "Epoch 050: | Train Loss: 1.247 | Val Loss: 1.4069 | Train F1: 0.3141| Val F1: 0.1446\n",
      "Epoch 100: | Train Loss: 1.202 | Val Loss: 1.4011 | Train F1: 0.4039| Val F1: 0.1489\n",
      "Epoch 150: | Train Loss: 1.174 | Val Loss: 1.4004 | Train F1: 0.4689| Val F1: 0.1505\n",
      "Early stopping at epoch 150\n",
      "Accuracy: 0.8893557422969187\n",
      "Precision: 0.15217391304347827\n",
      "Recall: 0.14893617021276595\n",
      "F1: 0.15053763440860216\n"
     ]
    },
    {
     "data": {
      "application/vnd.jupyter.widget-view+json": {
       "model_id": "1a976fd79a1c4614bf48b51d4b3b2eb4",
       "version_major": 2,
       "version_minor": 0
      },
      "text/plain": [
       "  0%|          | 0/1000 [00:00<?, ?it/s]"
      ]
     },
     "metadata": {},
     "output_type": "display_data"
    },
    {
     "name": "stdout",
     "output_type": "stream",
     "text": [
      "Epoch 050: | Train Loss: 1.305 | Val Loss: 1.1633 | Train F1: 0.3112| Val F1: 0.1458\n",
      "Epoch 100: | Train Loss: 1.258 | Val Loss: 1.1438 | Train F1: 0.3832| Val F1: 0.1364\n",
      "Epoch 150: | Train Loss: 1.226 | Val Loss: 1.1358 | Train F1: 0.4451| Val F1: 0.1149\n",
      "Early stopping at epoch 186\n",
      "Accuracy: 0.9033613445378151\n",
      "Precision: 0.11320754716981132\n",
      "Recall: 0.21428571428571427\n",
      "F1: 0.14814814814814814\n"
     ]
    },
    {
     "data": {
      "application/vnd.jupyter.widget-view+json": {
       "model_id": "42dfc2f07c9e4d928062c6bd9d19adf2",
       "version_major": 2,
       "version_minor": 0
      },
      "text/plain": [
       "  0%|          | 0/1000 [00:00<?, ?it/s]"
      ]
     },
     "metadata": {},
     "output_type": "display_data"
    },
    {
     "name": "stdout",
     "output_type": "stream",
     "text": [
      "Epoch 050: | Train Loss: 1.268 | Val Loss: 1.3394 | Train F1: 0.3094| Val F1: 0.1163\n",
      "Early stopping at epoch 98\n",
      "Accuracy: 0.8921568627450981\n",
      "Precision: 0.1276595744680851\n",
      "Recall: 0.14285714285714285\n",
      "F1: 0.1348314606741573\n"
     ]
    },
    {
     "data": {
      "application/vnd.jupyter.widget-view+json": {
       "model_id": "2a0cf4928e3f451da633f9c97c8f14ad",
       "version_major": 2,
       "version_minor": 0
      },
      "text/plain": [
       "  0%|          | 0/1000 [00:00<?, ?it/s]"
      ]
     },
     "metadata": {},
     "output_type": "display_data"
    },
    {
     "name": "stdout",
     "output_type": "stream",
     "text": [
      "Epoch 050: | Train Loss: 1.256 | Val Loss: 1.3946 | Train F1: 0.3113| Val F1: 0.0323\n",
      "Early stopping at epoch 85\n",
      "Accuracy: 0.9116409537166901\n",
      "Precision: 0.1\n",
      "Recall: 0.0425531914893617\n",
      "F1: 0.05970149253731343\n"
     ]
    },
    {
     "data": {
      "application/vnd.jupyter.widget-view+json": {
       "model_id": "909f33f78c5e4fed850e8790df7e17bc",
       "version_major": 2,
       "version_minor": 0
      },
      "text/plain": [
       "  0%|          | 0/1000 [00:00<?, ?it/s]"
      ]
     },
     "metadata": {},
     "output_type": "display_data"
    },
    {
     "name": "stdout",
     "output_type": "stream",
     "text": [
      "Epoch 050: | Train Loss: 1.368 | Val Loss: 1.3443 | Train F1: 0.1201| Val F1: 0.0952\n",
      "Epoch 100: | Train Loss: 1.349 | Val Loss: 1.3348 | Train F1: 0.1842| Val F1: 0.1439\n",
      "Epoch 150: | Train Loss: 1.338 | Val Loss: 1.3272 | Train F1: 0.1945| Val F1: 0.1653\n",
      "Epoch 200: | Train Loss: 1.324 | Val Loss: 1.3209 | Train F1: 0.2097| Val F1: 0.1359\n",
      "Epoch 250: | Train Loss: 1.314 | Val Loss: 1.3155 | Train F1: 0.2286| Val F1: 0.1414\n",
      "Epoch 300: | Train Loss: 1.303 | Val Loss: 1.3109 | Train F1: 0.2415| Val F1: 0.1505\n",
      "Epoch 350: | Train Loss: 1.295 | Val Loss: 1.3069 | Train F1: 0.2507| Val F1: 0.1573\n",
      "Epoch 400: | Train Loss: 1.288 | Val Loss: 1.3036 | Train F1: 0.2620| Val F1: 0.1395\n",
      "Epoch 450: | Train Loss: 1.279 | Val Loss: 1.3008 | Train F1: 0.3107| Val F1: 0.1412\n",
      "Epoch 500: | Train Loss: 1.274 | Val Loss: 1.2983 | Train F1: 0.3067| Val F1: 0.1412\n",
      "Epoch 550: | Train Loss: 1.268 | Val Loss: 1.2961 | Train F1: 0.3178| Val F1: 0.1429\n",
      "Epoch 600: | Train Loss: 1.259 | Val Loss: 1.2941 | Train F1: 0.3528| Val F1: 0.1395\n",
      "Epoch 650: | Train Loss: 1.255 | Val Loss: 1.2925 | Train F1: 0.3530| Val F1: 0.1412\n",
      "Epoch 700: | Train Loss: 1.255 | Val Loss: 1.2909 | Train F1: 0.3421| Val F1: 0.1446\n",
      "Epoch 750: | Train Loss: 1.250 | Val Loss: 1.2896 | Train F1: 0.3543| Val F1: 0.1463\n",
      "Epoch 800: | Train Loss: 1.243 | Val Loss: 1.2883 | Train F1: 0.3567| Val F1: 0.1481\n",
      "Epoch 850: | Train Loss: 1.239 | Val Loss: 1.2872 | Train F1: 0.3594| Val F1: 0.1500\n",
      "Epoch 900: | Train Loss: 1.237 | Val Loss: 1.2861 | Train F1: 0.3629| Val F1: 0.1519\n",
      "Epoch 950: | Train Loss: 1.231 | Val Loss: 1.2852 | Train F1: 0.3839| Val F1: 0.1299\n",
      "Epoch 1000: | Train Loss: 1.226 | Val Loss: 1.2843 | Train F1: 0.4123| Val F1: 0.1053\n",
      "Accuracy: 0.9047619047619048\n",
      "Precision: 0.10526315789473684\n",
      "Recall: 0.10526315789473684\n",
      "F1: 0.10526315789473684\n"
     ]
    },
    {
     "data": {
      "application/vnd.jupyter.widget-view+json": {
       "model_id": "75eca671ec4e43a08c8f97515aa49584",
       "version_major": 2,
       "version_minor": 0
      },
      "text/plain": [
       "  0%|          | 0/1000 [00:00<?, ?it/s]"
      ]
     },
     "metadata": {},
     "output_type": "display_data"
    },
    {
     "name": "stdout",
     "output_type": "stream",
     "text": [
      "Epoch 050: | Train Loss: 1.336 | Val Loss: 1.4271 | Train F1: 0.1269| Val F1: 0.1455\n",
      "Epoch 100: | Train Loss: 1.319 | Val Loss: 1.4212 | Train F1: 0.1575| Val F1: 0.1556\n",
      "Epoch 150: | Train Loss: 1.306 | Val Loss: 1.4173 | Train F1: 0.1625| Val F1: 0.1463\n",
      "Epoch 200: | Train Loss: 1.291 | Val Loss: 1.4144 | Train F1: 0.2334| Val F1: 0.1579\n",
      "Epoch 250: | Train Loss: 1.280 | Val Loss: 1.4121 | Train F1: 0.2648| Val F1: 0.1867\n",
      "Epoch 300: | Train Loss: 1.272 | Val Loss: 1.4101 | Train F1: 0.2504| Val F1: 0.1579\n",
      "Epoch 350: | Train Loss: 1.264 | Val Loss: 1.4082 | Train F1: 0.2839| Val F1: 0.1558\n",
      "Epoch 400: | Train Loss: 1.258 | Val Loss: 1.4066 | Train F1: 0.2717| Val F1: 0.1500\n",
      "Epoch 450: | Train Loss: 1.253 | Val Loss: 1.4052 | Train F1: 0.2976| Val F1: 0.1500\n",
      "Epoch 500: | Train Loss: 1.249 | Val Loss: 1.4040 | Train F1: 0.2892| Val F1: 0.1707\n",
      "Epoch 550: | Train Loss: 1.239 | Val Loss: 1.4030 | Train F1: 0.3240| Val F1: 0.1647\n",
      "Epoch 600: | Train Loss: 1.237 | Val Loss: 1.4022 | Train F1: 0.3238| Val F1: 0.1628\n",
      "Epoch 650: | Train Loss: 1.228 | Val Loss: 1.4016 | Train F1: 0.3686| Val F1: 0.1538\n",
      "Epoch 700: | Train Loss: 1.225 | Val Loss: 1.4009 | Train F1: 0.3670| Val F1: 0.1505\n",
      "Epoch 750: | Train Loss: 1.220 | Val Loss: 1.4005 | Train F1: 0.3805| Val F1: 0.1522\n",
      "Early stopping at epoch 751\n",
      "Accuracy: 0.8907563025210085\n",
      "Precision: 0.15555555555555556\n",
      "Recall: 0.14893617021276595\n",
      "F1: 0.15217391304347827\n"
     ]
    },
    {
     "data": {
      "application/vnd.jupyter.widget-view+json": {
       "model_id": "d9ebc534250a406c99ef8fe1f77b0f04",
       "version_major": 2,
       "version_minor": 0
      },
      "text/plain": [
       "  0%|          | 0/1000 [00:00<?, ?it/s]"
      ]
     },
     "metadata": {},
     "output_type": "display_data"
    },
    {
     "name": "stdout",
     "output_type": "stream",
     "text": [
      "Epoch 050: | Train Loss: 1.393 | Val Loss: 1.2355 | Train F1: 0.1124| Val F1: 0.0829\n",
      "Epoch 100: | Train Loss: 1.376 | Val Loss: 1.2220 | Train F1: 0.1483| Val F1: 0.1274\n",
      "Epoch 150: | Train Loss: 1.364 | Val Loss: 1.2102 | Train F1: 0.1851| Val F1: 0.1277\n",
      "Epoch 200: | Train Loss: 1.353 | Val Loss: 1.2002 | Train F1: 0.2217| Val F1: 0.1513\n",
      "Epoch 250: | Train Loss: 1.344 | Val Loss: 1.1918 | Train F1: 0.2152| Val F1: 0.1481\n",
      "Epoch 300: | Train Loss: 1.333 | Val Loss: 1.1848 | Train F1: 0.2720| Val F1: 0.1553\n",
      "Epoch 350: | Train Loss: 1.327 | Val Loss: 1.1791 | Train F1: 0.2656| Val F1: 0.1386\n",
      "Epoch 400: | Train Loss: 1.322 | Val Loss: 1.1743 | Train F1: 0.2586| Val F1: 0.1414\n",
      "Epoch 450: | Train Loss: 1.310 | Val Loss: 1.1702 | Train F1: 0.2804| Val F1: 0.1458\n",
      "Epoch 500: | Train Loss: 1.306 | Val Loss: 1.1664 | Train F1: 0.3010| Val F1: 0.1505\n",
      "Epoch 550: | Train Loss: 1.298 | Val Loss: 1.1633 | Train F1: 0.3424| Val F1: 0.1474\n",
      "Epoch 600: | Train Loss: 1.294 | Val Loss: 1.1606 | Train F1: 0.3225| Val F1: 0.1522\n",
      "Epoch 650: | Train Loss: 1.291 | Val Loss: 1.1582 | Train F1: 0.3282| Val F1: 0.1538\n",
      "Epoch 700: | Train Loss: 1.288 | Val Loss: 1.1560 | Train F1: 0.3326| Val F1: 0.1522\n",
      "Epoch 750: | Train Loss: 1.281 | Val Loss: 1.1540 | Train F1: 0.3481| Val F1: 0.1474\n",
      "Epoch 800: | Train Loss: 1.275 | Val Loss: 1.1523 | Train F1: 0.3647| Val F1: 0.1458\n",
      "Epoch 850: | Train Loss: 1.266 | Val Loss: 1.1509 | Train F1: 0.3764| Val F1: 0.1263\n",
      "Epoch 900: | Train Loss: 1.269 | Val Loss: 1.1494 | Train F1: 0.3628| Val F1: 0.1263\n",
      "Epoch 950: | Train Loss: 1.258 | Val Loss: 1.1483 | Train F1: 0.3901| Val F1: 0.1290\n",
      "Epoch 1000: | Train Loss: 1.254 | Val Loss: 1.1472 | Train F1: 0.4061| Val F1: 0.1474\n",
      "Accuracy: 0.8865546218487395\n",
      "Precision: 0.1044776119402985\n",
      "Recall: 0.25\n",
      "F1: 0.14736842105263157\n"
     ]
    },
    {
     "data": {
      "application/vnd.jupyter.widget-view+json": {
       "model_id": "dee5d52ca7db4a0b98d6aa6dc91b18c0",
       "version_major": 2,
       "version_minor": 0
      },
      "text/plain": [
       "  0%|          | 0/1000 [00:00<?, ?it/s]"
      ]
     },
     "metadata": {},
     "output_type": "display_data"
    },
    {
     "name": "stdout",
     "output_type": "stream",
     "text": [
      "Epoch 050: | Train Loss: 1.356 | Val Loss: 1.3753 | Train F1: 0.1290| Val F1: 0.1279\n",
      "Epoch 100: | Train Loss: 1.340 | Val Loss: 1.3646 | Train F1: 0.1610| Val F1: 0.1094\n",
      "Epoch 150: | Train Loss: 1.326 | Val Loss: 1.3566 | Train F1: 0.1990| Val F1: 0.1111\n",
      "Epoch 200: | Train Loss: 1.314 | Val Loss: 1.3505 | Train F1: 0.2472| Val F1: 0.1212\n",
      "Epoch 250: | Train Loss: 1.306 | Val Loss: 1.3458 | Train F1: 0.2130| Val F1: 0.1290\n",
      "Epoch 300: | Train Loss: 1.298 | Val Loss: 1.3424 | Train F1: 0.2431| Val F1: 0.1136\n",
      "Epoch 350: | Train Loss: 1.290 | Val Loss: 1.3397 | Train F1: 0.2747| Val F1: 0.0920\n",
      "Epoch 400: | Train Loss: 1.283 | Val Loss: 1.3374 | Train F1: 0.2790| Val F1: 0.0714\n",
      "Epoch 450: | Train Loss: 1.277 | Val Loss: 1.3357 | Train F1: 0.2718| Val F1: 0.0741\n",
      "Epoch 500: | Train Loss: 1.269 | Val Loss: 1.3344 | Train F1: 0.2941| Val F1: 0.0750\n",
      "Epoch 550: | Train Loss: 1.267 | Val Loss: 1.3333 | Train F1: 0.3185| Val F1: 0.0759\n",
      "Epoch 600: | Train Loss: 1.257 | Val Loss: 1.3324 | Train F1: 0.3316| Val F1: 0.1013\n",
      "Epoch 650: | Train Loss: 1.252 | Val Loss: 1.3319 | Train F1: 0.3538| Val F1: 0.1000\n",
      "Epoch 700: | Train Loss: 1.250 | Val Loss: 1.3316 | Train F1: 0.3201| Val F1: 0.1013\n",
      "Epoch 750: | Train Loss: 1.241 | Val Loss: 1.3314 | Train F1: 0.3522| Val F1: 0.0759\n",
      "Epoch 800: | Train Loss: 1.238 | Val Loss: 1.3312 | Train F1: 0.3802| Val F1: 0.0779\n",
      "Early stopping at epoch 802\n",
      "Accuracy: 0.9005602240896359\n",
      "Precision: 0.08571428571428572\n",
      "Recall: 0.07142857142857142\n",
      "F1: 0.07792207792207792\n"
     ]
    },
    {
     "data": {
      "application/vnd.jupyter.widget-view+json": {
       "model_id": "fced77848a224fefa30c286aed8eb9c7",
       "version_major": 2,
       "version_minor": 0
      },
      "text/plain": [
       "  0%|          | 0/1000 [00:00<?, ?it/s]"
      ]
     },
     "metadata": {},
     "output_type": "display_data"
    },
    {
     "name": "stdout",
     "output_type": "stream",
     "text": [
      "Epoch 050: | Train Loss: 1.340 | Val Loss: 1.4287 | Train F1: 0.1389| Val F1: 0.1626\n",
      "Epoch 100: | Train Loss: 1.327 | Val Loss: 1.4188 | Train F1: 0.1836| Val F1: 0.1446\n",
      "Epoch 150: | Train Loss: 1.314 | Val Loss: 1.4114 | Train F1: 0.1821| Val F1: 0.1111\n",
      "Epoch 200: | Train Loss: 1.302 | Val Loss: 1.4058 | Train F1: 0.2519| Val F1: 0.1159\n",
      "Epoch 250: | Train Loss: 1.294 | Val Loss: 1.4015 | Train F1: 0.2237| Val F1: 0.0597\n",
      "Epoch 300: | Train Loss: 1.287 | Val Loss: 1.3984 | Train F1: 0.2759| Val F1: 0.0597\n",
      "Epoch 350: | Train Loss: 1.275 | Val Loss: 1.3959 | Train F1: 0.2930| Val F1: 0.0606\n",
      "Epoch 400: | Train Loss: 1.271 | Val Loss: 1.3940 | Train F1: 0.2814| Val F1: 0.0606\n",
      "Epoch 450: | Train Loss: 1.260 | Val Loss: 1.3924 | Train F1: 0.2977| Val F1: 0.0606\n",
      "Epoch 500: | Train Loss: 1.255 | Val Loss: 1.3913 | Train F1: 0.3099| Val F1: 0.0606\n",
      "Epoch 550: | Train Loss: 1.252 | Val Loss: 1.3904 | Train F1: 0.3201| Val F1: 0.0606\n",
      "Epoch 600: | Train Loss: 1.242 | Val Loss: 1.3899 | Train F1: 0.3287| Val F1: 0.0615\n",
      "Epoch 650: | Train Loss: 1.239 | Val Loss: 1.3894 | Train F1: 0.3521| Val F1: 0.0615\n",
      "Epoch 700: | Train Loss: 1.236 | Val Loss: 1.3891 | Train F1: 0.3333| Val F1: 0.0597\n",
      "Early stopping at epoch 700\n",
      "Accuracy: 0.9116409537166901\n",
      "Precision: 0.1\n",
      "Recall: 0.0425531914893617\n",
      "F1: 0.05970149253731343\n"
     ]
    },
    {
     "data": {
      "application/vnd.jupyter.widget-view+json": {
       "model_id": "1b2cc400dff84fe4ba748a7831d3a1a4",
       "version_major": 2,
       "version_minor": 0
      },
      "text/plain": [
       "  0%|          | 0/1000 [00:00<?, ?it/s]"
      ]
     },
     "metadata": {},
     "output_type": "display_data"
    },
    {
     "name": "stdout",
     "output_type": "stream",
     "text": [
      "Early stopping at epoch 14\n",
      "Accuracy: 0.8697478991596639\n",
      "Precision: 0.04918032786885246\n",
      "Recall: 0.07894736842105263\n",
      "F1: 0.06060606060606061\n"
     ]
    },
    {
     "data": {
      "application/vnd.jupyter.widget-view+json": {
       "model_id": "4021ba4b41a6494fa9baca7b0b56d32c",
       "version_major": 2,
       "version_minor": 0
      },
      "text/plain": [
       "  0%|          | 0/1000 [00:00<?, ?it/s]"
      ]
     },
     "metadata": {},
     "output_type": "display_data"
    },
    {
     "name": "stdout",
     "output_type": "stream",
     "text": [
      "Early stopping at epoch 12\n",
      "Accuracy: 0.8529411764705882\n",
      "Precision: 0.07352941176470588\n",
      "Recall: 0.10638297872340426\n",
      "F1: 0.08695652173913043\n"
     ]
    },
    {
     "data": {
      "application/vnd.jupyter.widget-view+json": {
       "model_id": "173b6384556444b3ac49d411c3c0054a",
       "version_major": 2,
       "version_minor": 0
      },
      "text/plain": [
       "  0%|          | 0/1000 [00:00<?, ?it/s]"
      ]
     },
     "metadata": {},
     "output_type": "display_data"
    },
    {
     "name": "stdout",
     "output_type": "stream",
     "text": [
      "Early stopping at epoch 12\n",
      "Accuracy: 0.8571428571428571\n",
      "Precision: 0.06976744186046512\n",
      "Recall: 0.21428571428571427\n",
      "F1: 0.10526315789473684\n"
     ]
    },
    {
     "data": {
      "application/vnd.jupyter.widget-view+json": {
       "model_id": "cfb1c8d27e1147ed98304d6e6709adb5",
       "version_major": 2,
       "version_minor": 0
      },
      "text/plain": [
       "  0%|          | 0/1000 [00:00<?, ?it/s]"
      ]
     },
     "metadata": {},
     "output_type": "display_data"
    },
    {
     "name": "stdout",
     "output_type": "stream",
     "text": [
      "Early stopping at epoch 12\n",
      "Accuracy: 0.8907563025210085\n",
      "Precision: 0.07142857142857142\n",
      "Recall: 0.07142857142857142\n",
      "F1: 0.07142857142857142\n"
     ]
    },
    {
     "data": {
      "application/vnd.jupyter.widget-view+json": {
       "model_id": "cb7a342035684a0b855777f194199591",
       "version_major": 2,
       "version_minor": 0
      },
      "text/plain": [
       "  0%|          | 0/1000 [00:00<?, ?it/s]"
      ]
     },
     "metadata": {},
     "output_type": "display_data"
    },
    {
     "name": "stdout",
     "output_type": "stream",
     "text": [
      "Early stopping at epoch 12\n",
      "Accuracy: 0.8877980364656382\n",
      "Precision: 0.0975609756097561\n",
      "Recall: 0.0851063829787234\n",
      "F1: 0.09090909090909091\n"
     ]
    },
    {
     "data": {
      "application/vnd.jupyter.widget-view+json": {
       "model_id": "ee12673be4de406881870f66ec8fe7f2",
       "version_major": 2,
       "version_minor": 0
      },
      "text/plain": [
       "  0%|          | 0/1000 [00:00<?, ?it/s]"
      ]
     },
     "metadata": {},
     "output_type": "display_data"
    },
    {
     "name": "stdout",
     "output_type": "stream",
     "text": [
      "Early stopping at epoch 42\n",
      "Accuracy: 0.9019607843137255\n",
      "Precision: 0.07894736842105263\n",
      "Recall: 0.07894736842105263\n",
      "F1: 0.07894736842105263\n"
     ]
    },
    {
     "data": {
      "application/vnd.jupyter.widget-view+json": {
       "model_id": "dc8b8d58f0454c0ca37818bc6b0bd7dd",
       "version_major": 2,
       "version_minor": 0
      },
      "text/plain": [
       "  0%|          | 0/1000 [00:00<?, ?it/s]"
      ]
     },
     "metadata": {},
     "output_type": "display_data"
    },
    {
     "name": "stdout",
     "output_type": "stream",
     "text": [
      "Early stopping at epoch 24\n",
      "Accuracy: 0.8725490196078431\n",
      "Precision: 0.10714285714285714\n",
      "Recall: 0.1276595744680851\n",
      "F1: 0.11650485436893204\n"
     ]
    },
    {
     "data": {
      "application/vnd.jupyter.widget-view+json": {
       "model_id": "1a43aff09bcf49e3a50b1b79cd292675",
       "version_major": 2,
       "version_minor": 0
      },
      "text/plain": [
       "  0%|          | 0/1000 [00:00<?, ?it/s]"
      ]
     },
     "metadata": {},
     "output_type": "display_data"
    },
    {
     "name": "stdout",
     "output_type": "stream",
     "text": [
      "Epoch 050: | Train Loss: 1.162 | Val Loss: 1.1288 | Train F1: 0.5224| Val F1: 0.1266\n",
      "Epoch 100: | Train Loss: 1.123 | Val Loss: 1.1190 | Train F1: 0.6055| Val F1: 0.1231\n",
      "Early stopping at epoch 101\n",
      "Accuracy: 0.9159663865546218\n",
      "Precision: 0.11904761904761904\n",
      "Recall: 0.17857142857142858\n",
      "F1: 0.14285714285714285\n"
     ]
    },
    {
     "data": {
      "application/vnd.jupyter.widget-view+json": {
       "model_id": "d8980b6019c04141812c5ff29036c979",
       "version_major": 2,
       "version_minor": 0
      },
      "text/plain": [
       "  0%|          | 0/1000 [00:00<?, ?it/s]"
      ]
     },
     "metadata": {},
     "output_type": "display_data"
    },
    {
     "name": "stdout",
     "output_type": "stream",
     "text": [
      "Early stopping at epoch 20\n",
      "Accuracy: 0.8893557422969187\n",
      "Precision: 0.08888888888888889\n",
      "Recall: 0.09523809523809523\n",
      "F1: 0.09195402298850575\n"
     ]
    },
    {
     "data": {
      "application/vnd.jupyter.widget-view+json": {
       "model_id": "c1922cda486547cd88154870fe6ddc34",
       "version_major": 2,
       "version_minor": 0
      },
      "text/plain": [
       "  0%|          | 0/1000 [00:00<?, ?it/s]"
      ]
     },
     "metadata": {},
     "output_type": "display_data"
    },
    {
     "name": "stdout",
     "output_type": "stream",
     "text": [
      "Early stopping at epoch 22\n",
      "Accuracy: 0.9074333800841514\n",
      "Precision: 0.14814814814814814\n",
      "Recall: 0.0851063829787234\n",
      "F1: 0.10810810810810811\n"
     ]
    },
    {
     "data": {
      "application/vnd.jupyter.widget-view+json": {
       "model_id": "7269bc1c939b4f4eb3acbe9001bf1ff0",
       "version_major": 2,
       "version_minor": 0
      },
      "text/plain": [
       "  0%|          | 0/1000 [00:00<?, ?it/s]"
      ]
     },
     "metadata": {},
     "output_type": "display_data"
    },
    {
     "name": "stdout",
     "output_type": "stream",
     "text": [
      "Epoch 050: | Train Loss: 1.294 | Val Loss: 1.3034 | Train F1: 0.2510| Val F1: 0.1556\n",
      "Epoch 100: | Train Loss: 1.252 | Val Loss: 1.2895 | Train F1: 0.3194| Val F1: 0.1463\n",
      "Epoch 150: | Train Loss: 1.220 | Val Loss: 1.2838 | Train F1: 0.3946| Val F1: 0.1000\n",
      "Epoch 200: | Train Loss: 1.201 | Val Loss: 1.2807 | Train F1: 0.4396| Val F1: 0.1299\n",
      "Epoch 250: | Train Loss: 1.181 | Val Loss: 1.2796 | Train F1: 0.4880| Val F1: 0.1333\n",
      "Early stopping at epoch 280\n",
      "Accuracy: 0.9103641456582633\n",
      "Precision: 0.1388888888888889\n",
      "Recall: 0.13157894736842105\n",
      "F1: 0.13513513513513514\n"
     ]
    },
    {
     "data": {
      "application/vnd.jupyter.widget-view+json": {
       "model_id": "de484fa30056411e9c6b2213152aa964",
       "version_major": 2,
       "version_minor": 0
      },
      "text/plain": [
       "  0%|          | 0/1000 [00:00<?, ?it/s]"
      ]
     },
     "metadata": {},
     "output_type": "display_data"
    },
    {
     "name": "stdout",
     "output_type": "stream",
     "text": [
      "Epoch 050: | Train Loss: 1.273 | Val Loss: 1.4126 | Train F1: 0.2772| Val F1: 0.1290\n",
      "Epoch 100: | Train Loss: 1.230 | Val Loss: 1.4034 | Train F1: 0.3332| Val F1: 0.1505\n",
      "Epoch 150: | Train Loss: 1.197 | Val Loss: 1.4010 | Train F1: 0.3875| Val F1: 0.1458\n",
      "Early stopping at epoch 180\n",
      "Accuracy: 0.8851540616246498\n",
      "Precision: 0.14285714285714285\n",
      "Recall: 0.14893617021276595\n",
      "F1: 0.14583333333333334\n"
     ]
    },
    {
     "data": {
      "application/vnd.jupyter.widget-view+json": {
       "model_id": "f943ce156fb3440884b2ac3c935b66f6",
       "version_major": 2,
       "version_minor": 0
      },
      "text/plain": [
       "  0%|          | 0/1000 [00:00<?, ?it/s]"
      ]
     },
     "metadata": {},
     "output_type": "display_data"
    },
    {
     "name": "stdout",
     "output_type": "stream",
     "text": [
      "Epoch 050: | Train Loss: 1.332 | Val Loss: 1.1844 | Train F1: 0.2496| Val F1: 0.1176\n",
      "Epoch 100: | Train Loss: 1.287 | Val Loss: 1.1571 | Train F1: 0.3085| Val F1: 0.1495\n",
      "Epoch 150: | Train Loss: 1.257 | Val Loss: 1.1456 | Train F1: 0.3694| Val F1: 0.1400\n",
      "Epoch 200: | Train Loss: 1.232 | Val Loss: 1.1393 | Train F1: 0.4441| Val F1: 0.1319\n",
      "Epoch 250: | Train Loss: 1.214 | Val Loss: 1.1358 | Train F1: 0.4389| Val F1: 0.1481\n",
      "Epoch 300: | Train Loss: 1.198 | Val Loss: 1.1315 | Train F1: 0.4740| Val F1: 0.1429\n",
      "Epoch 350: | Train Loss: 1.185 | Val Loss: 1.1282 | Train F1: 0.5150| Val F1: 0.1519\n",
      "Epoch 400: | Train Loss: 1.171 | Val Loss: 1.1241 | Train F1: 0.5117| Val F1: 0.1333\n",
      "Epoch 450: | Train Loss: 1.158 | Val Loss: 1.1212 | Train F1: 0.5327| Val F1: 0.1316\n",
      "Early stopping at epoch 471\n",
      "Accuracy: 0.9103641456582633\n",
      "Precision: 0.10869565217391304\n",
      "Recall: 0.17857142857142858\n",
      "F1: 0.13513513513513514\n"
     ]
    },
    {
     "data": {
      "application/vnd.jupyter.widget-view+json": {
       "model_id": "b7b30482395f4f9aa1ba30e93304a0ae",
       "version_major": 2,
       "version_minor": 0
      },
      "text/plain": [
       "  0%|          | 0/1000 [00:00<?, ?it/s]"
      ]
     },
     "metadata": {},
     "output_type": "display_data"
    },
    {
     "name": "stdout",
     "output_type": "stream",
     "text": [
      "Epoch 050: | Train Loss: 1.286 | Val Loss: 1.3395 | Train F1: 0.2515| Val F1: 0.1481\n",
      "Epoch 100: | Train Loss: 1.241 | Val Loss: 1.3331 | Train F1: 0.3614| Val F1: 0.1205\n",
      "Early stopping at epoch 116\n",
      "Accuracy: 0.896358543417367\n",
      "Precision: 0.11904761904761904\n",
      "Recall: 0.11904761904761904\n",
      "F1: 0.11904761904761904\n"
     ]
    },
    {
     "data": {
      "application/vnd.jupyter.widget-view+json": {
       "model_id": "2e0d4f87f2a24e81a373af527af2928d",
       "version_major": 2,
       "version_minor": 0
      },
      "text/plain": [
       "  0%|          | 0/1000 [00:00<?, ?it/s]"
      ]
     },
     "metadata": {},
     "output_type": "display_data"
    },
    {
     "name": "stdout",
     "output_type": "stream",
     "text": [
      "Epoch 050: | Train Loss: 1.274 | Val Loss: 1.3895 | Train F1: 0.2759| Val F1: 0.1176\n",
      "Epoch 100: | Train Loss: 1.233 | Val Loss: 1.3827 | Train F1: 0.3531| Val F1: 0.0896\n",
      "Early stopping at epoch 128\n",
      "Accuracy: 0.9172510518934082\n",
      "Precision: 0.2\n",
      "Recall: 0.0851063829787234\n",
      "F1: 0.11940298507462686\n"
     ]
    },
    {
     "data": {
      "application/vnd.jupyter.widget-view+json": {
       "model_id": "54b08bbc573947a382134030dbdcad1c",
       "version_major": 2,
       "version_minor": 0
      },
      "text/plain": [
       "  0%|          | 0/1000 [00:00<?, ?it/s]"
      ]
     },
     "metadata": {},
     "output_type": "display_data"
    },
    {
     "name": "stdout",
     "output_type": "stream",
     "text": [
      "Epoch 050: | Train Loss: 1.368 | Val Loss: 1.3453 | Train F1: 0.1272| Val F1: 0.0862\n",
      "Epoch 100: | Train Loss: 1.355 | Val Loss: 1.3392 | Train F1: 0.1746| Val F1: 0.1105\n",
      "Epoch 150: | Train Loss: 1.347 | Val Loss: 1.3336 | Train F1: 0.1734| Val F1: 0.1216\n",
      "Epoch 200: | Train Loss: 1.339 | Val Loss: 1.3283 | Train F1: 0.1788| Val F1: 0.1250\n",
      "Epoch 250: | Train Loss: 1.328 | Val Loss: 1.3234 | Train F1: 0.2074| Val F1: 0.1273\n",
      "Epoch 300: | Train Loss: 1.324 | Val Loss: 1.3190 | Train F1: 0.2024| Val F1: 0.1176\n",
      "Epoch 350: | Train Loss: 1.314 | Val Loss: 1.3151 | Train F1: 0.2420| Val F1: 0.1224\n",
      "Epoch 400: | Train Loss: 1.308 | Val Loss: 1.3116 | Train F1: 0.2488| Val F1: 0.1250\n",
      "Epoch 450: | Train Loss: 1.297 | Val Loss: 1.3085 | Train F1: 0.2581| Val F1: 0.1290\n",
      "Epoch 500: | Train Loss: 1.297 | Val Loss: 1.3059 | Train F1: 0.2606| Val F1: 0.1333\n",
      "Epoch 550: | Train Loss: 1.285 | Val Loss: 1.3035 | Train F1: 0.2818| Val F1: 0.1163\n",
      "Epoch 600: | Train Loss: 1.286 | Val Loss: 1.3014 | Train F1: 0.2643| Val F1: 0.1149\n",
      "Epoch 650: | Train Loss: 1.276 | Val Loss: 1.2996 | Train F1: 0.2916| Val F1: 0.1149\n",
      "Epoch 700: | Train Loss: 1.275 | Val Loss: 1.2979 | Train F1: 0.2917| Val F1: 0.1136\n",
      "Epoch 750: | Train Loss: 1.269 | Val Loss: 1.2965 | Train F1: 0.2969| Val F1: 0.1149\n",
      "Epoch 800: | Train Loss: 1.262 | Val Loss: 1.2952 | Train F1: 0.3130| Val F1: 0.1149\n",
      "Epoch 850: | Train Loss: 1.261 | Val Loss: 1.2940 | Train F1: 0.3332| Val F1: 0.1205\n",
      "Epoch 900: | Train Loss: 1.264 | Val Loss: 1.2929 | Train F1: 0.3136| Val F1: 0.1220\n",
      "Epoch 950: | Train Loss: 1.256 | Val Loss: 1.2919 | Train F1: 0.3219| Val F1: 0.1205\n",
      "Epoch 1000: | Train Loss: 1.252 | Val Loss: 1.2910 | Train F1: 0.3411| Val F1: 0.1205\n",
      "Accuracy: 0.8977591036414566\n",
      "Precision: 0.1111111111111111\n",
      "Recall: 0.13157894736842105\n",
      "F1: 0.12048192771084337\n"
     ]
    },
    {
     "data": {
      "application/vnd.jupyter.widget-view+json": {
       "model_id": "c9ca6fcc63184c80b8e3f0d0cb3817dd",
       "version_major": 2,
       "version_minor": 0
      },
      "text/plain": [
       "  0%|          | 0/1000 [00:00<?, ?it/s]"
      ]
     },
     "metadata": {},
     "output_type": "display_data"
    },
    {
     "name": "stdout",
     "output_type": "stream",
     "text": [
      "Epoch 050: | Train Loss: 1.336 | Val Loss: 1.4300 | Train F1: 0.1085| Val F1: 0.1099\n",
      "Epoch 100: | Train Loss: 1.325 | Val Loss: 1.4260 | Train F1: 0.1472| Val F1: 0.1446\n",
      "Epoch 150: | Train Loss: 1.315 | Val Loss: 1.4227 | Train F1: 0.1450| Val F1: 0.1446\n",
      "Epoch 200: | Train Loss: 1.301 | Val Loss: 1.4199 | Train F1: 0.2108| Val F1: 0.1538\n",
      "Epoch 250: | Train Loss: 1.293 | Val Loss: 1.4175 | Train F1: 0.2230| Val F1: 0.1500\n",
      "Epoch 300: | Train Loss: 1.289 | Val Loss: 1.4152 | Train F1: 0.2279| Val F1: 0.1558\n",
      "Epoch 350: | Train Loss: 1.281 | Val Loss: 1.4133 | Train F1: 0.2470| Val F1: 0.1500\n",
      "Epoch 400: | Train Loss: 1.278 | Val Loss: 1.4113 | Train F1: 0.2568| Val F1: 0.1481\n",
      "Epoch 450: | Train Loss: 1.269 | Val Loss: 1.4096 | Train F1: 0.2751| Val F1: 0.1446\n",
      "Epoch 500: | Train Loss: 1.260 | Val Loss: 1.4081 | Train F1: 0.2742| Val F1: 0.1667\n",
      "Epoch 550: | Train Loss: 1.258 | Val Loss: 1.4068 | Train F1: 0.2941| Val F1: 0.1591\n",
      "Epoch 600: | Train Loss: 1.254 | Val Loss: 1.4057 | Train F1: 0.2955| Val F1: 0.1573\n",
      "Epoch 650: | Train Loss: 1.250 | Val Loss: 1.4048 | Train F1: 0.3153| Val F1: 0.1556\n",
      "Epoch 700: | Train Loss: 1.243 | Val Loss: 1.4040 | Train F1: 0.3100| Val F1: 0.1538\n",
      "Epoch 750: | Train Loss: 1.240 | Val Loss: 1.4032 | Train F1: 0.3300| Val F1: 0.1522\n",
      "Epoch 800: | Train Loss: 1.234 | Val Loss: 1.4026 | Train F1: 0.3458| Val F1: 0.1505\n",
      "Epoch 850: | Train Loss: 1.231 | Val Loss: 1.4020 | Train F1: 0.3531| Val F1: 0.1489\n",
      "Epoch 900: | Train Loss: 1.226 | Val Loss: 1.4015 | Train F1: 0.3658| Val F1: 0.1505\n",
      "Epoch 950: | Train Loss: 1.224 | Val Loss: 1.4010 | Train F1: 0.3676| Val F1: 0.1505\n",
      "Epoch 1000: | Train Loss: 1.220 | Val Loss: 1.4007 | Train F1: 0.3644| Val F1: 0.1489\n",
      "Accuracy: 0.8879551820728291\n",
      "Precision: 0.14893617021276595\n",
      "Recall: 0.14893617021276595\n",
      "F1: 0.14893617021276595\n"
     ]
    },
    {
     "data": {
      "application/vnd.jupyter.widget-view+json": {
       "model_id": "a3ed0bf8b05d47ceb1a5354cf489a5bc",
       "version_major": 2,
       "version_minor": 0
      },
      "text/plain": [
       "  0%|          | 0/1000 [00:00<?, ?it/s]"
      ]
     },
     "metadata": {},
     "output_type": "display_data"
    },
    {
     "name": "stdout",
     "output_type": "stream",
     "text": [
      "Epoch 050: | Train Loss: 1.394 | Val Loss: 1.2418 | Train F1: 0.1357| Val F1: 0.1111\n",
      "Epoch 100: | Train Loss: 1.385 | Val Loss: 1.2336 | Train F1: 0.1566| Val F1: 0.1096\n",
      "Epoch 150: | Train Loss: 1.375 | Val Loss: 1.2254 | Train F1: 0.1632| Val F1: 0.1212\n",
      "Epoch 200: | Train Loss: 1.364 | Val Loss: 1.2176 | Train F1: 0.1964| Val F1: 0.1257\n",
      "Epoch 250: | Train Loss: 1.359 | Val Loss: 1.2102 | Train F1: 0.1997| Val F1: 0.1447\n",
      "Epoch 300: | Train Loss: 1.351 | Val Loss: 1.2032 | Train F1: 0.2098| Val F1: 0.1389\n",
      "Epoch 350: | Train Loss: 1.341 | Val Loss: 1.1971 | Train F1: 0.2404| Val F1: 0.1333\n",
      "Epoch 400: | Train Loss: 1.336 | Val Loss: 1.1916 | Train F1: 0.2505| Val F1: 0.1353\n",
      "Epoch 450: | Train Loss: 1.330 | Val Loss: 1.1868 | Train F1: 0.2585| Val F1: 0.1374\n",
      "Epoch 500: | Train Loss: 1.325 | Val Loss: 1.1823 | Train F1: 0.2625| Val F1: 0.1417\n",
      "Epoch 550: | Train Loss: 1.317 | Val Loss: 1.1784 | Train F1: 0.2813| Val F1: 0.1463\n",
      "Epoch 600: | Train Loss: 1.313 | Val Loss: 1.1749 | Train F1: 0.2844| Val F1: 0.1333\n",
      "Epoch 650: | Train Loss: 1.310 | Val Loss: 1.1717 | Train F1: 0.2805| Val F1: 0.1333\n",
      "Epoch 700: | Train Loss: 1.301 | Val Loss: 1.1688 | Train F1: 0.3050| Val F1: 0.1333\n",
      "Epoch 750: | Train Loss: 1.302 | Val Loss: 1.1661 | Train F1: 0.3011| Val F1: 0.1356\n",
      "Epoch 800: | Train Loss: 1.296 | Val Loss: 1.1636 | Train F1: 0.2934| Val F1: 0.1368\n",
      "Epoch 850: | Train Loss: 1.293 | Val Loss: 1.1613 | Train F1: 0.3003| Val F1: 0.1404\n",
      "Epoch 900: | Train Loss: 1.289 | Val Loss: 1.1593 | Train F1: 0.3315| Val F1: 0.1441\n",
      "Epoch 950: | Train Loss: 1.286 | Val Loss: 1.1576 | Train F1: 0.3211| Val F1: 0.1468\n",
      "Epoch 1000: | Train Loss: 1.287 | Val Loss: 1.1559 | Train F1: 0.3338| Val F1: 0.1481\n",
      "Accuracy: 0.8711484593837535\n",
      "Precision: 0.1\n",
      "Recall: 0.2857142857142857\n",
      "F1: 0.14814814814814814\n"
     ]
    },
    {
     "data": {
      "application/vnd.jupyter.widget-view+json": {
       "model_id": "c7e20f3f1ccf49eb882ceb6763944be3",
       "version_major": 2,
       "version_minor": 0
      },
      "text/plain": [
       "  0%|          | 0/1000 [00:00<?, ?it/s]"
      ]
     },
     "metadata": {},
     "output_type": "display_data"
    },
    {
     "name": "stdout",
     "output_type": "stream",
     "text": [
      "Epoch 050: | Train Loss: 1.356 | Val Loss: 1.3795 | Train F1: 0.1410| Val F1: 0.1250\n",
      "Epoch 100: | Train Loss: 1.348 | Val Loss: 1.3730 | Train F1: 0.1433| Val F1: 0.0935\n",
      "Epoch 150: | Train Loss: 1.337 | Val Loss: 1.3671 | Train F1: 0.1790| Val F1: 0.1000\n",
      "Epoch 200: | Train Loss: 1.330 | Val Loss: 1.3618 | Train F1: 0.1851| Val F1: 0.1053\n",
      "Epoch 250: | Train Loss: 1.321 | Val Loss: 1.3570 | Train F1: 0.2351| Val F1: 0.1124\n",
      "Epoch 300: | Train Loss: 1.316 | Val Loss: 1.3528 | Train F1: 0.2163| Val F1: 0.1149\n",
      "Epoch 350: | Train Loss: 1.308 | Val Loss: 1.3491 | Train F1: 0.2469| Val F1: 0.1205\n",
      "Epoch 400: | Train Loss: 1.300 | Val Loss: 1.3461 | Train F1: 0.2198| Val F1: 0.0750\n",
      "Epoch 450: | Train Loss: 1.297 | Val Loss: 1.3436 | Train F1: 0.2228| Val F1: 0.0750\n",
      "Epoch 500: | Train Loss: 1.289 | Val Loss: 1.3414 | Train F1: 0.2517| Val F1: 0.1000\n",
      "Epoch 550: | Train Loss: 1.284 | Val Loss: 1.3397 | Train F1: 0.2594| Val F1: 0.1013\n",
      "Epoch 600: | Train Loss: 1.280 | Val Loss: 1.3383 | Train F1: 0.2623| Val F1: 0.0759\n",
      "Epoch 650: | Train Loss: 1.272 | Val Loss: 1.3371 | Train F1: 0.3048| Val F1: 0.0779\n",
      "Epoch 700: | Train Loss: 1.266 | Val Loss: 1.3361 | Train F1: 0.2973| Val F1: 0.0769\n",
      "Epoch 750: | Train Loss: 1.262 | Val Loss: 1.3353 | Train F1: 0.2725| Val F1: 0.0750\n",
      "Epoch 800: | Train Loss: 1.260 | Val Loss: 1.3348 | Train F1: 0.3140| Val F1: 0.0759\n",
      "Epoch 850: | Train Loss: 1.256 | Val Loss: 1.3343 | Train F1: 0.3167| Val F1: 0.0988\n",
      "Early stopping at epoch 893\n",
      "Accuracy: 0.896358543417367\n",
      "Precision: 0.1\n",
      "Recall: 0.09523809523809523\n",
      "F1: 0.0975609756097561\n"
     ]
    },
    {
     "data": {
      "application/vnd.jupyter.widget-view+json": {
       "model_id": "81cc2fb2da1d4a4292907405b59dd423",
       "version_major": 2,
       "version_minor": 0
      },
      "text/plain": [
       "  0%|          | 0/1000 [00:00<?, ?it/s]"
      ]
     },
     "metadata": {},
     "output_type": "display_data"
    },
    {
     "name": "stdout",
     "output_type": "stream",
     "text": [
      "Epoch 050: | Train Loss: 1.349 | Val Loss: 1.4306 | Train F1: 0.0920| Val F1: 0.1806\n",
      "Epoch 100: | Train Loss: 1.335 | Val Loss: 1.4228 | Train F1: 0.1262| Val F1: 0.1273\n",
      "Epoch 150: | Train Loss: 1.328 | Val Loss: 1.4165 | Train F1: 0.1443| Val F1: 0.0851\n",
      "Epoch 200: | Train Loss: 1.319 | Val Loss: 1.4116 | Train F1: 0.1809| Val F1: 0.0976\n",
      "Epoch 250: | Train Loss: 1.309 | Val Loss: 1.4076 | Train F1: 0.2034| Val F1: 0.1026\n",
      "Epoch 300: | Train Loss: 1.304 | Val Loss: 1.4044 | Train F1: 0.2152| Val F1: 0.1096\n",
      "Epoch 350: | Train Loss: 1.295 | Val Loss: 1.4017 | Train F1: 0.2194| Val F1: 0.1127\n",
      "Epoch 400: | Train Loss: 1.286 | Val Loss: 1.3994 | Train F1: 0.2454| Val F1: 0.1143\n",
      "Epoch 450: | Train Loss: 1.280 | Val Loss: 1.3975 | Train F1: 0.2392| Val F1: 0.0896\n",
      "Epoch 500: | Train Loss: 1.277 | Val Loss: 1.3960 | Train F1: 0.2862| Val F1: 0.0909\n",
      "Epoch 550: | Train Loss: 1.270 | Val Loss: 1.3947 | Train F1: 0.2692| Val F1: 0.0923\n",
      "Epoch 600: | Train Loss: 1.265 | Val Loss: 1.3936 | Train F1: 0.2693| Val F1: 0.0625\n",
      "Epoch 650: | Train Loss: 1.261 | Val Loss: 1.3928 | Train F1: 0.2575| Val F1: 0.0635\n",
      "Epoch 700: | Train Loss: 1.257 | Val Loss: 1.3921 | Train F1: 0.3261| Val F1: 0.0625\n",
      "Epoch 750: | Train Loss: 1.256 | Val Loss: 1.3916 | Train F1: 0.2919| Val F1: 0.0606\n",
      "Epoch 800: | Train Loss: 1.248 | Val Loss: 1.3912 | Train F1: 0.3052| Val F1: 0.0635\n",
      "Epoch 850: | Train Loss: 1.248 | Val Loss: 1.3909 | Train F1: 0.3240| Val F1: 0.0635\n",
      "Early stopping at epoch 876\n",
      "Accuracy: 0.9158485273492286\n",
      "Precision: 0.11764705882352941\n",
      "Recall: 0.0425531914893617\n",
      "F1: 0.0625\n"
     ]
    },
    {
     "data": {
      "application/vnd.jupyter.widget-view+json": {
       "model_id": "8c049937029d44d0bf8b9652be13a590",
       "version_major": 2,
       "version_minor": 0
      },
      "text/plain": [
       "  0%|          | 0/1000 [00:00<?, ?it/s]"
      ]
     },
     "metadata": {},
     "output_type": "display_data"
    },
    {
     "name": "stdout",
     "output_type": "stream",
     "text": [
      "Early stopping at epoch 20\n",
      "Accuracy: 0.8865546218487395\n",
      "Precision: 0.061224489795918366\n",
      "Recall: 0.07894736842105263\n",
      "F1: 0.06896551724137931\n"
     ]
    },
    {
     "data": {
      "application/vnd.jupyter.widget-view+json": {
       "model_id": "4bf82e13ffc347abb9c895407c1c180b",
       "version_major": 2,
       "version_minor": 0
      },
      "text/plain": [
       "  0%|          | 0/1000 [00:00<?, ?it/s]"
      ]
     },
     "metadata": {},
     "output_type": "display_data"
    },
    {
     "name": "stdout",
     "output_type": "stream",
     "text": [
      "Early stopping at epoch 12\n",
      "Accuracy: 0.8711484593837535\n",
      "Precision: 0.10526315789473684\n",
      "Recall: 0.1276595744680851\n",
      "F1: 0.11538461538461539\n"
     ]
    },
    {
     "data": {
      "application/vnd.jupyter.widget-view+json": {
       "model_id": "7b0ad2074f144750bd0297e3ece9a562",
       "version_major": 2,
       "version_minor": 0
      },
      "text/plain": [
       "  0%|          | 0/1000 [00:00<?, ?it/s]"
      ]
     },
     "metadata": {},
     "output_type": "display_data"
    },
    {
     "name": "stdout",
     "output_type": "stream",
     "text": [
      "Early stopping at epoch 28\n",
      "Accuracy: 0.876750700280112\n",
      "Precision: 0.058823529411764705\n",
      "Recall: 0.14285714285714285\n",
      "F1: 0.08333333333333333\n"
     ]
    },
    {
     "data": {
      "application/vnd.jupyter.widget-view+json": {
       "model_id": "4744e4915c7d41e69e98e6eca7f58b1f",
       "version_major": 2,
       "version_minor": 0
      },
      "text/plain": [
       "  0%|          | 0/1000 [00:00<?, ?it/s]"
      ]
     },
     "metadata": {},
     "output_type": "display_data"
    },
    {
     "name": "stdout",
     "output_type": "stream",
     "text": [
      "Early stopping at epoch 13\n",
      "Accuracy: 0.8823529411764706\n",
      "Precision: 0.08\n",
      "Recall: 0.09523809523809523\n",
      "F1: 0.08695652173913043\n"
     ]
    },
    {
     "data": {
      "application/vnd.jupyter.widget-view+json": {
       "model_id": "c422b754444747708a662edab03b366d",
       "version_major": 2,
       "version_minor": 0
      },
      "text/plain": [
       "  0%|          | 0/1000 [00:00<?, ?it/s]"
      ]
     },
     "metadata": {},
     "output_type": "display_data"
    },
    {
     "name": "stdout",
     "output_type": "stream",
     "text": [
      "Early stopping at epoch 15\n",
      "Accuracy: 0.906030855539972\n",
      "Precision: 0.08333333333333333\n",
      "Recall: 0.0425531914893617\n",
      "F1: 0.056338028169014086\n"
     ]
    },
    {
     "data": {
      "application/vnd.jupyter.widget-view+json": {
       "model_id": "759f5c035030497bba4f0d2ecf5d4c42",
       "version_major": 2,
       "version_minor": 0
      },
      "text/plain": [
       "  0%|          | 0/1000 [00:00<?, ?it/s]"
      ]
     },
     "metadata": {},
     "output_type": "display_data"
    },
    {
     "name": "stdout",
     "output_type": "stream",
     "text": [
      "Epoch 050: | Train Loss: 1.169 | Val Loss: 1.2756 | Train F1: 0.4912| Val F1: 0.0789\n",
      "Early stopping at epoch 52\n",
      "Accuracy: 0.9061624649859944\n",
      "Precision: 0.08571428571428572\n",
      "Recall: 0.07894736842105263\n",
      "F1: 0.0821917808219178\n"
     ]
    },
    {
     "data": {
      "application/vnd.jupyter.widget-view+json": {
       "model_id": "89c3caaeb3a14fe58d987a864f94ab50",
       "version_major": 2,
       "version_minor": 0
      },
      "text/plain": [
       "  0%|          | 0/1000 [00:00<?, ?it/s]"
      ]
     },
     "metadata": {},
     "output_type": "display_data"
    },
    {
     "name": "stdout",
     "output_type": "stream",
     "text": [
      "Early stopping at epoch 42\n",
      "Accuracy: 0.8809523809523809\n",
      "Precision: 0.1346153846153846\n",
      "Recall: 0.14893617021276595\n",
      "F1: 0.1414141414141414\n"
     ]
    },
    {
     "data": {
      "application/vnd.jupyter.widget-view+json": {
       "model_id": "7e96d75b1549499a8be091589c6502fc",
       "version_major": 2,
       "version_minor": 0
      },
      "text/plain": [
       "  0%|          | 0/1000 [00:00<?, ?it/s]"
      ]
     },
     "metadata": {},
     "output_type": "display_data"
    },
    {
     "name": "stdout",
     "output_type": "stream",
     "text": [
      "Epoch 050: | Train Loss: 1.197 | Val Loss: 1.1336 | Train F1: 0.4419| Val F1: 0.1379\n",
      "Early stopping at epoch 81\n",
      "Accuracy: 0.9089635854341737\n",
      "Precision: 0.10638297872340426\n",
      "Recall: 0.17857142857142858\n",
      "F1: 0.13333333333333333\n"
     ]
    },
    {
     "data": {
      "application/vnd.jupyter.widget-view+json": {
       "model_id": "9691f85385ec411ebc43dd60a7a7580e",
       "version_major": 2,
       "version_minor": 0
      },
      "text/plain": [
       "  0%|          | 0/1000 [00:00<?, ?it/s]"
      ]
     },
     "metadata": {},
     "output_type": "display_data"
    },
    {
     "name": "stdout",
     "output_type": "stream",
     "text": [
      "Early stopping at epoch 23\n",
      "Accuracy: 0.8921568627450981\n",
      "Precision: 0.1276595744680851\n",
      "Recall: 0.14285714285714285\n",
      "F1: 0.1348314606741573\n"
     ]
    },
    {
     "data": {
      "application/vnd.jupyter.widget-view+json": {
       "model_id": "4508cfd0dadd49c08319960857941585",
       "version_major": 2,
       "version_minor": 0
      },
      "text/plain": [
       "  0%|          | 0/1000 [00:00<?, ?it/s]"
      ]
     },
     "metadata": {},
     "output_type": "display_data"
    },
    {
     "name": "stdout",
     "output_type": "stream",
     "text": [
      "Early stopping at epoch 24\n",
      "Accuracy: 0.9018232819074333\n",
      "Precision: 0.07407407407407407\n",
      "Recall: 0.0425531914893617\n",
      "F1: 0.05405405405405406\n"
     ]
    },
    {
     "data": {
      "application/vnd.jupyter.widget-view+json": {
       "model_id": "7709accffb194b859b9f522a9af50353",
       "version_major": 2,
       "version_minor": 0
      },
      "text/plain": [
       "  0%|          | 0/1000 [00:00<?, ?it/s]"
      ]
     },
     "metadata": {},
     "output_type": "display_data"
    },
    {
     "name": "stdout",
     "output_type": "stream",
     "text": [
      "Epoch 050: | Train Loss: 1.323 | Val Loss: 1.3245 | Train F1: 0.1910| Val F1: 0.1350\n",
      "Epoch 100: | Train Loss: 1.281 | Val Loss: 1.3049 | Train F1: 0.2565| Val F1: 0.1273\n",
      "Epoch 150: | Train Loss: 1.264 | Val Loss: 1.2958 | Train F1: 0.2829| Val F1: 0.1346\n",
      "Epoch 200: | Train Loss: 1.237 | Val Loss: 1.2904 | Train F1: 0.3356| Val F1: 0.1386\n",
      "Epoch 250: | Train Loss: 1.225 | Val Loss: 1.2869 | Train F1: 0.3665| Val F1: 0.1474\n",
      "Epoch 300: | Train Loss: 1.209 | Val Loss: 1.2844 | Train F1: 0.3834| Val F1: 0.1489\n",
      "Epoch 350: | Train Loss: 1.201 | Val Loss: 1.2825 | Train F1: 0.4088| Val F1: 0.1591\n",
      "Epoch 400: | Train Loss: 1.188 | Val Loss: 1.2812 | Train F1: 0.4346| Val F1: 0.1412\n",
      "Early stopping at epoch 404\n",
      "Accuracy: 0.8991596638655462\n",
      "Precision: 0.11363636363636363\n",
      "Recall: 0.13157894736842105\n",
      "F1: 0.12195121951219512\n"
     ]
    },
    {
     "data": {
      "application/vnd.jupyter.widget-view+json": {
       "model_id": "023a58755ae74dc3a8861d4389ffe92e",
       "version_major": 2,
       "version_minor": 0
      },
      "text/plain": [
       "  0%|          | 0/1000 [00:00<?, ?it/s]"
      ]
     },
     "metadata": {},
     "output_type": "display_data"
    },
    {
     "name": "stdout",
     "output_type": "stream",
     "text": [
      "Epoch 050: | Train Loss: 1.285 | Val Loss: 1.4177 | Train F1: 0.2465| Val F1: 0.1042\n",
      "Epoch 100: | Train Loss: 1.243 | Val Loss: 1.4068 | Train F1: 0.3131| Val F1: 0.1386\n",
      "Epoch 150: | Train Loss: 1.220 | Val Loss: 1.4018 | Train F1: 0.3251| Val F1: 0.1308\n",
      "Epoch 200: | Train Loss: 1.202 | Val Loss: 1.4001 | Train F1: 0.3797| Val F1: 0.1296\n",
      "Early stopping at epoch 209\n",
      "Accuracy: 0.8697478991596639\n",
      "Precision: 0.11666666666666667\n",
      "Recall: 0.14893617021276595\n",
      "F1: 0.1308411214953271\n"
     ]
    },
    {
     "data": {
      "application/vnd.jupyter.widget-view+json": {
       "model_id": "6fbf7c723e2544c5a645117493553341",
       "version_major": 2,
       "version_minor": 0
      },
      "text/plain": [
       "  0%|          | 0/1000 [00:00<?, ?it/s]"
      ]
     },
     "metadata": {},
     "output_type": "display_data"
    },
    {
     "name": "stdout",
     "output_type": "stream",
     "text": [
      "Epoch 050: | Train Loss: 1.340 | Val Loss: 1.1947 | Train F1: 0.2162| Val F1: 0.1034\n",
      "Epoch 100: | Train Loss: 1.305 | Val Loss: 1.1701 | Train F1: 0.2760| Val F1: 0.1284\n",
      "Epoch 150: | Train Loss: 1.280 | Val Loss: 1.1568 | Train F1: 0.3313| Val F1: 0.1143\n",
      "Epoch 200: | Train Loss: 1.261 | Val Loss: 1.1488 | Train F1: 0.3464| Val F1: 0.1443\n",
      "Epoch 250: | Train Loss: 1.247 | Val Loss: 1.1449 | Train F1: 0.3887| Val F1: 0.1263\n",
      "Epoch 300: | Train Loss: 1.228 | Val Loss: 1.1419 | Train F1: 0.4249| Val F1: 0.1319\n",
      "Early stopping at epoch 344\n",
      "Accuracy: 0.8949579831932774\n",
      "Precision: 0.1016949152542373\n",
      "Recall: 0.21428571428571427\n",
      "F1: 0.13793103448275862\n"
     ]
    },
    {
     "data": {
      "application/vnd.jupyter.widget-view+json": {
       "model_id": "bf35f14209014debb30c02ca8ef2729d",
       "version_major": 2,
       "version_minor": 0
      },
      "text/plain": [
       "  0%|          | 0/1000 [00:00<?, ?it/s]"
      ]
     },
     "metadata": {},
     "output_type": "display_data"
    },
    {
     "name": "stdout",
     "output_type": "stream",
     "text": [
      "Epoch 050: | Train Loss: 1.304 | Val Loss: 1.3376 | Train F1: 0.2007| Val F1: 0.1573\n",
      "Epoch 100: | Train Loss: 1.265 | Val Loss: 1.3254 | Train F1: 0.3102| Val F1: 0.1720\n",
      "Early stopping at epoch 139\n",
      "Accuracy: 0.8949579831932774\n",
      "Precision: 0.13333333333333333\n",
      "Recall: 0.14285714285714285\n",
      "F1: 0.13793103448275862\n"
     ]
    },
    {
     "data": {
      "application/vnd.jupyter.widget-view+json": {
       "model_id": "33fe930c7e35408b96ce30dd5fc93443",
       "version_major": 2,
       "version_minor": 0
      },
      "text/plain": [
       "  0%|          | 0/1000 [00:00<?, ?it/s]"
      ]
     },
     "metadata": {},
     "output_type": "display_data"
    },
    {
     "name": "stdout",
     "output_type": "stream",
     "text": [
      "Epoch 050: | Train Loss: 1.300 | Val Loss: 1.3990 | Train F1: 0.2089| Val F1: 0.1379\n",
      "Epoch 100: | Train Loss: 1.261 | Val Loss: 1.3857 | Train F1: 0.2706| Val F1: 0.0896\n",
      "Epoch 150: | Train Loss: 1.231 | Val Loss: 1.3834 | Train F1: 0.3564| Val F1: 0.0857\n",
      "Early stopping at epoch 174\n",
      "Accuracy: 0.9102384291725105\n",
      "Precision: 0.09523809523809523\n",
      "Recall: 0.0425531914893617\n",
      "F1: 0.058823529411764705\n"
     ]
    },
    {
     "data": {
      "application/vnd.jupyter.widget-view+json": {
       "model_id": "4f3690f7be14455ea08aa88e42488ecb",
       "version_major": 2,
       "version_minor": 0
      },
      "text/plain": [
       "  0%|          | 0/1000 [00:00<?, ?it/s]"
      ]
     },
     "metadata": {},
     "output_type": "display_data"
    },
    {
     "name": "stdout",
     "output_type": "stream",
     "text": [
      "Epoch 050: | Train Loss: 1.373 | Val Loss: 1.3478 | Train F1: 0.1193| Val F1: 0.1038\n",
      "Epoch 100: | Train Loss: 1.364 | Val Loss: 1.3426 | Train F1: 0.1429| Val F1: 0.1172\n",
      "Epoch 150: | Train Loss: 1.360 | Val Loss: 1.3378 | Train F1: 0.1549| Val F1: 0.1345\n",
      "Epoch 200: | Train Loss: 1.353 | Val Loss: 1.3334 | Train F1: 0.1541| Val F1: 0.1386\n",
      "Epoch 250: | Train Loss: 1.345 | Val Loss: 1.3293 | Train F1: 0.1651| Val F1: 0.1081\n",
      "Epoch 300: | Train Loss: 1.338 | Val Loss: 1.3257 | Train F1: 0.1995| Val F1: 0.1183\n",
      "Epoch 350: | Train Loss: 1.332 | Val Loss: 1.3224 | Train F1: 0.1882| Val F1: 0.1299\n",
      "Epoch 400: | Train Loss: 1.327 | Val Loss: 1.3194 | Train F1: 0.2093| Val F1: 0.1379\n",
      "Epoch 450: | Train Loss: 1.325 | Val Loss: 1.3166 | Train F1: 0.2157| Val F1: 0.1304\n",
      "Epoch 500: | Train Loss: 1.312 | Val Loss: 1.3142 | Train F1: 0.2320| Val F1: 0.1364\n",
      "Epoch 550: | Train Loss: 1.312 | Val Loss: 1.3120 | Train F1: 0.2281| Val F1: 0.1406\n",
      "Epoch 600: | Train Loss: 1.306 | Val Loss: 1.3100 | Train F1: 0.2444| Val F1: 0.1270\n",
      "Epoch 650: | Train Loss: 1.305 | Val Loss: 1.3080 | Train F1: 0.2358| Val F1: 0.1167\n",
      "Epoch 700: | Train Loss: 1.299 | Val Loss: 1.3063 | Train F1: 0.2434| Val F1: 0.1197\n",
      "Epoch 750: | Train Loss: 1.296 | Val Loss: 1.3048 | Train F1: 0.2719| Val F1: 0.1207\n",
      "Epoch 800: | Train Loss: 1.291 | Val Loss: 1.3033 | Train F1: 0.2539| Val F1: 0.1261\n",
      "Epoch 850: | Train Loss: 1.284 | Val Loss: 1.3019 | Train F1: 0.2599| Val F1: 0.1273\n",
      "Epoch 900: | Train Loss: 1.284 | Val Loss: 1.3007 | Train F1: 0.2788| Val F1: 0.1296\n",
      "Epoch 950: | Train Loss: 1.277 | Val Loss: 1.2996 | Train F1: 0.2823| Val F1: 0.1321\n",
      "Epoch 1000: | Train Loss: 1.277 | Val Loss: 1.2985 | Train F1: 0.2897| Val F1: 0.1333\n",
      "Accuracy: 0.8725490196078431\n",
      "Precision: 0.1044776119402985\n",
      "Recall: 0.18421052631578946\n",
      "F1: 0.13333333333333333\n"
     ]
    },
    {
     "data": {
      "application/vnd.jupyter.widget-view+json": {
       "model_id": "9dfcd1cbdb6e430cb7db171945bae52c",
       "version_major": 2,
       "version_minor": 0
      },
      "text/plain": [
       "  0%|          | 0/1000 [00:00<?, ?it/s]"
      ]
     },
     "metadata": {},
     "output_type": "display_data"
    },
    {
     "name": "stdout",
     "output_type": "stream",
     "text": [
      "Epoch 050: | Train Loss: 1.349 | Val Loss: 1.4358 | Train F1: 0.1246| Val F1: 0.1383\n",
      "Epoch 100: | Train Loss: 1.341 | Val Loss: 1.4330 | Train F1: 0.1412| Val F1: 0.1538\n",
      "Epoch 150: | Train Loss: 1.334 | Val Loss: 1.4307 | Train F1: 0.1430| Val F1: 0.1538\n",
      "Epoch 200: | Train Loss: 1.328 | Val Loss: 1.4287 | Train F1: 0.1875| Val F1: 0.0893\n",
      "Epoch 250: | Train Loss: 1.319 | Val Loss: 1.4267 | Train F1: 0.2030| Val F1: 0.1165\n",
      "Epoch 300: | Train Loss: 1.310 | Val Loss: 1.4249 | Train F1: 0.1973| Val F1: 0.1000\n",
      "Epoch 350: | Train Loss: 1.304 | Val Loss: 1.4232 | Train F1: 0.2229| Val F1: 0.0833\n",
      "Epoch 400: | Train Loss: 1.296 | Val Loss: 1.4216 | Train F1: 0.2276| Val F1: 0.1020\n",
      "Epoch 450: | Train Loss: 1.293 | Val Loss: 1.4200 | Train F1: 0.2379| Val F1: 0.1031\n",
      "Epoch 500: | Train Loss: 1.286 | Val Loss: 1.4186 | Train F1: 0.2530| Val F1: 0.1031\n",
      "Epoch 550: | Train Loss: 1.282 | Val Loss: 1.4172 | Train F1: 0.2526| Val F1: 0.1042\n",
      "Epoch 600: | Train Loss: 1.279 | Val Loss: 1.4159 | Train F1: 0.2477| Val F1: 0.1237\n",
      "Epoch 650: | Train Loss: 1.277 | Val Loss: 1.4146 | Train F1: 0.2348| Val F1: 0.1212\n",
      "Epoch 700: | Train Loss: 1.270 | Val Loss: 1.4136 | Train F1: 0.2451| Val F1: 0.1212\n",
      "Epoch 750: | Train Loss: 1.266 | Val Loss: 1.4125 | Train F1: 0.2737| Val F1: 0.1212\n",
      "Epoch 800: | Train Loss: 1.268 | Val Loss: 1.4115 | Train F1: 0.2655| Val F1: 0.1200\n",
      "Epoch 850: | Train Loss: 1.260 | Val Loss: 1.4105 | Train F1: 0.3027| Val F1: 0.1200\n",
      "Epoch 900: | Train Loss: 1.252 | Val Loss: 1.4096 | Train F1: 0.3000| Val F1: 0.1176\n",
      "Epoch 950: | Train Loss: 1.252 | Val Loss: 1.4088 | Train F1: 0.2777| Val F1: 0.1143\n",
      "Epoch 1000: | Train Loss: 1.245 | Val Loss: 1.4081 | Train F1: 0.3044| Val F1: 0.1143\n",
      "Accuracy: 0.8697478991596639\n",
      "Precision: 0.10344827586206896\n",
      "Recall: 0.1276595744680851\n",
      "F1: 0.11428571428571428\n"
     ]
    },
    {
     "data": {
      "application/vnd.jupyter.widget-view+json": {
       "model_id": "158e236c74c1400d906def57109a2267",
       "version_major": 2,
       "version_minor": 0
      },
      "text/plain": [
       "  0%|          | 0/1000 [00:00<?, ?it/s]"
      ]
     },
     "metadata": {},
     "output_type": "display_data"
    },
    {
     "name": "stdout",
     "output_type": "stream",
     "text": [
      "Epoch 050: | Train Loss: 1.404 | Val Loss: 1.2504 | Train F1: 0.1156| Val F1: 0.1020\n",
      "Epoch 100: | Train Loss: 1.393 | Val Loss: 1.2437 | Train F1: 0.1242| Val F1: 0.0972\n",
      "Epoch 150: | Train Loss: 1.388 | Val Loss: 1.2370 | Train F1: 0.1422| Val F1: 0.0927\n",
      "Epoch 200: | Train Loss: 1.381 | Val Loss: 1.2304 | Train F1: 0.1669| Val F1: 0.1039\n",
      "Epoch 250: | Train Loss: 1.379 | Val Loss: 1.2239 | Train F1: 0.1443| Val F1: 0.1256\n",
      "Epoch 300: | Train Loss: 1.367 | Val Loss: 1.2178 | Train F1: 0.1878| Val F1: 0.1290\n",
      "Epoch 350: | Train Loss: 1.364 | Val Loss: 1.2120 | Train F1: 0.1773| Val F1: 0.1170\n",
      "Epoch 400: | Train Loss: 1.360 | Val Loss: 1.2066 | Train F1: 0.2047| Val F1: 0.1266\n",
      "Epoch 450: | Train Loss: 1.354 | Val Loss: 1.2015 | Train F1: 0.2020| Val F1: 0.1307\n",
      "Epoch 500: | Train Loss: 1.348 | Val Loss: 1.1969 | Train F1: 0.2186| Val F1: 0.1361\n",
      "Epoch 550: | Train Loss: 1.344 | Val Loss: 1.1927 | Train F1: 0.2252| Val F1: 0.1408\n",
      "Epoch 600: | Train Loss: 1.339 | Val Loss: 1.1887 | Train F1: 0.2262| Val F1: 0.1575\n",
      "Epoch 650: | Train Loss: 1.337 | Val Loss: 1.1851 | Train F1: 0.2431| Val F1: 0.1452\n",
      "Epoch 700: | Train Loss: 1.330 | Val Loss: 1.1818 | Train F1: 0.2596| Val F1: 0.1463\n",
      "Epoch 750: | Train Loss: 1.332 | Val Loss: 1.1786 | Train F1: 0.2723| Val F1: 0.1513\n",
      "Epoch 800: | Train Loss: 1.322 | Val Loss: 1.1758 | Train F1: 0.2690| Val F1: 0.1513\n",
      "Epoch 850: | Train Loss: 1.318 | Val Loss: 1.1731 | Train F1: 0.2644| Val F1: 0.1538\n",
      "Epoch 900: | Train Loss: 1.311 | Val Loss: 1.1705 | Train F1: 0.2969| Val F1: 0.1579\n",
      "Epoch 950: | Train Loss: 1.310 | Val Loss: 1.1682 | Train F1: 0.3014| Val F1: 0.1579\n",
      "Epoch 1000: | Train Loss: 1.312 | Val Loss: 1.1660 | Train F1: 0.2987| Val F1: 0.1622\n",
      "Accuracy: 0.8697478991596639\n",
      "Precision: 0.10843373493975904\n",
      "Recall: 0.32142857142857145\n",
      "F1: 0.16216216216216217\n"
     ]
    },
    {
     "data": {
      "application/vnd.jupyter.widget-view+json": {
       "model_id": "4c024eb595af41eab444610d42521628",
       "version_major": 2,
       "version_minor": 0
      },
      "text/plain": [
       "  0%|          | 0/1000 [00:00<?, ?it/s]"
      ]
     },
     "metadata": {},
     "output_type": "display_data"
    },
    {
     "name": "stdout",
     "output_type": "stream",
     "text": [
      "Epoch 050: | Train Loss: 1.361 | Val Loss: 1.3803 | Train F1: 0.1343| Val F1: 0.1372\n",
      "Epoch 100: | Train Loss: 1.355 | Val Loss: 1.3744 | Train F1: 0.1456| Val F1: 0.1674\n",
      "Epoch 150: | Train Loss: 1.346 | Val Loss: 1.3693 | Train F1: 0.1546| Val F1: 0.1683\n",
      "Epoch 200: | Train Loss: 1.341 | Val Loss: 1.3648 | Train F1: 0.1648| Val F1: 0.1809\n",
      "Epoch 250: | Train Loss: 1.335 | Val Loss: 1.3607 | Train F1: 0.1902| Val F1: 0.2012\n",
      "Epoch 300: | Train Loss: 1.331 | Val Loss: 1.3569 | Train F1: 0.1778| Val F1: 0.2252\n",
      "Epoch 350: | Train Loss: 1.322 | Val Loss: 1.3535 | Train F1: 0.2044| Val F1: 0.2302\n",
      "Epoch 400: | Train Loss: 1.319 | Val Loss: 1.3504 | Train F1: 0.1803| Val F1: 0.2290\n",
      "Epoch 450: | Train Loss: 1.314 | Val Loss: 1.3475 | Train F1: 0.2207| Val F1: 0.1983\n",
      "Epoch 500: | Train Loss: 1.308 | Val Loss: 1.3450 | Train F1: 0.2369| Val F1: 0.2034\n",
      "Epoch 550: | Train Loss: 1.300 | Val Loss: 1.3426 | Train F1: 0.2520| Val F1: 0.2018\n",
      "Epoch 600: | Train Loss: 1.300 | Val Loss: 1.3406 | Train F1: 0.2355| Val F1: 0.1714\n",
      "Epoch 650: | Train Loss: 1.293 | Val Loss: 1.3387 | Train F1: 0.2683| Val F1: 0.1386\n",
      "Epoch 700: | Train Loss: 1.291 | Val Loss: 1.3371 | Train F1: 0.2727| Val F1: 0.1386\n",
      "Epoch 750: | Train Loss: 1.286 | Val Loss: 1.3356 | Train F1: 0.2711| Val F1: 0.1212\n",
      "Epoch 800: | Train Loss: 1.282 | Val Loss: 1.3343 | Train F1: 0.2709| Val F1: 0.1237\n",
      "Epoch 850: | Train Loss: 1.278 | Val Loss: 1.3331 | Train F1: 0.3040| Val F1: 0.1064\n",
      "Epoch 900: | Train Loss: 1.272 | Val Loss: 1.3320 | Train F1: 0.2826| Val F1: 0.1290\n",
      "Epoch 950: | Train Loss: 1.274 | Val Loss: 1.3310 | Train F1: 0.2965| Val F1: 0.1290\n",
      "Epoch 1000: | Train Loss: 1.268 | Val Loss: 1.3302 | Train F1: 0.3294| Val F1: 0.1099\n",
      "Accuracy: 0.8865546218487395\n",
      "Precision: 0.10204081632653061\n",
      "Recall: 0.11904761904761904\n",
      "F1: 0.10989010989010989\n"
     ]
    },
    {
     "data": {
      "application/vnd.jupyter.widget-view+json": {
       "model_id": "60f3fe4dc88e49c3b579f112d7a54a86",
       "version_major": 2,
       "version_minor": 0
      },
      "text/plain": [
       "  0%|          | 0/1000 [00:00<?, ?it/s]"
      ]
     },
     "metadata": {},
     "output_type": "display_data"
    },
    {
     "name": "stdout",
     "output_type": "stream",
     "text": [
      "Epoch 050: | Train Loss: 1.350 | Val Loss: 1.4307 | Train F1: 0.1100| Val F1: 0.1641\n",
      "Epoch 100: | Train Loss: 1.342 | Val Loss: 1.4260 | Train F1: 0.1243| Val F1: 0.1677\n",
      "Epoch 150: | Train Loss: 1.337 | Val Loss: 1.4217 | Train F1: 0.1458| Val F1: 0.1429\n",
      "Epoch 200: | Train Loss: 1.330 | Val Loss: 1.4176 | Train F1: 0.1486| Val F1: 0.1416\n",
      "Epoch 250: | Train Loss: 1.325 | Val Loss: 1.4138 | Train F1: 0.1788| Val F1: 0.1000\n",
      "Epoch 300: | Train Loss: 1.318 | Val Loss: 1.4103 | Train F1: 0.1892| Val F1: 0.1111\n",
      "Epoch 350: | Train Loss: 1.308 | Val Loss: 1.4071 | Train F1: 0.2041| Val F1: 0.1136\n",
      "Epoch 400: | Train Loss: 1.306 | Val Loss: 1.4041 | Train F1: 0.1920| Val F1: 0.1163\n",
      "Epoch 450: | Train Loss: 1.301 | Val Loss: 1.4014 | Train F1: 0.2315| Val F1: 0.1220\n",
      "Epoch 500: | Train Loss: 1.298 | Val Loss: 1.3989 | Train F1: 0.2550| Val F1: 0.1282\n",
      "Epoch 550: | Train Loss: 1.293 | Val Loss: 1.3966 | Train F1: 0.2353| Val F1: 0.1282\n",
      "Epoch 600: | Train Loss: 1.291 | Val Loss: 1.3947 | Train F1: 0.2338| Val F1: 0.1333\n",
      "Epoch 650: | Train Loss: 1.282 | Val Loss: 1.3930 | Train F1: 0.2661| Val F1: 0.1351\n",
      "Epoch 700: | Train Loss: 1.278 | Val Loss: 1.3915 | Train F1: 0.2532| Val F1: 0.1111\n",
      "Epoch 750: | Train Loss: 1.277 | Val Loss: 1.3902 | Train F1: 0.2695| Val F1: 0.0845\n",
      "Epoch 800: | Train Loss: 1.270 | Val Loss: 1.3890 | Train F1: 0.2440| Val F1: 0.0845\n",
      "Epoch 850: | Train Loss: 1.263 | Val Loss: 1.3880 | Train F1: 0.2985| Val F1: 0.0845\n",
      "Epoch 900: | Train Loss: 1.265 | Val Loss: 1.3870 | Train F1: 0.3063| Val F1: 0.0833\n",
      "Epoch 950: | Train Loss: 1.263 | Val Loss: 1.3863 | Train F1: 0.2641| Val F1: 0.0833\n",
      "Epoch 1000: | Train Loss: 1.255 | Val Loss: 1.3856 | Train F1: 0.2780| Val F1: 0.0833\n",
      "Accuracy: 0.9074333800841514\n",
      "Precision: 0.12\n",
      "Recall: 0.06382978723404255\n",
      "F1: 0.08333333333333333\n"
     ]
    },
    {
     "data": {
      "application/vnd.jupyter.widget-view+json": {
       "model_id": "f15104f4a9824ec3a89589f1be876161",
       "version_major": 2,
       "version_minor": 0
      },
      "text/plain": [
       "  0%|          | 0/1000 [00:00<?, ?it/s]"
      ]
     },
     "metadata": {},
     "output_type": "display_data"
    },
    {
     "name": "stdout",
     "output_type": "stream",
     "text": [
      "Early stopping at epoch 15\n",
      "Accuracy: 0.9047619047619048\n",
      "Precision: 0.10526315789473684\n",
      "Recall: 0.10526315789473684\n",
      "F1: 0.10526315789473684\n"
     ]
    },
    {
     "data": {
      "application/vnd.jupyter.widget-view+json": {
       "model_id": "4c97e9787898406dbd34026f7300a689",
       "version_major": 2,
       "version_minor": 0
      },
      "text/plain": [
       "  0%|          | 0/1000 [00:00<?, ?it/s]"
      ]
     },
     "metadata": {},
     "output_type": "display_data"
    },
    {
     "name": "stdout",
     "output_type": "stream",
     "text": [
      "Early stopping at epoch 21\n",
      "Accuracy: 0.8711484593837535\n",
      "Precision: 0.09090909090909091\n",
      "Recall: 0.10638297872340426\n",
      "F1: 0.09803921568627451\n"
     ]
    },
    {
     "data": {
      "application/vnd.jupyter.widget-view+json": {
       "model_id": "5d87d7a96c4c439da03f631c0492d7b3",
       "version_major": 2,
       "version_minor": 0
      },
      "text/plain": [
       "  0%|          | 0/1000 [00:00<?, ?it/s]"
      ]
     },
     "metadata": {},
     "output_type": "display_data"
    },
    {
     "name": "stdout",
     "output_type": "stream",
     "text": [
      "Epoch 050: | Train Loss: 1.196 | Val Loss: 1.1146 | Train F1: 0.4729| Val F1: 0.1644\n",
      "Early stopping at epoch 68\n",
      "Accuracy: 0.9187675070028011\n",
      "Precision: 0.125\n",
      "Recall: 0.17857142857142858\n",
      "F1: 0.14705882352941177\n"
     ]
    },
    {
     "data": {
      "application/vnd.jupyter.widget-view+json": {
       "model_id": "b0f77eff6b1f4f08b435b5453a6334b1",
       "version_major": 2,
       "version_minor": 0
      },
      "text/plain": [
       "  0%|          | 0/1000 [00:00<?, ?it/s]"
      ]
     },
     "metadata": {},
     "output_type": "display_data"
    },
    {
     "name": "stdout",
     "output_type": "stream",
     "text": [
      "Early stopping at epoch 12\n",
      "Accuracy: 0.8557422969187675\n",
      "Precision: 0.07042253521126761\n",
      "Recall: 0.11904761904761904\n",
      "F1: 0.08849557522123894\n"
     ]
    },
    {
     "data": {
      "application/vnd.jupyter.widget-view+json": {
       "model_id": "a970b710e1a248daa4ab83b1e9052b26",
       "version_major": 2,
       "version_minor": 0
      },
      "text/plain": [
       "  0%|          | 0/1000 [00:00<?, ?it/s]"
      ]
     },
     "metadata": {},
     "output_type": "display_data"
    },
    {
     "name": "stdout",
     "output_type": "stream",
     "text": [
      "Early stopping at epoch 15\n",
      "Accuracy: 0.9102384291725105\n",
      "Precision: 0.16\n",
      "Recall: 0.0851063829787234\n",
      "F1: 0.1111111111111111\n"
     ]
    },
    {
     "data": {
      "application/vnd.jupyter.widget-view+json": {
       "model_id": "f2b21024248440e5b6db14581e94babd",
       "version_major": 2,
       "version_minor": 0
      },
      "text/plain": [
       "  0%|          | 0/1000 [00:00<?, ?it/s]"
      ]
     },
     "metadata": {},
     "output_type": "display_data"
    },
    {
     "name": "stdout",
     "output_type": "stream",
     "text": [
      "Epoch 050: | Train Loss: 1.199 | Val Loss: 1.2801 | Train F1: 0.4179| Val F1: 0.1205\n",
      "Early stopping at epoch 93\n",
      "Accuracy: 0.9103641456582633\n",
      "Precision: 0.09375\n",
      "Recall: 0.07894736842105263\n",
      "F1: 0.08571428571428572\n"
     ]
    },
    {
     "data": {
      "application/vnd.jupyter.widget-view+json": {
       "model_id": "9ffc5de52c39407888c27342b64f517d",
       "version_major": 2,
       "version_minor": 0
      },
      "text/plain": [
       "  0%|          | 0/1000 [00:00<?, ?it/s]"
      ]
     },
     "metadata": {},
     "output_type": "display_data"
    },
    {
     "name": "stdout",
     "output_type": "stream",
     "text": [
      "Early stopping at epoch 33\n",
      "Accuracy: 0.8795518207282913\n",
      "Precision: 0.1320754716981132\n",
      "Recall: 0.14893617021276595\n",
      "F1: 0.14\n"
     ]
    },
    {
     "data": {
      "application/vnd.jupyter.widget-view+json": {
       "model_id": "aebff7d1b16e4d6cbc97b2e032d5e29c",
       "version_major": 2,
       "version_minor": 0
      },
      "text/plain": [
       "  0%|          | 0/1000 [00:00<?, ?it/s]"
      ]
     },
     "metadata": {},
     "output_type": "display_data"
    },
    {
     "name": "stdout",
     "output_type": "stream",
     "text": [
      "Epoch 050: | Train Loss: 1.233 | Val Loss: 1.1352 | Train F1: 0.3932| Val F1: 0.1010\n",
      "Early stopping at epoch 66\n",
      "Accuracy: 0.8739495798319328\n",
      "Precision: 0.06944444444444445\n",
      "Recall: 0.17857142857142858\n",
      "F1: 0.1\n"
     ]
    },
    {
     "data": {
      "application/vnd.jupyter.widget-view+json": {
       "model_id": "12261960bd474b419c005f096b19f908",
       "version_major": 2,
       "version_minor": 0
      },
      "text/plain": [
       "  0%|          | 0/1000 [00:00<?, ?it/s]"
      ]
     },
     "metadata": {},
     "output_type": "display_data"
    },
    {
     "name": "stdout",
     "output_type": "stream",
     "text": [
      "Early stopping at epoch 33\n",
      "Accuracy: 0.8879551820728291\n",
      "Precision: 0.1346153846153846\n",
      "Recall: 0.16666666666666666\n",
      "F1: 0.14893617021276595\n"
     ]
    },
    {
     "data": {
      "application/vnd.jupyter.widget-view+json": {
       "model_id": "3db09603b0d14cd08e342d762cacf62b",
       "version_major": 2,
       "version_minor": 0
      },
      "text/plain": [
       "  0%|          | 0/1000 [00:00<?, ?it/s]"
      ]
     },
     "metadata": {},
     "output_type": "display_data"
    },
    {
     "name": "stdout",
     "output_type": "stream",
     "text": [
      "Early stopping at epoch 28\n",
      "Accuracy: 0.9074333800841514\n",
      "Precision: 0.1935483870967742\n",
      "Recall: 0.1276595744680851\n",
      "F1: 0.15384615384615385\n"
     ]
    },
    {
     "data": {
      "application/vnd.jupyter.widget-view+json": {
       "model_id": "d19582dc393d4e0f8e1a4b440ceb41c3",
       "version_major": 2,
       "version_minor": 0
      },
      "text/plain": [
       "  0%|          | 0/1000 [00:00<?, ?it/s]"
      ]
     },
     "metadata": {},
     "output_type": "display_data"
    },
    {
     "name": "stdout",
     "output_type": "stream",
     "text": [
      "Epoch 050: | Train Loss: 1.327 | Val Loss: 1.3193 | Train F1: 0.1807| Val F1: 0.1111\n",
      "Epoch 100: | Train Loss: 1.290 | Val Loss: 1.3038 | Train F1: 0.2538| Val F1: 0.1333\n",
      "Epoch 150: | Train Loss: 1.266 | Val Loss: 1.2943 | Train F1: 0.2867| Val F1: 0.1458\n",
      "Epoch 200: | Train Loss: 1.254 | Val Loss: 1.2881 | Train F1: 0.3275| Val F1: 0.1522\n",
      "Epoch 250: | Train Loss: 1.239 | Val Loss: 1.2833 | Train F1: 0.3529| Val F1: 0.1573\n",
      "Epoch 300: | Train Loss: 1.225 | Val Loss: 1.2796 | Train F1: 0.3658| Val F1: 0.1395\n",
      "Epoch 350: | Train Loss: 1.217 | Val Loss: 1.2769 | Train F1: 0.3771| Val F1: 0.1446\n",
      "Epoch 400: | Train Loss: 1.214 | Val Loss: 1.2748 | Train F1: 0.3758| Val F1: 0.1481\n",
      "Epoch 450: | Train Loss: 1.205 | Val Loss: 1.2737 | Train F1: 0.4091| Val F1: 0.1282\n",
      "Epoch 500: | Train Loss: 1.193 | Val Loss: 1.2726 | Train F1: 0.4165| Val F1: 0.1250\n",
      "Early stopping at epoch 545\n",
      "Accuracy: 0.907563025210084\n",
      "Precision: 0.13157894736842105\n",
      "Recall: 0.13157894736842105\n",
      "F1: 0.13157894736842105\n"
     ]
    },
    {
     "data": {
      "application/vnd.jupyter.widget-view+json": {
       "model_id": "bbc4142c12474a4c961fda9227ceca8f",
       "version_major": 2,
       "version_minor": 0
      },
      "text/plain": [
       "  0%|          | 0/1000 [00:00<?, ?it/s]"
      ]
     },
     "metadata": {},
     "output_type": "display_data"
    },
    {
     "name": "stdout",
     "output_type": "stream",
     "text": [
      "Epoch 050: | Train Loss: 1.303 | Val Loss: 1.4218 | Train F1: 0.1962| Val F1: 0.1296\n",
      "Epoch 100: | Train Loss: 1.272 | Val Loss: 1.4142 | Train F1: 0.2685| Val F1: 0.1217\n",
      "Epoch 150: | Train Loss: 1.249 | Val Loss: 1.4102 | Train F1: 0.2795| Val F1: 0.1167\n",
      "Early stopping at epoch 194\n",
      "Accuracy: 0.8529411764705882\n",
      "Precision: 0.09722222222222222\n",
      "Recall: 0.14893617021276595\n",
      "F1: 0.11764705882352941\n"
     ]
    },
    {
     "data": {
      "application/vnd.jupyter.widget-view+json": {
       "model_id": "05f794a6a2b04c2ebc77fda09dac595c",
       "version_major": 2,
       "version_minor": 0
      },
      "text/plain": [
       "  0%|          | 0/1000 [00:00<?, ?it/s]"
      ]
     },
     "metadata": {},
     "output_type": "display_data"
    },
    {
     "name": "stdout",
     "output_type": "stream",
     "text": [
      "Epoch 050: | Train Loss: 1.364 | Val Loss: 1.2156 | Train F1: 0.2032| Val F1: 0.1208\n",
      "Epoch 100: | Train Loss: 1.333 | Val Loss: 1.1880 | Train F1: 0.2469| Val F1: 0.1061\n",
      "Epoch 150: | Train Loss: 1.311 | Val Loss: 1.1716 | Train F1: 0.2649| Val F1: 0.1077\n",
      "Epoch 200: | Train Loss: 1.293 | Val Loss: 1.1614 | Train F1: 0.2772| Val F1: 0.1301\n",
      "Epoch 250: | Train Loss: 1.283 | Val Loss: 1.1561 | Train F1: 0.2932| Val F1: 0.1167\n",
      "Epoch 300: | Train Loss: 1.266 | Val Loss: 1.1505 | Train F1: 0.3388| Val F1: 0.1250\n",
      "Epoch 350: | Train Loss: 1.261 | Val Loss: 1.1463 | Train F1: 0.3369| Val F1: 0.1273\n",
      "Epoch 400: | Train Loss: 1.248 | Val Loss: 1.1436 | Train F1: 0.3685| Val F1: 0.1132\n",
      "Epoch 450: | Train Loss: 1.237 | Val Loss: 1.1413 | Train F1: 0.3690| Val F1: 0.1143\n",
      "Epoch 500: | Train Loss: 1.230 | Val Loss: 1.1393 | Train F1: 0.3993| Val F1: 0.1188\n",
      "Early stopping at epoch 508\n",
      "Accuracy: 0.876750700280112\n",
      "Precision: 0.08333333333333333\n",
      "Recall: 0.21428571428571427\n",
      "F1: 0.12\n"
     ]
    },
    {
     "data": {
      "application/vnd.jupyter.widget-view+json": {
       "model_id": "ddbde8d6767e459d8b38ad8c6f30ed48",
       "version_major": 2,
       "version_minor": 0
      },
      "text/plain": [
       "  0%|          | 0/1000 [00:00<?, ?it/s]"
      ]
     },
     "metadata": {},
     "output_type": "display_data"
    },
    {
     "name": "stdout",
     "output_type": "stream",
     "text": [
      "Epoch 050: | Train Loss: 1.329 | Val Loss: 1.3636 | Train F1: 0.1761| Val F1: 0.1176\n",
      "Epoch 100: | Train Loss: 1.295 | Val Loss: 1.3435 | Train F1: 0.2244| Val F1: 0.1391\n",
      "Epoch 150: | Train Loss: 1.269 | Val Loss: 1.3359 | Train F1: 0.2546| Val F1: 0.1346\n",
      "Epoch 200: | Train Loss: 1.245 | Val Loss: 1.3325 | Train F1: 0.3091| Val F1: 0.1400\n",
      "Early stopping at epoch 221\n",
      "Accuracy: 0.8781512605042017\n",
      "Precision: 0.10526315789473684\n",
      "Recall: 0.14285714285714285\n",
      "F1: 0.12121212121212122\n"
     ]
    },
    {
     "data": {
      "application/vnd.jupyter.widget-view+json": {
       "model_id": "3c06679335ab48bba26d68353c3cb7c9",
       "version_major": 2,
       "version_minor": 0
      },
      "text/plain": [
       "  0%|          | 0/1000 [00:00<?, ?it/s]"
      ]
     },
     "metadata": {},
     "output_type": "display_data"
    },
    {
     "name": "stdout",
     "output_type": "stream",
     "text": [
      "Epoch 050: | Train Loss: 1.320 | Val Loss: 1.4080 | Train F1: 0.1512| Val F1: 0.1806\n",
      "Epoch 100: | Train Loss: 1.287 | Val Loss: 1.3880 | Train F1: 0.2080| Val F1: 0.1684\n",
      "Epoch 150: | Train Loss: 1.257 | Val Loss: 1.3793 | Train F1: 0.2699| Val F1: 0.1429\n",
      "Epoch 200: | Train Loss: 1.249 | Val Loss: 1.3761 | Train F1: 0.2986| Val F1: 0.1667\n",
      "Early stopping at epoch 218\n",
      "Accuracy: 0.9046283309957924\n",
      "Precision: 0.2\n",
      "Recall: 0.14893617021276595\n",
      "F1: 0.17073170731707318\n"
     ]
    },
    {
     "data": {
      "application/vnd.jupyter.widget-view+json": {
       "model_id": "f9c69184edb842608fbc40efb5edde94",
       "version_major": 2,
       "version_minor": 0
      },
      "text/plain": [
       "  0%|          | 0/1000 [00:00<?, ?it/s]"
      ]
     },
     "metadata": {},
     "output_type": "display_data"
    },
    {
     "name": "stdout",
     "output_type": "stream",
     "text": [
      "Epoch 050: | Train Loss: 1.370 | Val Loss: 1.3451 | Train F1: 0.1199| Val F1: 0.1010\n",
      "Epoch 100: | Train Loss: 1.366 | Val Loss: 1.3428 | Train F1: 0.1283| Val F1: 0.1099\n",
      "Epoch 150: | Train Loss: 1.359 | Val Loss: 1.3403 | Train F1: 0.1486| Val F1: 0.1156\n",
      "Epoch 200: | Train Loss: 1.354 | Val Loss: 1.3380 | Train F1: 0.1562| Val F1: 0.1071\n",
      "Epoch 250: | Train Loss: 1.351 | Val Loss: 1.3357 | Train F1: 0.1764| Val F1: 0.1111\n",
      "Epoch 300: | Train Loss: 1.347 | Val Loss: 1.3335 | Train F1: 0.1783| Val F1: 0.1184\n",
      "Epoch 350: | Train Loss: 1.345 | Val Loss: 1.3313 | Train F1: 0.1661| Val F1: 0.1103\n",
      "Epoch 400: | Train Loss: 1.340 | Val Loss: 1.3293 | Train F1: 0.1757| Val F1: 0.1159\n",
      "Epoch 450: | Train Loss: 1.335 | Val Loss: 1.3273 | Train F1: 0.1732| Val F1: 0.1231\n",
      "Epoch 500: | Train Loss: 1.333 | Val Loss: 1.3255 | Train F1: 0.1892| Val F1: 0.1280\n",
      "Epoch 550: | Train Loss: 1.331 | Val Loss: 1.3237 | Train F1: 0.1918| Val F1: 0.1186\n",
      "Epoch 600: | Train Loss: 1.328 | Val Loss: 1.3220 | Train F1: 0.2032| Val F1: 0.1207\n",
      "Epoch 650: | Train Loss: 1.323 | Val Loss: 1.3203 | Train F1: 0.2142| Val F1: 0.1239\n",
      "Epoch 700: | Train Loss: 1.320 | Val Loss: 1.3187 | Train F1: 0.2459| Val F1: 0.1261\n",
      "Epoch 750: | Train Loss: 1.319 | Val Loss: 1.3171 | Train F1: 0.2252| Val F1: 0.1308\n",
      "Epoch 800: | Train Loss: 1.313 | Val Loss: 1.3157 | Train F1: 0.2318| Val F1: 0.1346\n",
      "Epoch 850: | Train Loss: 1.310 | Val Loss: 1.3142 | Train F1: 0.2319| Val F1: 0.1359\n",
      "Epoch 900: | Train Loss: 1.304 | Val Loss: 1.3128 | Train F1: 0.2594| Val F1: 0.1414\n",
      "Epoch 950: | Train Loss: 1.306 | Val Loss: 1.3115 | Train F1: 0.2585| Val F1: 0.1429\n",
      "Epoch 1000: | Train Loss: 1.298 | Val Loss: 1.3102 | Train F1: 0.2486| Val F1: 0.1443\n",
      "Accuracy: 0.8837535014005602\n",
      "Precision: 0.11864406779661017\n",
      "Recall: 0.18421052631578946\n",
      "F1: 0.14432989690721648\n"
     ]
    },
    {
     "data": {
      "application/vnd.jupyter.widget-view+json": {
       "model_id": "ee86c7720c484aa783bf445767adbf04",
       "version_major": 2,
       "version_minor": 0
      },
      "text/plain": [
       "  0%|          | 0/1000 [00:00<?, ?it/s]"
      ]
     },
     "metadata": {},
     "output_type": "display_data"
    },
    {
     "name": "stdout",
     "output_type": "stream",
     "text": [
      "Epoch 050: | Train Loss: 1.343 | Val Loss: 1.4387 | Train F1: 0.0868| Val F1: 0.0286\n",
      "Epoch 100: | Train Loss: 1.335 | Val Loss: 1.4352 | Train F1: 0.1174| Val F1: 0.0303\n",
      "Epoch 150: | Train Loss: 1.328 | Val Loss: 1.4322 | Train F1: 0.1630| Val F1: 0.0308\n",
      "Epoch 200: | Train Loss: 1.326 | Val Loss: 1.4300 | Train F1: 0.1279| Val F1: 0.0312\n",
      "Epoch 250: | Train Loss: 1.317 | Val Loss: 1.4282 | Train F1: 0.1495| Val F1: 0.0312\n",
      "Epoch 300: | Train Loss: 1.316 | Val Loss: 1.4266 | Train F1: 0.1361| Val F1: 0.0312\n",
      "Epoch 350: | Train Loss: 1.309 | Val Loss: 1.4251 | Train F1: 0.1598| Val F1: 0.0615\n",
      "Epoch 400: | Train Loss: 1.303 | Val Loss: 1.4237 | Train F1: 0.1737| Val F1: 0.0635\n",
      "Epoch 450: | Train Loss: 1.298 | Val Loss: 1.4225 | Train F1: 0.2184| Val F1: 0.0625\n",
      "Epoch 500: | Train Loss: 1.297 | Val Loss: 1.4213 | Train F1: 0.1676| Val F1: 0.0909\n",
      "Epoch 550: | Train Loss: 1.298 | Val Loss: 1.4201 | Train F1: 0.1769| Val F1: 0.0923\n",
      "Epoch 600: | Train Loss: 1.290 | Val Loss: 1.4190 | Train F1: 0.2043| Val F1: 0.1194\n",
      "Epoch 650: | Train Loss: 1.285 | Val Loss: 1.4179 | Train F1: 0.2074| Val F1: 0.1739\n",
      "Epoch 700: | Train Loss: 1.284 | Val Loss: 1.4169 | Train F1: 0.2130| Val F1: 0.1714\n",
      "Epoch 750: | Train Loss: 1.278 | Val Loss: 1.4159 | Train F1: 0.2051| Val F1: 0.1690\n",
      "Epoch 800: | Train Loss: 1.276 | Val Loss: 1.4149 | Train F1: 0.2320| Val F1: 0.1690\n",
      "Epoch 850: | Train Loss: 1.272 | Val Loss: 1.4139 | Train F1: 0.2188| Val F1: 0.1644\n",
      "Epoch 900: | Train Loss: 1.271 | Val Loss: 1.4130 | Train F1: 0.2604| Val F1: 0.1600\n",
      "Epoch 950: | Train Loss: 1.272 | Val Loss: 1.4121 | Train F1: 0.2905| Val F1: 0.1579\n",
      "Epoch 1000: | Train Loss: 1.264 | Val Loss: 1.4112 | Train F1: 0.2360| Val F1: 0.1579\n",
      "Accuracy: 0.9103641456582633\n",
      "Precision: 0.20689655172413793\n",
      "Recall: 0.1276595744680851\n",
      "F1: 0.15789473684210525\n"
     ]
    },
    {
     "data": {
      "application/vnd.jupyter.widget-view+json": {
       "model_id": "08b251d565d047baaf8856f814fb2156",
       "version_major": 2,
       "version_minor": 0
      },
      "text/plain": [
       "  0%|          | 0/1000 [00:00<?, ?it/s]"
      ]
     },
     "metadata": {},
     "output_type": "display_data"
    },
    {
     "name": "stdout",
     "output_type": "stream",
     "text": [
      "Epoch 050: | Train Loss: 1.402 | Val Loss: 1.2593 | Train F1: 0.1261| Val F1: 0.0721\n",
      "Epoch 100: | Train Loss: 1.399 | Val Loss: 1.2552 | Train F1: 0.1172| Val F1: 0.0697\n",
      "Epoch 150: | Train Loss: 1.393 | Val Loss: 1.2514 | Train F1: 0.1360| Val F1: 0.0723\n",
      "Epoch 200: | Train Loss: 1.390 | Val Loss: 1.2476 | Train F1: 0.1402| Val F1: 0.0787\n",
      "Epoch 250: | Train Loss: 1.385 | Val Loss: 1.2436 | Train F1: 0.1545| Val F1: 0.0860\n",
      "Epoch 300: | Train Loss: 1.381 | Val Loss: 1.2395 | Train F1: 0.1493| Val F1: 0.0856\n",
      "Epoch 350: | Train Loss: 1.377 | Val Loss: 1.2353 | Train F1: 0.1620| Val F1: 0.0936\n",
      "Epoch 400: | Train Loss: 1.375 | Val Loss: 1.2310 | Train F1: 0.1786| Val F1: 0.1106\n",
      "Epoch 450: | Train Loss: 1.368 | Val Loss: 1.2268 | Train F1: 0.1699| Val F1: 0.1084\n",
      "Epoch 500: | Train Loss: 1.363 | Val Loss: 1.2226 | Train F1: 0.1931| Val F1: 0.1140\n",
      "Epoch 550: | Train Loss: 1.360 | Val Loss: 1.2186 | Train F1: 0.1898| Val F1: 0.1183\n",
      "Epoch 600: | Train Loss: 1.356 | Val Loss: 1.2148 | Train F1: 0.2065| Val F1: 0.1222\n",
      "Epoch 650: | Train Loss: 1.353 | Val Loss: 1.2110 | Train F1: 0.2135| Val F1: 0.1279\n",
      "Epoch 700: | Train Loss: 1.347 | Val Loss: 1.2075 | Train F1: 0.2235| Val F1: 0.1317\n",
      "Epoch 750: | Train Loss: 1.349 | Val Loss: 1.2040 | Train F1: 0.2216| Val F1: 0.1358\n",
      "Epoch 800: | Train Loss: 1.340 | Val Loss: 1.2007 | Train F1: 0.2311| Val F1: 0.1266\n",
      "Epoch 850: | Train Loss: 1.346 | Val Loss: 1.1976 | Train F1: 0.2065| Val F1: 0.1333\n",
      "Epoch 900: | Train Loss: 1.335 | Val Loss: 1.1946 | Train F1: 0.2340| Val F1: 0.1379\n",
      "Epoch 950: | Train Loss: 1.336 | Val Loss: 1.1918 | Train F1: 0.2360| Val F1: 0.1399\n",
      "Epoch 1000: | Train Loss: 1.330 | Val Loss: 1.1891 | Train F1: 0.2374| Val F1: 0.1408\n",
      "Accuracy: 0.8291316526610645\n",
      "Precision: 0.08771929824561403\n",
      "Recall: 0.35714285714285715\n",
      "F1: 0.14084507042253522\n"
     ]
    },
    {
     "data": {
      "application/vnd.jupyter.widget-view+json": {
       "model_id": "48798ca6bc5a4eedb3bfa20de31fabad",
       "version_major": 2,
       "version_minor": 0
      },
      "text/plain": [
       "  0%|          | 0/1000 [00:00<?, ?it/s]"
      ]
     },
     "metadata": {},
     "output_type": "display_data"
    },
    {
     "name": "stdout",
     "output_type": "stream",
     "text": [
      "Epoch 050: | Train Loss: 1.367 | Val Loss: 1.3867 | Train F1: 0.0992| Val F1: 0.1115\n",
      "Epoch 100: | Train Loss: 1.362 | Val Loss: 1.3832 | Train F1: 0.1343| Val F1: 0.1208\n",
      "Epoch 150: | Train Loss: 1.355 | Val Loss: 1.3799 | Train F1: 0.1432| Val F1: 0.1311\n",
      "Epoch 200: | Train Loss: 1.353 | Val Loss: 1.3766 | Train F1: 0.1502| Val F1: 0.1429\n",
      "Epoch 250: | Train Loss: 1.350 | Val Loss: 1.3734 | Train F1: 0.1407| Val F1: 0.1456\n",
      "Epoch 300: | Train Loss: 1.346 | Val Loss: 1.3702 | Train F1: 0.1331| Val F1: 0.1451\n",
      "Epoch 350: | Train Loss: 1.336 | Val Loss: 1.3672 | Train F1: 0.1584| Val F1: 0.1477\n",
      "Epoch 400: | Train Loss: 1.336 | Val Loss: 1.3644 | Train F1: 0.1694| Val F1: 0.1557\n",
      "Epoch 450: | Train Loss: 1.330 | Val Loss: 1.3617 | Train F1: 0.1795| Val F1: 0.1558\n",
      "Epoch 500: | Train Loss: 1.325 | Val Loss: 1.3593 | Train F1: 0.1901| Val F1: 0.1655\n",
      "Epoch 550: | Train Loss: 1.316 | Val Loss: 1.3569 | Train F1: 0.1942| Val F1: 0.1618\n",
      "Epoch 600: | Train Loss: 1.319 | Val Loss: 1.3547 | Train F1: 0.2127| Val F1: 0.1575\n",
      "Epoch 650: | Train Loss: 1.312 | Val Loss: 1.3527 | Train F1: 0.2009| Val F1: 0.1653\n",
      "Epoch 700: | Train Loss: 1.310 | Val Loss: 1.3509 | Train F1: 0.2140| Val F1: 0.1593\n",
      "Epoch 750: | Train Loss: 1.309 | Val Loss: 1.3492 | Train F1: 0.2086| Val F1: 0.1455\n",
      "Epoch 800: | Train Loss: 1.312 | Val Loss: 1.3476 | Train F1: 0.2216| Val F1: 0.1481\n",
      "Epoch 850: | Train Loss: 1.302 | Val Loss: 1.3460 | Train F1: 0.2038| Val F1: 0.1553\n",
      "Epoch 900: | Train Loss: 1.298 | Val Loss: 1.3446 | Train F1: 0.2265| Val F1: 0.1584\n",
      "Epoch 950: | Train Loss: 1.296 | Val Loss: 1.3433 | Train F1: 0.2447| Val F1: 0.1616\n",
      "Epoch 1000: | Train Loss: 1.296 | Val Loss: 1.3421 | Train F1: 0.2407| Val F1: 0.1633\n",
      "Accuracy: 0.8851540616246498\n",
      "Precision: 0.14285714285714285\n",
      "Recall: 0.19047619047619047\n",
      "F1: 0.16326530612244897\n"
     ]
    },
    {
     "data": {
      "application/vnd.jupyter.widget-view+json": {
       "model_id": "ac8e34b894684d598a0f8d8b6fab91a8",
       "version_major": 2,
       "version_minor": 0
      },
      "text/plain": [
       "  0%|          | 0/1000 [00:00<?, ?it/s]"
      ]
     },
     "metadata": {},
     "output_type": "display_data"
    },
    {
     "name": "stdout",
     "output_type": "stream",
     "text": [
      "Epoch 050: | Train Loss: 1.360 | Val Loss: 1.4382 | Train F1: 0.1097| Val F1: 0.1358\n",
      "Epoch 100: | Train Loss: 1.353 | Val Loss: 1.4341 | Train F1: 0.1021| Val F1: 0.1615\n",
      "Epoch 150: | Train Loss: 1.349 | Val Loss: 1.4302 | Train F1: 0.1091| Val F1: 0.1588\n",
      "Epoch 200: | Train Loss: 1.342 | Val Loss: 1.4263 | Train F1: 0.1272| Val F1: 0.1772\n",
      "Epoch 250: | Train Loss: 1.338 | Val Loss: 1.4225 | Train F1: 0.1365| Val F1: 0.1792\n",
      "Epoch 300: | Train Loss: 1.332 | Val Loss: 1.4189 | Train F1: 0.1575| Val F1: 0.1827\n",
      "Epoch 350: | Train Loss: 1.327 | Val Loss: 1.4152 | Train F1: 0.1437| Val F1: 0.1838\n",
      "Epoch 400: | Train Loss: 1.326 | Val Loss: 1.4120 | Train F1: 0.1441| Val F1: 0.1850\n",
      "Epoch 450: | Train Loss: 1.324 | Val Loss: 1.4089 | Train F1: 0.1481| Val F1: 0.1750\n",
      "Epoch 500: | Train Loss: 1.316 | Val Loss: 1.4059 | Train F1: 0.1595| Val F1: 0.1655\n",
      "Epoch 550: | Train Loss: 1.308 | Val Loss: 1.4032 | Train F1: 0.1708| Val F1: 0.1727\n",
      "Epoch 600: | Train Loss: 1.312 | Val Loss: 1.4005 | Train F1: 0.1856| Val F1: 0.1846\n",
      "Epoch 650: | Train Loss: 1.306 | Val Loss: 1.3981 | Train F1: 0.1802| Val F1: 0.1746\n",
      "Epoch 700: | Train Loss: 1.305 | Val Loss: 1.3957 | Train F1: 0.1915| Val F1: 0.1818\n",
      "Epoch 750: | Train Loss: 1.300 | Val Loss: 1.3935 | Train F1: 0.2009| Val F1: 0.1833\n",
      "Epoch 800: | Train Loss: 1.296 | Val Loss: 1.3915 | Train F1: 0.2112| Val F1: 0.1880\n",
      "Epoch 850: | Train Loss: 1.290 | Val Loss: 1.3897 | Train F1: 0.2100| Val F1: 0.1509\n",
      "Epoch 900: | Train Loss: 1.288 | Val Loss: 1.3879 | Train F1: 0.2139| Val F1: 0.1509\n",
      "Epoch 950: | Train Loss: 1.283 | Val Loss: 1.3863 | Train F1: 0.2413| Val F1: 0.1538\n",
      "Epoch 1000: | Train Loss: 1.288 | Val Loss: 1.3849 | Train F1: 0.2289| Val F1: 0.1748\n",
      "Accuracy: 0.8807854137447405\n",
      "Precision: 0.16071428571428573\n",
      "Recall: 0.19148936170212766\n",
      "F1: 0.17475728155339806\n"
     ]
    },
    {
     "data": {
      "application/vnd.jupyter.widget-view+json": {
       "model_id": "d64d7ce5cffc46a688345ed2616a58ed",
       "version_major": 2,
       "version_minor": 0
      },
      "text/plain": [
       "  0%|          | 0/1000 [00:00<?, ?it/s]"
      ]
     },
     "metadata": {},
     "output_type": "display_data"
    },
    {
     "name": "stdout",
     "output_type": "stream",
     "text": [
      "Early stopping at epoch 29\n",
      "Accuracy: 0.8865546218487395\n",
      "Precision: 0.09433962264150944\n",
      "Recall: 0.13157894736842105\n",
      "F1: 0.10989010989010989\n"
     ]
    },
    {
     "data": {
      "application/vnd.jupyter.widget-view+json": {
       "model_id": "efce6f55624d4f26865601bd1bd09b69",
       "version_major": 2,
       "version_minor": 0
      },
      "text/plain": [
       "  0%|          | 0/1000 [00:00<?, ?it/s]"
      ]
     },
     "metadata": {},
     "output_type": "display_data"
    },
    {
     "name": "stdout",
     "output_type": "stream",
     "text": [
      "Early stopping at epoch 22\n",
      "Accuracy: 0.8641456582633054\n",
      "Precision: 0.109375\n",
      "Recall: 0.14893617021276595\n",
      "F1: 0.12612612612612611\n"
     ]
    },
    {
     "data": {
      "application/vnd.jupyter.widget-view+json": {
       "model_id": "97c5f2b8dea742febfb580eeec747345",
       "version_major": 2,
       "version_minor": 0
      },
      "text/plain": [
       "  0%|          | 0/1000 [00:00<?, ?it/s]"
      ]
     },
     "metadata": {},
     "output_type": "display_data"
    },
    {
     "name": "stdout",
     "output_type": "stream",
     "text": [
      "Early stopping at epoch 22\n",
      "Accuracy: 0.8627450980392157\n",
      "Precision: 0.0625\n",
      "Recall: 0.17857142857142858\n",
      "F1: 0.09259259259259259\n"
     ]
    },
    {
     "data": {
      "application/vnd.jupyter.widget-view+json": {
       "model_id": "dde3de2e7ef94df891dbb2cc50b61d43",
       "version_major": 2,
       "version_minor": 0
      },
      "text/plain": [
       "  0%|          | 0/1000 [00:00<?, ?it/s]"
      ]
     },
     "metadata": {},
     "output_type": "display_data"
    },
    {
     "name": "stdout",
     "output_type": "stream",
     "text": [
      "Early stopping at epoch 15\n",
      "Accuracy: 0.8641456582633054\n",
      "Precision: 0.10144927536231885\n",
      "Recall: 0.16666666666666666\n",
      "F1: 0.12612612612612611\n"
     ]
    },
    {
     "data": {
      "application/vnd.jupyter.widget-view+json": {
       "model_id": "75102840e0c2497588b1f134edaa98de",
       "version_major": 2,
       "version_minor": 0
      },
      "text/plain": [
       "  0%|          | 0/1000 [00:00<?, ?it/s]"
      ]
     },
     "metadata": {},
     "output_type": "display_data"
    },
    {
     "name": "stdout",
     "output_type": "stream",
     "text": [
      "Early stopping at epoch 18\n",
      "Accuracy: 0.9074333800841514\n",
      "Precision: 0.12\n",
      "Recall: 0.06382978723404255\n",
      "F1: 0.08333333333333333\n"
     ]
    },
    {
     "data": {
      "application/vnd.jupyter.widget-view+json": {
       "model_id": "b06e48db3c4d4d78b9df58e7b3c6e687",
       "version_major": 2,
       "version_minor": 0
      },
      "text/plain": [
       "  0%|          | 0/1000 [00:00<?, ?it/s]"
      ]
     },
     "metadata": {},
     "output_type": "display_data"
    },
    {
     "name": "stdout",
     "output_type": "stream",
     "text": [
      "Epoch 050: | Train Loss: 1.242 | Val Loss: 1.2927 | Train F1: 0.2918| Val F1: 0.1071\n",
      "Early stopping at epoch 69\n",
      "Accuracy: 0.8725490196078431\n",
      "Precision: 0.09230769230769231\n",
      "Recall: 0.15789473684210525\n",
      "F1: 0.11650485436893204\n"
     ]
    },
    {
     "data": {
      "application/vnd.jupyter.widget-view+json": {
       "model_id": "50c06b5bfa5b47d18ec633179f0c297d",
       "version_major": 2,
       "version_minor": 0
      },
      "text/plain": [
       "  0%|          | 0/1000 [00:00<?, ?it/s]"
      ]
     },
     "metadata": {},
     "output_type": "display_data"
    },
    {
     "name": "stdout",
     "output_type": "stream",
     "text": [
      "Epoch 050: | Train Loss: 1.202 | Val Loss: 1.3973 | Train F1: 0.2879| Val F1: 0.1228\n",
      "Early stopping at epoch 54\n",
      "Accuracy: 0.8585434173669467\n",
      "Precision: 0.10294117647058823\n",
      "Recall: 0.14893617021276595\n",
      "F1: 0.12173913043478261\n"
     ]
    },
    {
     "data": {
      "application/vnd.jupyter.widget-view+json": {
       "model_id": "574f41574f2d497d83f96067101bb6e5",
       "version_major": 2,
       "version_minor": 0
      },
      "text/plain": [
       "  0%|          | 0/1000 [00:00<?, ?it/s]"
      ]
     },
     "metadata": {},
     "output_type": "display_data"
    },
    {
     "name": "stdout",
     "output_type": "stream",
     "text": [
      "Epoch 050: | Train Loss: 1.265 | Val Loss: 1.1491 | Train F1: 0.3097| Val F1: 0.0870\n",
      "Early stopping at epoch 79\n",
      "Accuracy: 0.8613445378151261\n",
      "Precision: 0.06172839506172839\n",
      "Recall: 0.17857142857142858\n",
      "F1: 0.09174311926605505\n"
     ]
    },
    {
     "data": {
      "application/vnd.jupyter.widget-view+json": {
       "model_id": "fca65c22993f486a8909d0d763defa2e",
       "version_major": 2,
       "version_minor": 0
      },
      "text/plain": [
       "  0%|          | 0/1000 [00:00<?, ?it/s]"
      ]
     },
     "metadata": {},
     "output_type": "display_data"
    },
    {
     "name": "stdout",
     "output_type": "stream",
     "text": [
      "Epoch 050: | Train Loss: 1.237 | Val Loss: 1.3288 | Train F1: 0.2937| Val F1: 0.1455\n",
      "Early stopping at epoch 51\n",
      "Accuracy: 0.8697478991596639\n",
      "Precision: 0.13043478260869565\n",
      "Recall: 0.21428571428571427\n",
      "F1: 0.16216216216216217\n"
     ]
    },
    {
     "data": {
      "application/vnd.jupyter.widget-view+json": {
       "model_id": "99516bd4391042f5a622248fb9275a37",
       "version_major": 2,
       "version_minor": 0
      },
      "text/plain": [
       "  0%|          | 0/1000 [00:00<?, ?it/s]"
      ]
     },
     "metadata": {},
     "output_type": "display_data"
    },
    {
     "name": "stdout",
     "output_type": "stream",
     "text": [
      "Early stopping at epoch 45\n",
      "Accuracy: 0.8990182328190743\n",
      "Precision: 0.1794871794871795\n",
      "Recall: 0.14893617021276595\n",
      "F1: 0.16279069767441862\n"
     ]
    },
    {
     "data": {
      "application/vnd.jupyter.widget-view+json": {
       "model_id": "ba1c501e25db4f1bb0c82f9762414542",
       "version_major": 2,
       "version_minor": 0
      },
      "text/plain": [
       "  0%|          | 0/1000 [00:00<?, ?it/s]"
      ]
     },
     "metadata": {},
     "output_type": "display_data"
    },
    {
     "name": "stdout",
     "output_type": "stream",
     "text": [
      "Epoch 050: | Train Loss: 1.350 | Val Loss: 1.3396 | Train F1: 0.1759| Val F1: 0.1163\n",
      "Epoch 100: | Train Loss: 1.326 | Val Loss: 1.3247 | Train F1: 0.2242| Val F1: 0.0930\n",
      "Epoch 150: | Train Loss: 1.305 | Val Loss: 1.3151 | Train F1: 0.2530| Val F1: 0.1000\n",
      "Epoch 200: | Train Loss: 1.301 | Val Loss: 1.3086 | Train F1: 0.2387| Val F1: 0.0893\n",
      "Epoch 250: | Train Loss: 1.274 | Val Loss: 1.3042 | Train F1: 0.2816| Val F1: 0.0926\n",
      "Epoch 300: | Train Loss: 1.273 | Val Loss: 1.3008 | Train F1: 0.2792| Val F1: 0.1250\n",
      "Epoch 350: | Train Loss: 1.254 | Val Loss: 1.2979 | Train F1: 0.2924| Val F1: 0.1111\n",
      "Epoch 400: | Train Loss: 1.249 | Val Loss: 1.2959 | Train F1: 0.3062| Val F1: 0.1132\n",
      "Epoch 450: | Train Loss: 1.244 | Val Loss: 1.2938 | Train F1: 0.3031| Val F1: 0.1143\n",
      "Epoch 500: | Train Loss: 1.240 | Val Loss: 1.2918 | Train F1: 0.3298| Val F1: 0.1154\n",
      "Epoch 550: | Train Loss: 1.236 | Val Loss: 1.2899 | Train F1: 0.3508| Val F1: 0.1212\n",
      "Epoch 600: | Train Loss: 1.232 | Val Loss: 1.2882 | Train F1: 0.3366| Val F1: 0.1237\n",
      "Early stopping at epoch 627\n",
      "Accuracy: 0.8809523809523809\n",
      "Precision: 0.1016949152542373\n",
      "Recall: 0.15789473684210525\n",
      "F1: 0.12371134020618557\n"
     ]
    },
    {
     "data": {
      "application/vnd.jupyter.widget-view+json": {
       "model_id": "53ff468515fe4447b17cc9ab645006c0",
       "version_major": 2,
       "version_minor": 0
      },
      "text/plain": [
       "  0%|          | 0/1000 [00:00<?, ?it/s]"
      ]
     },
     "metadata": {},
     "output_type": "display_data"
    },
    {
     "name": "stdout",
     "output_type": "stream",
     "text": [
      "Epoch 050: | Train Loss: 1.312 | Val Loss: 1.4177 | Train F1: 0.1769| Val F1: 0.1446\n",
      "Epoch 100: | Train Loss: 1.281 | Val Loss: 1.4093 | Train F1: 0.2297| Val F1: 0.1458\n",
      "Epoch 150: | Train Loss: 1.262 | Val Loss: 1.4042 | Train F1: 0.2475| Val F1: 0.1495\n",
      "Epoch 200: | Train Loss: 1.252 | Val Loss: 1.4012 | Train F1: 0.2507| Val F1: 0.1455\n",
      "Epoch 250: | Train Loss: 1.240 | Val Loss: 1.4004 | Train F1: 0.2870| Val F1: 0.1250\n",
      "Early stopping at epoch 250\n",
      "Accuracy: 0.8627450980392157\n",
      "Precision: 0.1076923076923077\n",
      "Recall: 0.14893617021276595\n",
      "F1: 0.125\n"
     ]
    },
    {
     "data": {
      "application/vnd.jupyter.widget-view+json": {
       "model_id": "fbb44372f63041aa93c8a79dac8336c0",
       "version_major": 2,
       "version_minor": 0
      },
      "text/plain": [
       "  0%|          | 0/1000 [00:00<?, ?it/s]"
      ]
     },
     "metadata": {},
     "output_type": "display_data"
    },
    {
     "name": "stdout",
     "output_type": "stream",
     "text": [
      "Epoch 050: | Train Loss: 1.369 | Val Loss: 1.2098 | Train F1: 0.1764| Val F1: 0.1071\n",
      "Epoch 100: | Train Loss: 1.342 | Val Loss: 1.1881 | Train F1: 0.2057| Val F1: 0.1429\n",
      "Epoch 150: | Train Loss: 1.326 | Val Loss: 1.1726 | Train F1: 0.2351| Val F1: 0.1429\n",
      "Epoch 200: | Train Loss: 1.303 | Val Loss: 1.1634 | Train F1: 0.2881| Val F1: 0.1284\n",
      "Epoch 250: | Train Loss: 1.295 | Val Loss: 1.1561 | Train F1: 0.3077| Val F1: 0.1273\n",
      "Epoch 300: | Train Loss: 1.288 | Val Loss: 1.1523 | Train F1: 0.3055| Val F1: 0.1468\n",
      "Epoch 350: | Train Loss: 1.279 | Val Loss: 1.1492 | Train F1: 0.3180| Val F1: 0.1468\n",
      "Epoch 400: | Train Loss: 1.273 | Val Loss: 1.1463 | Train F1: 0.3137| Val F1: 0.1308\n",
      "Epoch 450: | Train Loss: 1.265 | Val Loss: 1.1436 | Train F1: 0.3319| Val F1: 0.1132\n",
      "Epoch 500: | Train Loss: 1.259 | Val Loss: 1.1410 | Train F1: 0.3458| Val F1: 0.1143\n",
      "Epoch 550: | Train Loss: 1.243 | Val Loss: 1.1393 | Train F1: 0.3626| Val F1: 0.1143\n",
      "Early stopping at epoch 580\n",
      "Accuracy: 0.8697478991596639\n",
      "Precision: 0.07792207792207792\n",
      "Recall: 0.21428571428571427\n",
      "F1: 0.11428571428571428\n"
     ]
    },
    {
     "data": {
      "application/vnd.jupyter.widget-view+json": {
       "model_id": "da2f72efa1f7423282011e0ed2d6f720",
       "version_major": 2,
       "version_minor": 0
      },
      "text/plain": [
       "  0%|          | 0/1000 [00:00<?, ?it/s]"
      ]
     },
     "metadata": {},
     "output_type": "display_data"
    },
    {
     "name": "stdout",
     "output_type": "stream",
     "text": [
      "Epoch 050: | Train Loss: 1.339 | Val Loss: 1.3722 | Train F1: 0.1583| Val F1: 0.1395\n",
      "Epoch 100: | Train Loss: 1.315 | Val Loss: 1.3511 | Train F1: 0.1998| Val F1: 0.1194\n",
      "Epoch 150: | Train Loss: 1.287 | Val Loss: 1.3403 | Train F1: 0.2585| Val F1: 0.1207\n",
      "Epoch 200: | Train Loss: 1.274 | Val Loss: 1.3354 | Train F1: 0.2399| Val F1: 0.1132\n",
      "Epoch 250: | Train Loss: 1.258 | Val Loss: 1.3335 | Train F1: 0.2672| Val F1: 0.1165\n",
      "Early stopping at epoch 268\n",
      "Accuracy: 0.8753501400560224\n",
      "Precision: 0.1016949152542373\n",
      "Recall: 0.14285714285714285\n",
      "F1: 0.1188118811881188\n"
     ]
    },
    {
     "data": {
      "application/vnd.jupyter.widget-view+json": {
       "model_id": "ea1d61af558945ee91bfe354294926cd",
       "version_major": 2,
       "version_minor": 0
      },
      "text/plain": [
       "  0%|          | 0/1000 [00:00<?, ?it/s]"
      ]
     },
     "metadata": {},
     "output_type": "display_data"
    },
    {
     "name": "stdout",
     "output_type": "stream",
     "text": [
      "Epoch 050: | Train Loss: 1.327 | Val Loss: 1.4108 | Train F1: 0.1433| Val F1: 0.1125\n",
      "Epoch 100: | Train Loss: 1.293 | Val Loss: 1.3924 | Train F1: 0.1960| Val F1: 0.0851\n",
      "Epoch 150: | Train Loss: 1.277 | Val Loss: 1.3858 | Train F1: 0.2441| Val F1: 0.0941\n",
      "Epoch 200: | Train Loss: 1.257 | Val Loss: 1.3836 | Train F1: 0.2423| Val F1: 0.0526\n",
      "Early stopping at epoch 232\n",
      "Accuracy: 0.906030855539972\n",
      "Precision: 0.11538461538461539\n",
      "Recall: 0.06382978723404255\n",
      "F1: 0.0821917808219178\n"
     ]
    },
    {
     "data": {
      "application/vnd.jupyter.widget-view+json": {
       "model_id": "2430b0bce4764136a9e24026c82a7b75",
       "version_major": 2,
       "version_minor": 0
      },
      "text/plain": [
       "  0%|          | 0/1000 [00:00<?, ?it/s]"
      ]
     },
     "metadata": {},
     "output_type": "display_data"
    },
    {
     "name": "stdout",
     "output_type": "stream",
     "text": [
      "Epoch 050: | Train Loss: 1.378 | Val Loss: 1.3516 | Train F1: 0.1191| Val F1: 0.0996\n",
      "Epoch 100: | Train Loss: 1.378 | Val Loss: 1.3496 | Train F1: 0.1096| Val F1: 0.1119\n",
      "Epoch 150: | Train Loss: 1.374 | Val Loss: 1.3475 | Train F1: 0.1274| Val F1: 0.1078\n",
      "Epoch 200: | Train Loss: 1.370 | Val Loss: 1.3454 | Train F1: 0.1254| Val F1: 0.1062\n",
      "Epoch 250: | Train Loss: 1.371 | Val Loss: 1.3432 | Train F1: 0.1141| Val F1: 0.1053\n",
      "Epoch 300: | Train Loss: 1.368 | Val Loss: 1.3409 | Train F1: 0.1183| Val F1: 0.1127\n",
      "Epoch 350: | Train Loss: 1.362 | Val Loss: 1.3387 | Train F1: 0.1346| Val F1: 0.1231\n",
      "Epoch 400: | Train Loss: 1.358 | Val Loss: 1.3365 | Train F1: 0.1425| Val F1: 0.1220\n",
      "Epoch 450: | Train Loss: 1.356 | Val Loss: 1.3344 | Train F1: 0.1369| Val F1: 0.1217\n",
      "Epoch 500: | Train Loss: 1.352 | Val Loss: 1.3324 | Train F1: 0.1615| Val F1: 0.1267\n",
      "Epoch 550: | Train Loss: 1.344 | Val Loss: 1.3304 | Train F1: 0.1664| Val F1: 0.1221\n",
      "Epoch 600: | Train Loss: 1.342 | Val Loss: 1.3285 | Train F1: 0.1655| Val F1: 0.1281\n",
      "Epoch 650: | Train Loss: 1.340 | Val Loss: 1.3266 | Train F1: 0.1672| Val F1: 0.1327\n",
      "Epoch 700: | Train Loss: 1.336 | Val Loss: 1.3249 | Train F1: 0.1589| Val F1: 0.1270\n",
      "Epoch 750: | Train Loss: 1.336 | Val Loss: 1.3233 | Train F1: 0.1669| Val F1: 0.1319\n",
      "Epoch 800: | Train Loss: 1.333 | Val Loss: 1.3217 | Train F1: 0.1815| Val F1: 0.1387\n",
      "Epoch 850: | Train Loss: 1.330 | Val Loss: 1.3203 | Train F1: 0.1712| Val F1: 0.1317\n",
      "Epoch 900: | Train Loss: 1.327 | Val Loss: 1.3189 | Train F1: 0.1818| Val F1: 0.1139\n",
      "Epoch 950: | Train Loss: 1.325 | Val Loss: 1.3177 | Train F1: 0.1680| Val F1: 0.1192\n",
      "Epoch 1000: | Train Loss: 1.321 | Val Loss: 1.3165 | Train F1: 0.1869| Val F1: 0.1233\n",
      "Accuracy: 0.8207282913165266\n",
      "Precision: 0.08333333333333333\n",
      "Recall: 0.23684210526315788\n",
      "F1: 0.1232876712328767\n"
     ]
    },
    {
     "data": {
      "application/vnd.jupyter.widget-view+json": {
       "model_id": "63b1df952566481d8a53c0359ab7fc97",
       "version_major": 2,
       "version_minor": 0
      },
      "text/plain": [
       "  0%|          | 0/1000 [00:00<?, ?it/s]"
      ]
     },
     "metadata": {},
     "output_type": "display_data"
    },
    {
     "name": "stdout",
     "output_type": "stream",
     "text": [
      "Epoch 050: | Train Loss: 1.347 | Val Loss: 1.4340 | Train F1: 0.1105| Val F1: 0.1085\n",
      "Epoch 100: | Train Loss: 1.342 | Val Loss: 1.4322 | Train F1: 0.1308| Val F1: 0.1120\n",
      "Epoch 150: | Train Loss: 1.337 | Val Loss: 1.4309 | Train F1: 0.1321| Val F1: 0.1026\n",
      "Epoch 200: | Train Loss: 1.337 | Val Loss: 1.4297 | Train F1: 0.1291| Val F1: 0.1026\n",
      "Epoch 250: | Train Loss: 1.332 | Val Loss: 1.4286 | Train F1: 0.1091| Val F1: 0.1043\n",
      "Epoch 300: | Train Loss: 1.327 | Val Loss: 1.4275 | Train F1: 0.1658| Val F1: 0.1239\n",
      "Epoch 350: | Train Loss: 1.322 | Val Loss: 1.4264 | Train F1: 0.1984| Val F1: 0.1228\n",
      "Epoch 400: | Train Loss: 1.324 | Val Loss: 1.4254 | Train F1: 0.1656| Val F1: 0.1228\n",
      "Epoch 450: | Train Loss: 1.316 | Val Loss: 1.4243 | Train F1: 0.1692| Val F1: 0.1091\n",
      "Epoch 500: | Train Loss: 1.315 | Val Loss: 1.4235 | Train F1: 0.1651| Val F1: 0.1091\n",
      "Epoch 550: | Train Loss: 1.315 | Val Loss: 1.4226 | Train F1: 0.1827| Val F1: 0.1121\n",
      "Epoch 600: | Train Loss: 1.311 | Val Loss: 1.4218 | Train F1: 0.2019| Val F1: 0.1346\n",
      "Epoch 650: | Train Loss: 1.311 | Val Loss: 1.4210 | Train F1: 0.1973| Val F1: 0.1176\n",
      "Epoch 700: | Train Loss: 1.305 | Val Loss: 1.4203 | Train F1: 0.2061| Val F1: 0.1359\n",
      "Epoch 750: | Train Loss: 1.305 | Val Loss: 1.4197 | Train F1: 0.2095| Val F1: 0.1200\n",
      "Epoch 800: | Train Loss: 1.300 | Val Loss: 1.4191 | Train F1: 0.2114| Val F1: 0.1188\n",
      "Epoch 850: | Train Loss: 1.300 | Val Loss: 1.4185 | Train F1: 0.2186| Val F1: 0.1188\n",
      "Epoch 900: | Train Loss: 1.294 | Val Loss: 1.4180 | Train F1: 0.2018| Val F1: 0.1212\n",
      "Epoch 950: | Train Loss: 1.292 | Val Loss: 1.4175 | Train F1: 0.2125| Val F1: 0.1250\n",
      "Epoch 1000: | Train Loss: 1.294 | Val Loss: 1.4169 | Train F1: 0.2059| Val F1: 0.1250\n",
      "Accuracy: 0.8823529411764706\n",
      "Precision: 0.12244897959183673\n",
      "Recall: 0.1276595744680851\n",
      "F1: 0.125\n"
     ]
    },
    {
     "data": {
      "application/vnd.jupyter.widget-view+json": {
       "model_id": "ab0f2cf3b3634f9993ea9534afa59652",
       "version_major": 2,
       "version_minor": 0
      },
      "text/plain": [
       "  0%|          | 0/1000 [00:00<?, ?it/s]"
      ]
     },
     "metadata": {},
     "output_type": "display_data"
    },
    {
     "name": "stdout",
     "output_type": "stream",
     "text": [
      "Epoch 050: | Train Loss: 1.394 | Val Loss: 1.2364 | Train F1: 0.0930| Val F1: 0.0000\n",
      "Epoch 100: | Train Loss: 1.392 | Val Loss: 1.2343 | Train F1: 0.0860| Val F1: 0.0000\n",
      "Epoch 150: | Train Loss: 1.388 | Val Loss: 1.2323 | Train F1: 0.1314| Val F1: 0.0000\n",
      "Epoch 200: | Train Loss: 1.385 | Val Loss: 1.2301 | Train F1: 0.1343| Val F1: 0.0220\n",
      "Epoch 250: | Train Loss: 1.381 | Val Loss: 1.2279 | Train F1: 0.1428| Val F1: 0.0435\n",
      "Epoch 300: | Train Loss: 1.377 | Val Loss: 1.2258 | Train F1: 0.1560| Val F1: 0.0594\n",
      "Epoch 350: | Train Loss: 1.375 | Val Loss: 1.2236 | Train F1: 0.1843| Val F1: 0.0748\n",
      "Epoch 400: | Train Loss: 1.368 | Val Loss: 1.2214 | Train F1: 0.1780| Val F1: 0.0727\n",
      "Epoch 450: | Train Loss: 1.370 | Val Loss: 1.2192 | Train F1: 0.1776| Val F1: 0.0708\n",
      "Epoch 500: | Train Loss: 1.365 | Val Loss: 1.2170 | Train F1: 0.1800| Val F1: 0.0877\n",
      "Epoch 550: | Train Loss: 1.369 | Val Loss: 1.2147 | Train F1: 0.1516| Val F1: 0.0870\n",
      "Epoch 600: | Train Loss: 1.363 | Val Loss: 1.2125 | Train F1: 0.1872| Val F1: 0.0840\n",
      "Epoch 650: | Train Loss: 1.358 | Val Loss: 1.2103 | Train F1: 0.1829| Val F1: 0.0820\n",
      "Epoch 700: | Train Loss: 1.355 | Val Loss: 1.2082 | Train F1: 0.2219| Val F1: 0.0813\n",
      "Epoch 750: | Train Loss: 1.356 | Val Loss: 1.2061 | Train F1: 0.2001| Val F1: 0.0820\n",
      "Epoch 800: | Train Loss: 1.348 | Val Loss: 1.2041 | Train F1: 0.2409| Val F1: 0.0820\n",
      "Epoch 850: | Train Loss: 1.350 | Val Loss: 1.2020 | Train F1: 0.2343| Val F1: 0.0826\n",
      "Epoch 900: | Train Loss: 1.349 | Val Loss: 1.2001 | Train F1: 0.2225| Val F1: 0.0833\n",
      "Epoch 950: | Train Loss: 1.344 | Val Loss: 1.1982 | Train F1: 0.2040| Val F1: 0.0826\n",
      "Epoch 1000: | Train Loss: 1.342 | Val Loss: 1.1964 | Train F1: 0.2429| Val F1: 0.0826\n",
      "Accuracy: 0.8445378151260504\n",
      "Precision: 0.053763440860215055\n",
      "Recall: 0.17857142857142858\n",
      "F1: 0.08264462809917356\n"
     ]
    },
    {
     "data": {
      "application/vnd.jupyter.widget-view+json": {
       "model_id": "7c972a56fb5a473eb37a91e2e8c7b210",
       "version_major": 2,
       "version_minor": 0
      },
      "text/plain": [
       "  0%|          | 0/1000 [00:00<?, ?it/s]"
      ]
     },
     "metadata": {},
     "output_type": "display_data"
    },
    {
     "name": "stdout",
     "output_type": "stream",
     "text": [
      "Epoch 050: | Train Loss: 1.350 | Val Loss: 1.3753 | Train F1: 0.1183| Val F1: 0.0364\n",
      "Epoch 100: | Train Loss: 1.351 | Val Loss: 1.3733 | Train F1: 0.1040| Val F1: 0.0357\n",
      "Epoch 150: | Train Loss: 1.344 | Val Loss: 1.3715 | Train F1: 0.1071| Val F1: 0.0333\n",
      "Epoch 200: | Train Loss: 1.340 | Val Loss: 1.3697 | Train F1: 0.1414| Val F1: 0.0317\n",
      "Epoch 250: | Train Loss: 1.339 | Val Loss: 1.3678 | Train F1: 0.1375| Val F1: 0.0615\n",
      "Epoch 300: | Train Loss: 1.336 | Val Loss: 1.3659 | Train F1: 0.0992| Val F1: 0.0588\n",
      "Epoch 350: | Train Loss: 1.334 | Val Loss: 1.3639 | Train F1: 0.1161| Val F1: 0.0845\n",
      "Epoch 400: | Train Loss: 1.332 | Val Loss: 1.3620 | Train F1: 0.1314| Val F1: 0.1127\n",
      "Epoch 450: | Train Loss: 1.326 | Val Loss: 1.3600 | Train F1: 0.1756| Val F1: 0.1111\n",
      "Epoch 500: | Train Loss: 1.325 | Val Loss: 1.3582 | Train F1: 0.1519| Val F1: 0.1127\n",
      "Epoch 550: | Train Loss: 1.323 | Val Loss: 1.3564 | Train F1: 0.1582| Val F1: 0.1111\n",
      "Epoch 600: | Train Loss: 1.321 | Val Loss: 1.3548 | Train F1: 0.1447| Val F1: 0.1067\n",
      "Epoch 650: | Train Loss: 1.318 | Val Loss: 1.3532 | Train F1: 0.1534| Val F1: 0.0789\n",
      "Epoch 700: | Train Loss: 1.317 | Val Loss: 1.3518 | Train F1: 0.1359| Val F1: 0.0789\n",
      "Epoch 750: | Train Loss: 1.317 | Val Loss: 1.3503 | Train F1: 0.1613| Val F1: 0.0779\n",
      "Epoch 800: | Train Loss: 1.306 | Val Loss: 1.3490 | Train F1: 0.2029| Val F1: 0.0769\n",
      "Epoch 850: | Train Loss: 1.306 | Val Loss: 1.3476 | Train F1: 0.1868| Val F1: 0.0789\n",
      "Epoch 900: | Train Loss: 1.306 | Val Loss: 1.3464 | Train F1: 0.1672| Val F1: 0.0789\n",
      "Epoch 950: | Train Loss: 1.303 | Val Loss: 1.3451 | Train F1: 0.2141| Val F1: 0.0800\n",
      "Epoch 1000: | Train Loss: 1.300 | Val Loss: 1.3440 | Train F1: 0.1870| Val F1: 0.0789\n",
      "Accuracy: 0.9019607843137255\n",
      "Precision: 0.08823529411764706\n",
      "Recall: 0.07142857142857142\n",
      "F1: 0.07894736842105263\n"
     ]
    },
    {
     "data": {
      "application/vnd.jupyter.widget-view+json": {
       "model_id": "df78ad94a78442acb8b4f15e5c7a6931",
       "version_major": 2,
       "version_minor": 0
      },
      "text/plain": [
       "  0%|          | 0/1000 [00:00<?, ?it/s]"
      ]
     },
     "metadata": {},
     "output_type": "display_data"
    },
    {
     "name": "stdout",
     "output_type": "stream",
     "text": [
      "Epoch 050: | Train Loss: 1.349 | Val Loss: 1.4373 | Train F1: 0.0664| Val F1: 0.0323\n",
      "Epoch 100: | Train Loss: 1.347 | Val Loss: 1.4358 | Train F1: 0.0639| Val F1: 0.0656\n",
      "Epoch 150: | Train Loss: 1.342 | Val Loss: 1.4342 | Train F1: 0.0871| Val F1: 0.0678\n",
      "Epoch 200: | Train Loss: 1.340 | Val Loss: 1.4324 | Train F1: 0.1145| Val F1: 0.0690\n",
      "Epoch 250: | Train Loss: 1.339 | Val Loss: 1.4305 | Train F1: 0.1111| Val F1: 0.0678\n",
      "Epoch 300: | Train Loss: 1.334 | Val Loss: 1.4285 | Train F1: 0.1578| Val F1: 0.0690\n",
      "Epoch 350: | Train Loss: 1.335 | Val Loss: 1.4265 | Train F1: 0.1000| Val F1: 0.0678\n",
      "Epoch 400: | Train Loss: 1.331 | Val Loss: 1.4245 | Train F1: 0.0868| Val F1: 0.1017\n",
      "Epoch 450: | Train Loss: 1.326 | Val Loss: 1.4225 | Train F1: 0.1680| Val F1: 0.1017\n",
      "Epoch 500: | Train Loss: 1.324 | Val Loss: 1.4207 | Train F1: 0.1908| Val F1: 0.0690\n",
      "Epoch 550: | Train Loss: 1.324 | Val Loss: 1.4189 | Train F1: 0.1673| Val F1: 0.0678\n",
      "Epoch 600: | Train Loss: 1.319 | Val Loss: 1.4171 | Train F1: 0.1858| Val F1: 0.0702\n",
      "Epoch 650: | Train Loss: 1.317 | Val Loss: 1.4154 | Train F1: 0.1842| Val F1: 0.0702\n",
      "Epoch 700: | Train Loss: 1.315 | Val Loss: 1.4137 | Train F1: 0.1892| Val F1: 0.0690\n",
      "Epoch 750: | Train Loss: 1.314 | Val Loss: 1.4121 | Train F1: 0.1759| Val F1: 0.0702\n",
      "Epoch 800: | Train Loss: 1.310 | Val Loss: 1.4104 | Train F1: 0.1953| Val F1: 0.0702\n",
      "Epoch 850: | Train Loss: 1.312 | Val Loss: 1.4088 | Train F1: 0.1628| Val F1: 0.0702\n",
      "Epoch 900: | Train Loss: 1.306 | Val Loss: 1.4073 | Train F1: 0.2133| Val F1: 0.0702\n",
      "Epoch 950: | Train Loss: 1.301 | Val Loss: 1.4060 | Train F1: 0.2019| Val F1: 0.1017\n",
      "Epoch 1000: | Train Loss: 1.304 | Val Loss: 1.4047 | Train F1: 0.1553| Val F1: 0.1000\n",
      "Accuracy: 0.9242636746143057\n",
      "Precision: 0.23076923076923078\n",
      "Recall: 0.06382978723404255\n",
      "F1: 0.1\n"
     ]
    },
    {
     "data": {
      "application/vnd.jupyter.widget-view+json": {
       "model_id": "444567cbbd804bac836f2e07e871a6ee",
       "version_major": 2,
       "version_minor": 0
      },
      "text/plain": [
       "  0%|          | 0/1000 [00:00<?, ?it/s]"
      ]
     },
     "metadata": {},
     "output_type": "display_data"
    },
    {
     "name": "stdout",
     "output_type": "stream",
     "text": [
      "Early stopping at epoch 27\n",
      "Accuracy: 0.8907563025210085\n",
      "Precision: 0.06521739130434782\n",
      "Recall: 0.07894736842105263\n",
      "F1: 0.07142857142857142\n"
     ]
    },
    {
     "data": {
      "application/vnd.jupyter.widget-view+json": {
       "model_id": "81dfa08722d54d699bbd0b3bfe3287b3",
       "version_major": 2,
       "version_minor": 0
      },
      "text/plain": [
       "  0%|          | 0/1000 [00:00<?, ?it/s]"
      ]
     },
     "metadata": {},
     "output_type": "display_data"
    },
    {
     "name": "stdout",
     "output_type": "stream",
     "text": [
      "Early stopping at epoch 23\n",
      "Accuracy: 0.9145658263305322\n",
      "Precision: 0.0625\n",
      "Recall: 0.02127659574468085\n",
      "F1: 0.031746031746031744\n"
     ]
    },
    {
     "data": {
      "application/vnd.jupyter.widget-view+json": {
       "model_id": "02fe904865bf4d43854fb4d2e330401d",
       "version_major": 2,
       "version_minor": 0
      },
      "text/plain": [
       "  0%|          | 0/1000 [00:00<?, ?it/s]"
      ]
     },
     "metadata": {},
     "output_type": "display_data"
    },
    {
     "name": "stdout",
     "output_type": "stream",
     "text": [
      "Early stopping at epoch 27\n",
      "Accuracy: 0.9537815126050421\n",
      "Precision: 0.0\n",
      "Recall: 0.0\n",
      "F1: 0.0\n"
     ]
    },
    {
     "data": {
      "application/vnd.jupyter.widget-view+json": {
       "model_id": "43431847690a476cb3496f8282944df1",
       "version_major": 2,
       "version_minor": 0
      },
      "text/plain": [
       "  0%|          | 0/1000 [00:00<?, ?it/s]"
      ]
     },
     "metadata": {},
     "output_type": "display_data"
    },
    {
     "name": "stdout",
     "output_type": "stream",
     "text": [
      "Early stopping at epoch 15\n",
      "Accuracy: 0.9215686274509803\n",
      "Precision: 0.1111111111111111\n",
      "Recall: 0.047619047619047616\n",
      "F1: 0.06666666666666667\n"
     ]
    },
    {
     "data": {
      "application/vnd.jupyter.widget-view+json": {
       "model_id": "84c03ae20c8c45b78feb2df6dfa678ab",
       "version_major": 2,
       "version_minor": 0
      },
      "text/plain": [
       "  0%|          | 0/1000 [00:00<?, ?it/s]"
      ]
     },
     "metadata": {},
     "output_type": "display_data"
    },
    {
     "name": "stdout",
     "output_type": "stream",
     "text": [
      "Early stopping at epoch 16\n",
      "Accuracy: 0.8667601683029453\n",
      "Precision: 0.07142857142857142\n",
      "Recall: 0.0851063829787234\n",
      "F1: 0.07766990291262135\n"
     ]
    },
    {
     "data": {
      "application/vnd.jupyter.widget-view+json": {
       "model_id": "439733b2156f44c8b74e17500a1349d8",
       "version_major": 2,
       "version_minor": 0
      },
      "text/plain": [
       "  0%|          | 0/1000 [00:00<?, ?it/s]"
      ]
     },
     "metadata": {},
     "output_type": "display_data"
    },
    {
     "name": "stdout",
     "output_type": "stream",
     "text": [
      "Early stopping at epoch 34\n",
      "Accuracy: 0.9327731092436975\n",
      "Precision: 0.14285714285714285\n",
      "Recall: 0.05263157894736842\n",
      "F1: 0.07692307692307693\n"
     ]
    },
    {
     "data": {
      "application/vnd.jupyter.widget-view+json": {
       "model_id": "2d3632ba3e4b45fc9262d424075f6cae",
       "version_major": 2,
       "version_minor": 0
      },
      "text/plain": [
       "  0%|          | 0/1000 [00:00<?, ?it/s]"
      ]
     },
     "metadata": {},
     "output_type": "display_data"
    },
    {
     "name": "stdout",
     "output_type": "stream",
     "text": [
      "Early stopping at epoch 17\n",
      "Accuracy: 0.9117647058823529\n",
      "Precision: 0.1\n",
      "Recall: 0.0425531914893617\n",
      "F1: 0.05970149253731343\n"
     ]
    },
    {
     "data": {
      "application/vnd.jupyter.widget-view+json": {
       "model_id": "0d8f94383bf440b6bfb97f5e55385608",
       "version_major": 2,
       "version_minor": 0
      },
      "text/plain": [
       "  0%|          | 0/1000 [00:00<?, ?it/s]"
      ]
     },
     "metadata": {},
     "output_type": "display_data"
    },
    {
     "name": "stdout",
     "output_type": "stream",
     "text": [
      "Early stopping at epoch 24\n",
      "Accuracy: 0.9243697478991597\n",
      "Precision: 0.06666666666666667\n",
      "Recall: 0.07142857142857142\n",
      "F1: 0.06896551724137931\n"
     ]
    },
    {
     "data": {
      "application/vnd.jupyter.widget-view+json": {
       "model_id": "82a8690e0bcb45eb972e922951c49995",
       "version_major": 2,
       "version_minor": 0
      },
      "text/plain": [
       "  0%|          | 0/1000 [00:00<?, ?it/s]"
      ]
     },
     "metadata": {},
     "output_type": "display_data"
    },
    {
     "name": "stdout",
     "output_type": "stream",
     "text": [
      "Early stopping at epoch 16\n",
      "Accuracy: 0.9201680672268907\n",
      "Precision: 0.058823529411764705\n",
      "Recall: 0.023809523809523808\n",
      "F1: 0.03389830508474576\n"
     ]
    },
    {
     "data": {
      "application/vnd.jupyter.widget-view+json": {
       "model_id": "e69db300afb64474be786b4a6328b7ad",
       "version_major": 2,
       "version_minor": 0
      },
      "text/plain": [
       "  0%|          | 0/1000 [00:00<?, ?it/s]"
      ]
     },
     "metadata": {},
     "output_type": "display_data"
    },
    {
     "name": "stdout",
     "output_type": "stream",
     "text": [
      "Early stopping at epoch 15\n",
      "Accuracy: 0.9144460028050491\n",
      "Precision: 0.0625\n",
      "Recall: 0.02127659574468085\n",
      "F1: 0.031746031746031744\n"
     ]
    },
    {
     "data": {
      "application/vnd.jupyter.widget-view+json": {
       "model_id": "b745837842464c1e89f59cb74f5c93c8",
       "version_major": 2,
       "version_minor": 0
      },
      "text/plain": [
       "  0%|          | 0/1000 [00:00<?, ?it/s]"
      ]
     },
     "metadata": {},
     "output_type": "display_data"
    },
    {
     "name": "stdout",
     "output_type": "stream",
     "text": [
      "Epoch 050: | Train Loss: 1.226 | Val Loss: 1.2825 | Train F1: 0.3938| Val F1: 0.1176\n",
      "Early stopping at epoch 84\n",
      "Accuracy: 0.9103641456582633\n",
      "Precision: 0.09375\n",
      "Recall: 0.07894736842105263\n",
      "F1: 0.08571428571428572\n"
     ]
    },
    {
     "data": {
      "application/vnd.jupyter.widget-view+json": {
       "model_id": "39e5fe1ce83649119aa4a3efc3dcefd2",
       "version_major": 2,
       "version_minor": 0
      },
      "text/plain": [
       "  0%|          | 0/1000 [00:00<?, ?it/s]"
      ]
     },
     "metadata": {},
     "output_type": "display_data"
    },
    {
     "name": "stdout",
     "output_type": "stream",
     "text": [
      "Epoch 050: | Train Loss: 1.196 | Val Loss: 1.3976 | Train F1: 0.4340| Val F1: 0.1379\n",
      "Early stopping at epoch 90\n",
      "Accuracy: 0.9061624649859944\n",
      "Precision: 0.1875\n",
      "Recall: 0.1276595744680851\n",
      "F1: 0.1518987341772152\n"
     ]
    },
    {
     "data": {
      "application/vnd.jupyter.widget-view+json": {
       "model_id": "44358b7b2d754863918773f53c6db818",
       "version_major": 2,
       "version_minor": 0
      },
      "text/plain": [
       "  0%|          | 0/1000 [00:00<?, ?it/s]"
      ]
     },
     "metadata": {},
     "output_type": "display_data"
    },
    {
     "name": "stdout",
     "output_type": "stream",
     "text": [
      "Epoch 050: | Train Loss: 1.255 | Val Loss: 1.1357 | Train F1: 0.4027| Val F1: 0.0952\n",
      "Epoch 100: | Train Loss: 1.169 | Val Loss: 1.1238 | Train F1: 0.6051| Val F1: 0.1212\n",
      "Early stopping at epoch 115\n",
      "Accuracy: 0.9229691876750701\n",
      "Precision: 0.11428571428571428\n",
      "Recall: 0.14285714285714285\n",
      "F1: 0.12698412698412698\n"
     ]
    },
    {
     "data": {
      "application/vnd.jupyter.widget-view+json": {
       "model_id": "73458964bfac458bb8b21f9d9626fbda",
       "version_major": 2,
       "version_minor": 0
      },
      "text/plain": [
       "  0%|          | 0/1000 [00:00<?, ?it/s]"
      ]
     },
     "metadata": {},
     "output_type": "display_data"
    },
    {
     "name": "stdout",
     "output_type": "stream",
     "text": [
      "Epoch 050: | Train Loss: 1.214 | Val Loss: 1.3282 | Train F1: 0.4317| Val F1: 0.1127\n",
      "Early stopping at epoch 62\n",
      "Accuracy: 0.9047619047619048\n",
      "Precision: 0.1388888888888889\n",
      "Recall: 0.11904761904761904\n",
      "F1: 0.1282051282051282\n"
     ]
    },
    {
     "data": {
      "application/vnd.jupyter.widget-view+json": {
       "model_id": "b6ae276653b74ee0a1090f6f07767196",
       "version_major": 2,
       "version_minor": 0
      },
      "text/plain": [
       "  0%|          | 0/1000 [00:00<?, ?it/s]"
      ]
     },
     "metadata": {},
     "output_type": "display_data"
    },
    {
     "name": "stdout",
     "output_type": "stream",
     "text": [
      "Early stopping at epoch 38\n",
      "Accuracy: 0.9130434782608695\n",
      "Precision: 0.058823529411764705\n",
      "Recall: 0.02127659574468085\n",
      "F1: 0.03125\n"
     ]
    },
    {
     "data": {
      "application/vnd.jupyter.widget-view+json": {
       "model_id": "5a615ddce5db4e428d60b4f0dc0c5239",
       "version_major": 2,
       "version_minor": 0
      },
      "text/plain": [
       "  0%|          | 0/1000 [00:00<?, ?it/s]"
      ]
     },
     "metadata": {},
     "output_type": "display_data"
    },
    {
     "name": "stdout",
     "output_type": "stream",
     "text": [
      "Epoch 050: | Train Loss: 1.362 | Val Loss: 1.3367 | Train F1: 0.1254| Val F1: 0.0000\n",
      "Epoch 100: | Train Loss: 1.339 | Val Loss: 1.3216 | Train F1: 0.1661| Val F1: 0.0465\n",
      "Epoch 150: | Train Loss: 1.317 | Val Loss: 1.3092 | Train F1: 0.2013| Val F1: 0.1224\n",
      "Epoch 200: | Train Loss: 1.300 | Val Loss: 1.3002 | Train F1: 0.2789| Val F1: 0.1111\n",
      "Epoch 250: | Train Loss: 1.284 | Val Loss: 1.2933 | Train F1: 0.2810| Val F1: 0.0968\n",
      "Epoch 300: | Train Loss: 1.268 | Val Loss: 1.2883 | Train F1: 0.3130| Val F1: 0.0938\n",
      "Epoch 350: | Train Loss: 1.253 | Val Loss: 1.2850 | Train F1: 0.3337| Val F1: 0.1212\n",
      "Epoch 400: | Train Loss: 1.239 | Val Loss: 1.2825 | Train F1: 0.3741| Val F1: 0.1176\n",
      "Epoch 450: | Train Loss: 1.228 | Val Loss: 1.2805 | Train F1: 0.3727| Val F1: 0.1194\n",
      "Epoch 500: | Train Loss: 1.220 | Val Loss: 1.2789 | Train F1: 0.4087| Val F1: 0.1212\n",
      "Epoch 550: | Train Loss: 1.208 | Val Loss: 1.2775 | Train F1: 0.4502| Val F1: 0.1176\n",
      "Epoch 600: | Train Loss: 1.201 | Val Loss: 1.2765 | Train F1: 0.4475| Val F1: 0.0882\n",
      "Early stopping at epoch 623\n",
      "Accuracy: 0.9131652661064426\n",
      "Precision: 0.1\n",
      "Recall: 0.07894736842105263\n",
      "F1: 0.08823529411764706\n"
     ]
    },
    {
     "data": {
      "application/vnd.jupyter.widget-view+json": {
       "model_id": "8d62df3c283c402a89ef54e0003b7cd2",
       "version_major": 2,
       "version_minor": 0
      },
      "text/plain": [
       "  0%|          | 0/1000 [00:00<?, ?it/s]"
      ]
     },
     "metadata": {},
     "output_type": "display_data"
    },
    {
     "name": "stdout",
     "output_type": "stream",
     "text": [
      "Epoch 050: | Train Loss: 1.334 | Val Loss: 1.4354 | Train F1: 0.0504| Val F1: 0.0000\n",
      "Epoch 100: | Train Loss: 1.310 | Val Loss: 1.4271 | Train F1: 0.0586| Val F1: 0.0000\n",
      "Epoch 150: | Train Loss: 1.290 | Val Loss: 1.4190 | Train F1: 0.0880| Val F1: 0.0385\n",
      "Epoch 200: | Train Loss: 1.274 | Val Loss: 1.4120 | Train F1: 0.1784| Val F1: 0.1000\n",
      "Epoch 250: | Train Loss: 1.254 | Val Loss: 1.4064 | Train F1: 0.2427| Val F1: 0.1765\n",
      "Epoch 300: | Train Loss: 1.243 | Val Loss: 1.4025 | Train F1: 0.2976| Val F1: 0.1538\n",
      "Epoch 350: | Train Loss: 1.229 | Val Loss: 1.4000 | Train F1: 0.3092| Val F1: 0.1395\n",
      "Epoch 400: | Train Loss: 1.217 | Val Loss: 1.3985 | Train F1: 0.3622| Val F1: 0.1395\n",
      "Epoch 450: | Train Loss: 1.205 | Val Loss: 1.3974 | Train F1: 0.3985| Val F1: 0.1124\n",
      "Epoch 500: | Train Loss: 1.193 | Val Loss: 1.3967 | Train F1: 0.4106| Val F1: 0.1124\n",
      "Epoch 550: | Train Loss: 1.184 | Val Loss: 1.3963 | Train F1: 0.4186| Val F1: 0.1136\n",
      "Early stopping at epoch 567\n",
      "Accuracy: 0.8921568627450981\n",
      "Precision: 0.125\n",
      "Recall: 0.10638297872340426\n",
      "F1: 0.11494252873563218\n"
     ]
    },
    {
     "data": {
      "application/vnd.jupyter.widget-view+json": {
       "model_id": "4fd5197dac544b10acbf3c5b1743ae0e",
       "version_major": 2,
       "version_minor": 0
      },
      "text/plain": [
       "  0%|          | 0/1000 [00:00<?, ?it/s]"
      ]
     },
     "metadata": {},
     "output_type": "display_data"
    },
    {
     "name": "stdout",
     "output_type": "stream",
     "text": [
      "Epoch 050: | Train Loss: 1.389 | Val Loss: 1.2275 | Train F1: 0.1086| Val F1: 0.0541\n",
      "Epoch 100: | Train Loss: 1.373 | Val Loss: 1.2087 | Train F1: 0.1755| Val F1: 0.0625\n",
      "Epoch 150: | Train Loss: 1.358 | Val Loss: 1.1917 | Train F1: 0.1895| Val F1: 0.0952\n",
      "Epoch 200: | Train Loss: 1.343 | Val Loss: 1.1772 | Train F1: 0.2229| Val F1: 0.1017\n",
      "Epoch 250: | Train Loss: 1.326 | Val Loss: 1.1653 | Train F1: 0.2888| Val F1: 0.1389\n",
      "Epoch 300: | Train Loss: 1.309 | Val Loss: 1.1560 | Train F1: 0.3231| Val F1: 0.1282\n",
      "Epoch 350: | Train Loss: 1.296 | Val Loss: 1.1489 | Train F1: 0.3493| Val F1: 0.1266\n",
      "Epoch 400: | Train Loss: 1.283 | Val Loss: 1.1433 | Train F1: 0.3436| Val F1: 0.1220\n",
      "Epoch 450: | Train Loss: 1.269 | Val Loss: 1.1387 | Train F1: 0.3891| Val F1: 0.1429\n",
      "Epoch 500: | Train Loss: 1.256 | Val Loss: 1.1351 | Train F1: 0.4147| Val F1: 0.1412\n",
      "Epoch 550: | Train Loss: 1.243 | Val Loss: 1.1325 | Train F1: 0.4287| Val F1: 0.1412\n",
      "Epoch 600: | Train Loss: 1.233 | Val Loss: 1.1305 | Train F1: 0.4563| Val F1: 0.1429\n",
      "Epoch 650: | Train Loss: 1.223 | Val Loss: 1.1290 | Train F1: 0.4761| Val F1: 0.1412\n",
      "Epoch 700: | Train Loss: 1.214 | Val Loss: 1.1273 | Train F1: 0.5066| Val F1: 0.1266\n",
      "Epoch 750: | Train Loss: 1.208 | Val Loss: 1.1258 | Train F1: 0.5142| Val F1: 0.1333\n",
      "Epoch 800: | Train Loss: 1.199 | Val Loss: 1.1242 | Train F1: 0.5548| Val F1: 0.1408\n",
      "Epoch 850: | Train Loss: 1.192 | Val Loss: 1.1222 | Train F1: 0.5665| Val F1: 0.1613\n",
      "Epoch 900: | Train Loss: 1.184 | Val Loss: 1.1200 | Train F1: 0.5839| Val F1: 0.1639\n",
      "Early stopping at epoch 949\n",
      "Accuracy: 0.9285714285714286\n",
      "Precision: 0.15151515151515152\n",
      "Recall: 0.17857142857142858\n",
      "F1: 0.16393442622950818\n"
     ]
    },
    {
     "data": {
      "application/vnd.jupyter.widget-view+json": {
       "model_id": "feff576f1cbe4550a41a0e77699e09d3",
       "version_major": 2,
       "version_minor": 0
      },
      "text/plain": [
       "  0%|          | 0/1000 [00:00<?, ?it/s]"
      ]
     },
     "metadata": {},
     "output_type": "display_data"
    },
    {
     "name": "stdout",
     "output_type": "stream",
     "text": [
      "Epoch 050: | Train Loss: 1.352 | Val Loss: 1.3777 | Train F1: 0.0824| Val F1: 0.0000\n",
      "Epoch 100: | Train Loss: 1.334 | Val Loss: 1.3636 | Train F1: 0.0846| Val F1: 0.0000\n",
      "Epoch 150: | Train Loss: 1.312 | Val Loss: 1.3514 | Train F1: 0.1454| Val F1: 0.0426\n",
      "Epoch 200: | Train Loss: 1.297 | Val Loss: 1.3436 | Train F1: 0.2047| Val F1: 0.0727\n",
      "Epoch 250: | Train Loss: 1.279 | Val Loss: 1.3387 | Train F1: 0.2639| Val F1: 0.0667\n",
      "Epoch 300: | Train Loss: 1.265 | Val Loss: 1.3356 | Train F1: 0.3231| Val F1: 0.1159\n",
      "Epoch 350: | Train Loss: 1.255 | Val Loss: 1.3340 | Train F1: 0.3261| Val F1: 0.1111\n",
      "Epoch 400: | Train Loss: 1.236 | Val Loss: 1.3336 | Train F1: 0.3774| Val F1: 0.1143\n",
      "Early stopping at epoch 402\n",
      "Accuracy: 0.9131652661064426\n",
      "Precision: 0.14285714285714285\n",
      "Recall: 0.09523809523809523\n",
      "F1: 0.11428571428571428\n"
     ]
    },
    {
     "data": {
      "application/vnd.jupyter.widget-view+json": {
       "model_id": "19b3cb753251464aa60a851456542239",
       "version_major": 2,
       "version_minor": 0
      },
      "text/plain": [
       "  0%|          | 0/1000 [00:00<?, ?it/s]"
      ]
     },
     "metadata": {},
     "output_type": "display_data"
    },
    {
     "name": "stdout",
     "output_type": "stream",
     "text": [
      "Epoch 050: | Train Loss: 1.331 | Val Loss: 1.4231 | Train F1: 0.0000| Val F1: 0.0000\n",
      "Epoch 100: | Train Loss: 1.311 | Val Loss: 1.4108 | Train F1: 0.0000| Val F1: 0.0000\n",
      "Epoch 150: | Train Loss: 1.295 | Val Loss: 1.4023 | Train F1: 0.0960| Val F1: 0.0000\n",
      "Epoch 200: | Train Loss: 1.279 | Val Loss: 1.3974 | Train F1: 0.1513| Val F1: 0.0000\n",
      "Epoch 250: | Train Loss: 1.265 | Val Loss: 1.3948 | Train F1: 0.2350| Val F1: 0.0000\n",
      "Epoch 300: | Train Loss: 1.253 | Val Loss: 1.3931 | Train F1: 0.2945| Val F1: 0.0000\n",
      "Epoch 350: | Train Loss: 1.236 | Val Loss: 1.3923 | Train F1: 0.3267| Val F1: 0.0345\n",
      "Early stopping at epoch 351\n",
      "Accuracy: 0.9214586255259467\n",
      "Precision: 0.09090909090909091\n",
      "Recall: 0.02127659574468085\n",
      "F1: 0.034482758620689655\n"
     ]
    },
    {
     "data": {
      "application/vnd.jupyter.widget-view+json": {
       "model_id": "b235c60781de4443a9f5e19e3edfdb2d",
       "version_major": 2,
       "version_minor": 0
      },
      "text/plain": [
       "  0%|          | 0/1000 [00:00<?, ?it/s]"
      ]
     },
     "metadata": {},
     "output_type": "display_data"
    },
    {
     "name": "stdout",
     "output_type": "stream",
     "text": [
      "Early stopping at epoch 15\n",
      "Accuracy: 0.8991596638655462\n",
      "Precision: 0.11363636363636363\n",
      "Recall: 0.13157894736842105\n",
      "F1: 0.12195121951219512\n"
     ]
    },
    {
     "data": {
      "application/vnd.jupyter.widget-view+json": {
       "model_id": "e85f307618dd47dfa4f6731380af86f2",
       "version_major": 2,
       "version_minor": 0
      },
      "text/plain": [
       "  0%|          | 0/1000 [00:00<?, ?it/s]"
      ]
     },
     "metadata": {},
     "output_type": "display_data"
    },
    {
     "name": "stdout",
     "output_type": "stream",
     "text": [
      "Early stopping at epoch 28\n",
      "Accuracy: 0.9173669467787114\n",
      "Precision: 0.125\n",
      "Recall: 0.0425531914893617\n",
      "F1: 0.06349206349206349\n"
     ]
    },
    {
     "data": {
      "application/vnd.jupyter.widget-view+json": {
       "model_id": "eb60a146cd0f466a9e82bb716d76b367",
       "version_major": 2,
       "version_minor": 0
      },
      "text/plain": [
       "  0%|          | 0/1000 [00:00<?, ?it/s]"
      ]
     },
     "metadata": {},
     "output_type": "display_data"
    },
    {
     "name": "stdout",
     "output_type": "stream",
     "text": [
      "Early stopping at epoch 23\n",
      "Accuracy: 0.8893557422969187\n",
      "Precision: 0.08196721311475409\n",
      "Recall: 0.17857142857142858\n",
      "F1: 0.11235955056179775\n"
     ]
    },
    {
     "data": {
      "application/vnd.jupyter.widget-view+json": {
       "model_id": "9bf54a34fe2545f795be389f40f14220",
       "version_major": 2,
       "version_minor": 0
      },
      "text/plain": [
       "  0%|          | 0/1000 [00:00<?, ?it/s]"
      ]
     },
     "metadata": {},
     "output_type": "display_data"
    },
    {
     "name": "stdout",
     "output_type": "stream",
     "text": [
      "Early stopping at epoch 12\n",
      "Accuracy: 0.9117647058823529\n",
      "Precision: 0.043478260869565216\n",
      "Recall: 0.023809523809523808\n",
      "F1: 0.03076923076923077\n"
     ]
    },
    {
     "data": {
      "application/vnd.jupyter.widget-view+json": {
       "model_id": "caab21bbf88c4aefa110f485c9f6cef7",
       "version_major": 2,
       "version_minor": 0
      },
      "text/plain": [
       "  0%|          | 0/1000 [00:00<?, ?it/s]"
      ]
     },
     "metadata": {},
     "output_type": "display_data"
    },
    {
     "name": "stdout",
     "output_type": "stream",
     "text": [
      "Early stopping at epoch 22\n",
      "Accuracy: 0.908835904628331\n",
      "Precision: 0.05\n",
      "Recall: 0.02127659574468085\n",
      "F1: 0.029850746268656716\n"
     ]
    },
    {
     "data": {
      "application/vnd.jupyter.widget-view+json": {
       "model_id": "83414201ea5e4441b9c173e91fe85cc7",
       "version_major": 2,
       "version_minor": 0
      },
      "text/plain": [
       "  0%|          | 0/1000 [00:00<?, ?it/s]"
      ]
     },
     "metadata": {},
     "output_type": "display_data"
    },
    {
     "name": "stdout",
     "output_type": "stream",
     "text": [
      "Early stopping at epoch 29\n",
      "Accuracy: 0.9313725490196079\n",
      "Precision: 0.13333333333333333\n",
      "Recall: 0.05263157894736842\n",
      "F1: 0.07547169811320754\n"
     ]
    },
    {
     "data": {
      "application/vnd.jupyter.widget-view+json": {
       "model_id": "d88e495edce14bbca71ec945cfe57a6a",
       "version_major": 2,
       "version_minor": 0
      },
      "text/plain": [
       "  0%|          | 0/1000 [00:00<?, ?it/s]"
      ]
     },
     "metadata": {},
     "output_type": "display_data"
    },
    {
     "name": "stdout",
     "output_type": "stream",
     "text": [
      "Early stopping at epoch 21\n",
      "Accuracy: 0.9089635854341737\n",
      "Precision: 0.15384615384615385\n",
      "Recall: 0.0851063829787234\n",
      "F1: 0.1095890410958904\n"
     ]
    },
    {
     "data": {
      "application/vnd.jupyter.widget-view+json": {
       "model_id": "6544d9c8293d412babd697dd103906a2",
       "version_major": 2,
       "version_minor": 0
      },
      "text/plain": [
       "  0%|          | 0/1000 [00:00<?, ?it/s]"
      ]
     },
     "metadata": {},
     "output_type": "display_data"
    },
    {
     "name": "stdout",
     "output_type": "stream",
     "text": [
      "Early stopping at epoch 27\n",
      "Accuracy: 0.907563025210084\n",
      "Precision: 0.08695652173913043\n",
      "Recall: 0.14285714285714285\n",
      "F1: 0.10810810810810811\n"
     ]
    },
    {
     "data": {
      "application/vnd.jupyter.widget-view+json": {
       "model_id": "d01ed01a60f14cebaa89732f7487423c",
       "version_major": 2,
       "version_minor": 0
      },
      "text/plain": [
       "  0%|          | 0/1000 [00:00<?, ?it/s]"
      ]
     },
     "metadata": {},
     "output_type": "display_data"
    },
    {
     "name": "stdout",
     "output_type": "stream",
     "text": [
      "Early stopping at epoch 18\n",
      "Accuracy: 0.9131652661064426\n",
      "Precision: 0.11538461538461539\n",
      "Recall: 0.07142857142857142\n",
      "F1: 0.08823529411764706\n"
     ]
    },
    {
     "data": {
      "application/vnd.jupyter.widget-view+json": {
       "model_id": "bc9f9cc6ba0c412bb28cc3b8eec2c3c7",
       "version_major": 2,
       "version_minor": 0
      },
      "text/plain": [
       "  0%|          | 0/1000 [00:00<?, ?it/s]"
      ]
     },
     "metadata": {},
     "output_type": "display_data"
    },
    {
     "name": "stdout",
     "output_type": "stream",
     "text": [
      "Early stopping at epoch 16\n",
      "Accuracy: 0.9046283309957924\n",
      "Precision: 0.0\n",
      "Recall: 0.0\n",
      "F1: 0.0\n"
     ]
    },
    {
     "data": {
      "application/vnd.jupyter.widget-view+json": {
       "model_id": "ab7a6c9c9a624194a7ef0eb7e16e7ff2",
       "version_major": 2,
       "version_minor": 0
      },
      "text/plain": [
       "  0%|          | 0/1000 [00:00<?, ?it/s]"
      ]
     },
     "metadata": {},
     "output_type": "display_data"
    },
    {
     "name": "stdout",
     "output_type": "stream",
     "text": [
      "Epoch 050: | Train Loss: 1.272 | Val Loss: 1.2839 | Train F1: 0.3045| Val F1: 0.1270\n",
      "Early stopping at epoch 93\n",
      "Accuracy: 0.9173669467787114\n",
      "Precision: 0.16129032258064516\n",
      "Recall: 0.13157894736842105\n",
      "F1: 0.14492753623188406\n"
     ]
    },
    {
     "data": {
      "application/vnd.jupyter.widget-view+json": {
       "model_id": "22ff2e8c2b9248a8a5a2475c188da9df",
       "version_major": 2,
       "version_minor": 0
      },
      "text/plain": [
       "  0%|          | 0/1000 [00:00<?, ?it/s]"
      ]
     },
     "metadata": {},
     "output_type": "display_data"
    },
    {
     "name": "stdout",
     "output_type": "stream",
     "text": [
      "Epoch 050: | Train Loss: 1.241 | Val Loss: 1.3978 | Train F1: 0.2951| Val F1: 0.1558\n",
      "Early stopping at epoch 87\n",
      "Accuracy: 0.8907563025210085\n",
      "Precision: 0.13953488372093023\n",
      "Recall: 0.1276595744680851\n",
      "F1: 0.13333333333333333\n"
     ]
    },
    {
     "data": {
      "application/vnd.jupyter.widget-view+json": {
       "model_id": "8c37f7123c6c44b281d852c2cfcc1ece",
       "version_major": 2,
       "version_minor": 0
      },
      "text/plain": [
       "  0%|          | 0/1000 [00:00<?, ?it/s]"
      ]
     },
     "metadata": {},
     "output_type": "display_data"
    },
    {
     "name": "stdout",
     "output_type": "stream",
     "text": [
      "Epoch 050: | Train Loss: 1.301 | Val Loss: 1.1512 | Train F1: 0.3026| Val F1: 0.0976\n",
      "Epoch 100: | Train Loss: 1.222 | Val Loss: 1.1316 | Train F1: 0.4679| Val F1: 0.0988\n",
      "Epoch 150: | Train Loss: 1.176 | Val Loss: 1.1186 | Train F1: 0.5974| Val F1: 0.1311\n",
      "Early stopping at epoch 173\n",
      "Accuracy: 0.9341736694677871\n",
      "Precision: 0.14814814814814814\n",
      "Recall: 0.14285714285714285\n",
      "F1: 0.14545454545454545\n"
     ]
    },
    {
     "data": {
      "application/vnd.jupyter.widget-view+json": {
       "model_id": "9657f1f05af74a64807fa51ec177960c",
       "version_major": 2,
       "version_minor": 0
      },
      "text/plain": [
       "  0%|          | 0/1000 [00:00<?, ?it/s]"
      ]
     },
     "metadata": {},
     "output_type": "display_data"
    },
    {
     "name": "stdout",
     "output_type": "stream",
     "text": [
      "Epoch 050: | Train Loss: 1.260 | Val Loss: 1.3255 | Train F1: 0.2959| Val F1: 0.0656\n",
      "Early stopping at epoch 67\n",
      "Accuracy: 0.9159663865546218\n",
      "Precision: 0.15384615384615385\n",
      "Recall: 0.09523809523809523\n",
      "F1: 0.11764705882352941\n"
     ]
    },
    {
     "data": {
      "application/vnd.jupyter.widget-view+json": {
       "model_id": "0204acd695d44f26a300464c4be35f4c",
       "version_major": 2,
       "version_minor": 0
      },
      "text/plain": [
       "  0%|          | 0/1000 [00:00<?, ?it/s]"
      ]
     },
     "metadata": {},
     "output_type": "display_data"
    },
    {
     "name": "stdout",
     "output_type": "stream",
     "text": [
      "Epoch 050: | Train Loss: 1.245 | Val Loss: 1.3972 | Train F1: 0.3072| Val F1: 0.0357\n",
      "Early stopping at epoch 59\n",
      "Accuracy: 0.9256661991584852\n",
      "Precision: 0.125\n",
      "Recall: 0.02127659574468085\n",
      "F1: 0.03636363636363636\n"
     ]
    },
    {
     "data": {
      "application/vnd.jupyter.widget-view+json": {
       "model_id": "9f3f5d8612934d70bf843ebe32e6dba0",
       "version_major": 2,
       "version_minor": 0
      },
      "text/plain": [
       "  0%|          | 0/1000 [00:00<?, ?it/s]"
      ]
     },
     "metadata": {},
     "output_type": "display_data"
    },
    {
     "name": "stdout",
     "output_type": "stream",
     "text": [
      "Epoch 050: | Train Loss: 1.364 | Val Loss: 1.3361 | Train F1: 0.1170| Val F1: 0.0000\n",
      "Epoch 100: | Train Loss: 1.356 | Val Loss: 1.3295 | Train F1: 0.1309| Val F1: 0.0000\n",
      "Epoch 150: | Train Loss: 1.344 | Val Loss: 1.3224 | Train F1: 0.1237| Val F1: 0.0000\n",
      "Epoch 200: | Train Loss: 1.330 | Val Loss: 1.3155 | Train F1: 0.1489| Val F1: 0.0476\n",
      "Epoch 250: | Train Loss: 1.318 | Val Loss: 1.3094 | Train F1: 0.2072| Val F1: 0.0465\n",
      "Epoch 300: | Train Loss: 1.309 | Val Loss: 1.3043 | Train F1: 0.2098| Val F1: 0.0909\n",
      "Epoch 350: | Train Loss: 1.303 | Val Loss: 1.3001 | Train F1: 0.2021| Val F1: 0.0784\n",
      "Epoch 400: | Train Loss: 1.287 | Val Loss: 1.2967 | Train F1: 0.2654| Val F1: 0.1091\n",
      "Epoch 450: | Train Loss: 1.276 | Val Loss: 1.2937 | Train F1: 0.2945| Val F1: 0.0968\n",
      "Epoch 500: | Train Loss: 1.266 | Val Loss: 1.2913 | Train F1: 0.2862| Val F1: 0.0896\n",
      "Epoch 550: | Train Loss: 1.258 | Val Loss: 1.2893 | Train F1: 0.3339| Val F1: 0.0870\n",
      "Epoch 600: | Train Loss: 1.253 | Val Loss: 1.2878 | Train F1: 0.3699| Val F1: 0.0845\n",
      "Epoch 650: | Train Loss: 1.241 | Val Loss: 1.2866 | Train F1: 0.3702| Val F1: 0.1067\n",
      "Epoch 700: | Train Loss: 1.235 | Val Loss: 1.2857 | Train F1: 0.3742| Val F1: 0.1081\n",
      "Epoch 750: | Train Loss: 1.227 | Val Loss: 1.2851 | Train F1: 0.3844| Val F1: 0.1096\n",
      "Epoch 800: | Train Loss: 1.221 | Val Loss: 1.2846 | Train F1: 0.3963| Val F1: 0.1081\n",
      "Epoch 850: | Train Loss: 1.215 | Val Loss: 1.2843 | Train F1: 0.4144| Val F1: 0.0822\n",
      "Early stopping at epoch 872\n",
      "Accuracy: 0.9047619047619048\n",
      "Precision: 0.08333333333333333\n",
      "Recall: 0.07894736842105263\n",
      "F1: 0.08108108108108109\n"
     ]
    },
    {
     "data": {
      "application/vnd.jupyter.widget-view+json": {
       "model_id": "4674e624a3394789b0773ee79c53313e",
       "version_major": 2,
       "version_minor": 0
      },
      "text/plain": [
       "  0%|          | 0/1000 [00:00<?, ?it/s]"
      ]
     },
     "metadata": {},
     "output_type": "display_data"
    },
    {
     "name": "stdout",
     "output_type": "stream",
     "text": [
      "Epoch 050: | Train Loss: 1.354 | Val Loss: 1.4387 | Train F1: 0.1219| Val F1: 0.1141\n",
      "Epoch 100: | Train Loss: 1.342 | Val Loss: 1.4336 | Train F1: 0.1302| Val F1: 0.1443\n",
      "Epoch 150: | Train Loss: 1.329 | Val Loss: 1.4280 | Train F1: 0.1298| Val F1: 0.1000\n",
      "Epoch 200: | Train Loss: 1.316 | Val Loss: 1.4230 | Train F1: 0.0913| Val F1: 0.0741\n",
      "Epoch 250: | Train Loss: 1.300 | Val Loss: 1.4187 | Train F1: 0.1486| Val F1: 0.1111\n",
      "Epoch 300: | Train Loss: 1.289 | Val Loss: 1.4149 | Train F1: 0.1807| Val F1: 0.1404\n",
      "Epoch 350: | Train Loss: 1.279 | Val Loss: 1.4113 | Train F1: 0.2114| Val F1: 0.1613\n",
      "Epoch 400: | Train Loss: 1.263 | Val Loss: 1.4075 | Train F1: 0.2759| Val F1: 0.1714\n",
      "Epoch 450: | Train Loss: 1.256 | Val Loss: 1.4043 | Train F1: 0.2833| Val F1: 0.1558\n",
      "Epoch 500: | Train Loss: 1.247 | Val Loss: 1.4014 | Train F1: 0.3133| Val F1: 0.1728\n",
      "Epoch 550: | Train Loss: 1.234 | Val Loss: 1.3988 | Train F1: 0.3382| Val F1: 0.1628\n",
      "Epoch 600: | Train Loss: 1.227 | Val Loss: 1.3970 | Train F1: 0.3594| Val F1: 0.1609\n",
      "Epoch 650: | Train Loss: 1.217 | Val Loss: 1.3955 | Train F1: 0.3893| Val F1: 0.1591\n",
      "Epoch 700: | Train Loss: 1.212 | Val Loss: 1.3946 | Train F1: 0.3661| Val F1: 0.1591\n",
      "Epoch 750: | Train Loss: 1.201 | Val Loss: 1.3941 | Train F1: 0.4104| Val F1: 0.1573\n",
      "Epoch 800: | Train Loss: 1.196 | Val Loss: 1.3938 | Train F1: 0.4056| Val F1: 0.1591\n",
      "Epoch 850: | Train Loss: 1.189 | Val Loss: 1.3935 | Train F1: 0.4117| Val F1: 0.1591\n",
      "Epoch 900: | Train Loss: 1.183 | Val Loss: 1.3932 | Train F1: 0.4387| Val F1: 0.1591\n",
      "Epoch 950: | Train Loss: 1.176 | Val Loss: 1.3930 | Train F1: 0.4295| Val F1: 0.1609\n",
      "Epoch 1000: | Train Loss: 1.169 | Val Loss: 1.3928 | Train F1: 0.4649| Val F1: 0.1379\n",
      "Accuracy: 0.8949579831932774\n",
      "Precision: 0.15\n",
      "Recall: 0.1276595744680851\n",
      "F1: 0.13793103448275862\n"
     ]
    },
    {
     "data": {
      "application/vnd.jupyter.widget-view+json": {
       "model_id": "55bd6828c173403d8bf817e70c9f78f1",
       "version_major": 2,
       "version_minor": 0
      },
      "text/plain": [
       "  0%|          | 0/1000 [00:00<?, ?it/s]"
      ]
     },
     "metadata": {},
     "output_type": "display_data"
    },
    {
     "name": "stdout",
     "output_type": "stream",
     "text": [
      "Epoch 050: | Train Loss: 1.395 | Val Loss: 1.2358 | Train F1: 0.0901| Val F1: 0.0000\n",
      "Epoch 100: | Train Loss: 1.386 | Val Loss: 1.2251 | Train F1: 0.0653| Val F1: 0.0000\n",
      "Epoch 150: | Train Loss: 1.378 | Val Loss: 1.2126 | Train F1: 0.1330| Val F1: 0.0625\n",
      "Epoch 200: | Train Loss: 1.366 | Val Loss: 1.1994 | Train F1: 0.1419| Val F1: 0.1081\n",
      "Epoch 250: | Train Loss: 1.355 | Val Loss: 1.1876 | Train F1: 0.2257| Val F1: 0.1224\n",
      "Epoch 300: | Train Loss: 1.341 | Val Loss: 1.1775 | Train F1: 0.2548| Val F1: 0.1132\n",
      "Epoch 350: | Train Loss: 1.333 | Val Loss: 1.1688 | Train F1: 0.2515| Val F1: 0.1754\n",
      "Epoch 400: | Train Loss: 1.321 | Val Loss: 1.1614 | Train F1: 0.2981| Val F1: 0.1563\n",
      "Epoch 450: | Train Loss: 1.313 | Val Loss: 1.1553 | Train F1: 0.2951| Val F1: 0.1408\n",
      "Epoch 500: | Train Loss: 1.303 | Val Loss: 1.1503 | Train F1: 0.3336| Val F1: 0.1370\n",
      "Epoch 550: | Train Loss: 1.294 | Val Loss: 1.1460 | Train F1: 0.3390| Val F1: 0.1351\n",
      "Epoch 600: | Train Loss: 1.284 | Val Loss: 1.1426 | Train F1: 0.3528| Val F1: 0.1316\n",
      "Epoch 650: | Train Loss: 1.280 | Val Loss: 1.1397 | Train F1: 0.3459| Val F1: 0.1316\n",
      "Epoch 700: | Train Loss: 1.270 | Val Loss: 1.1372 | Train F1: 0.3651| Val F1: 0.1039\n",
      "Epoch 750: | Train Loss: 1.259 | Val Loss: 1.1352 | Train F1: 0.3957| Val F1: 0.1282\n",
      "Epoch 800: | Train Loss: 1.251 | Val Loss: 1.1335 | Train F1: 0.4252| Val F1: 0.1266\n",
      "Epoch 850: | Train Loss: 1.244 | Val Loss: 1.1318 | Train F1: 0.4342| Val F1: 0.1282\n",
      "Epoch 900: | Train Loss: 1.238 | Val Loss: 1.1301 | Train F1: 0.4497| Val F1: 0.1316\n",
      "Epoch 950: | Train Loss: 1.228 | Val Loss: 1.1284 | Train F1: 0.4735| Val F1: 0.1333\n",
      "Epoch 1000: | Train Loss: 1.226 | Val Loss: 1.1270 | Train F1: 0.4596| Val F1: 0.1370\n",
      "Accuracy: 0.9117647058823529\n",
      "Precision: 0.1111111111111111\n",
      "Recall: 0.17857142857142858\n",
      "F1: 0.136986301369863\n"
     ]
    },
    {
     "data": {
      "application/vnd.jupyter.widget-view+json": {
       "model_id": "5d79f10aecfc46f7a1ba1c9cb5bd12af",
       "version_major": 2,
       "version_minor": 0
      },
      "text/plain": [
       "  0%|          | 0/1000 [00:00<?, ?it/s]"
      ]
     },
     "metadata": {},
     "output_type": "display_data"
    },
    {
     "name": "stdout",
     "output_type": "stream",
     "text": [
      "Epoch 050: | Train Loss: 1.368 | Val Loss: 1.3897 | Train F1: 0.1195| Val F1: 0.1118\n",
      "Epoch 100: | Train Loss: 1.358 | Val Loss: 1.3837 | Train F1: 0.1646| Val F1: 0.1149\n",
      "Epoch 150: | Train Loss: 1.348 | Val Loss: 1.3774 | Train F1: 0.1804| Val F1: 0.0000\n",
      "Epoch 200: | Train Loss: 1.341 | Val Loss: 1.3698 | Train F1: 0.1611| Val F1: 0.0800\n",
      "Epoch 250: | Train Loss: 1.328 | Val Loss: 1.3614 | Train F1: 0.2307| Val F1: 0.0755\n",
      "Epoch 300: | Train Loss: 1.316 | Val Loss: 1.3538 | Train F1: 0.2371| Val F1: 0.0678\n",
      "Epoch 350: | Train Loss: 1.301 | Val Loss: 1.3472 | Train F1: 0.2509| Val F1: 0.0588\n",
      "Epoch 400: | Train Loss: 1.291 | Val Loss: 1.3422 | Train F1: 0.2487| Val F1: 0.1111\n",
      "Epoch 450: | Train Loss: 1.280 | Val Loss: 1.3383 | Train F1: 0.3044| Val F1: 0.1053\n",
      "Epoch 500: | Train Loss: 1.269 | Val Loss: 1.3355 | Train F1: 0.3063| Val F1: 0.1013\n",
      "Epoch 550: | Train Loss: 1.257 | Val Loss: 1.3333 | Train F1: 0.3288| Val F1: 0.0988\n",
      "Epoch 600: | Train Loss: 1.253 | Val Loss: 1.3319 | Train F1: 0.3457| Val F1: 0.0976\n",
      "Epoch 650: | Train Loss: 1.241 | Val Loss: 1.3310 | Train F1: 0.3759| Val F1: 0.1190\n",
      "Epoch 700: | Train Loss: 1.230 | Val Loss: 1.3303 | Train F1: 0.3945| Val F1: 0.0952\n",
      "Early stopping at epoch 710\n",
      "Accuracy: 0.8935574229691877\n",
      "Precision: 0.09523809523809523\n",
      "Recall: 0.09523809523809523\n",
      "F1: 0.09523809523809523\n"
     ]
    },
    {
     "data": {
      "application/vnd.jupyter.widget-view+json": {
       "model_id": "5f6eda791cca48b1a9731100e9c2063f",
       "version_major": 2,
       "version_minor": 0
      },
      "text/plain": [
       "  0%|          | 0/1000 [00:00<?, ?it/s]"
      ]
     },
     "metadata": {},
     "output_type": "display_data"
    },
    {
     "name": "stdout",
     "output_type": "stream",
     "text": [
      "Epoch 050: | Train Loss: 1.352 | Val Loss: 1.4375 | Train F1: 0.0965| Val F1: 0.0430\n",
      "Epoch 100: | Train Loss: 1.342 | Val Loss: 1.4325 | Train F1: 0.0935| Val F1: 0.0000\n",
      "Epoch 150: | Train Loss: 1.327 | Val Loss: 1.4266 | Train F1: 0.1488| Val F1: 0.0000\n",
      "Epoch 200: | Train Loss: 1.318 | Val Loss: 1.4193 | Train F1: 0.1383| Val F1: 0.0000\n",
      "Epoch 250: | Train Loss: 1.306 | Val Loss: 1.4120 | Train F1: 0.1450| Val F1: 0.0000\n",
      "Epoch 300: | Train Loss: 1.291 | Val Loss: 1.4061 | Train F1: 0.1935| Val F1: 0.0000\n",
      "Epoch 350: | Train Loss: 1.282 | Val Loss: 1.4018 | Train F1: 0.2196| Val F1: 0.0000\n",
      "Epoch 400: | Train Loss: 1.272 | Val Loss: 1.3987 | Train F1: 0.2748| Val F1: 0.0000\n",
      "Epoch 450: | Train Loss: 1.259 | Val Loss: 1.3966 | Train F1: 0.2841| Val F1: 0.0364\n",
      "Epoch 500: | Train Loss: 1.252 | Val Loss: 1.3953 | Train F1: 0.3196| Val F1: 0.0333\n",
      "Epoch 550: | Train Loss: 1.246 | Val Loss: 1.3947 | Train F1: 0.3183| Val F1: 0.0328\n",
      "Early stopping at epoch 570\n",
      "Accuracy: 0.9186535764375876\n",
      "Precision: 0.07692307692307693\n",
      "Recall: 0.02127659574468085\n",
      "F1: 0.03333333333333333\n"
     ]
    },
    {
     "data": {
      "application/vnd.jupyter.widget-view+json": {
       "model_id": "d7e483bf818b4b1d9e7e7691ee3ff276",
       "version_major": 2,
       "version_minor": 0
      },
      "text/plain": [
       "  0%|          | 0/1000 [00:00<?, ?it/s]"
      ]
     },
     "metadata": {},
     "output_type": "display_data"
    },
    {
     "name": "stdout",
     "output_type": "stream",
     "text": [
      "Early stopping at epoch 19\n",
      "Accuracy: 0.9187675070028011\n",
      "Precision: 0.16666666666666666\n",
      "Recall: 0.13157894736842105\n",
      "F1: 0.14705882352941177\n"
     ]
    },
    {
     "data": {
      "application/vnd.jupyter.widget-view+json": {
       "model_id": "17eb54f7280845cfbdba5b68bd3e82df",
       "version_major": 2,
       "version_minor": 0
      },
      "text/plain": [
       "  0%|          | 0/1000 [00:00<?, ?it/s]"
      ]
     },
     "metadata": {},
     "output_type": "display_data"
    },
    {
     "name": "stdout",
     "output_type": "stream",
     "text": [
      "Early stopping at epoch 15\n",
      "Accuracy: 0.9005602240896359\n",
      "Precision: 0.1\n",
      "Recall: 0.06382978723404255\n",
      "F1: 0.07792207792207792\n"
     ]
    },
    {
     "data": {
      "application/vnd.jupyter.widget-view+json": {
       "model_id": "b617de62470e458480b5bf2a19519a73",
       "version_major": 2,
       "version_minor": 0
      },
      "text/plain": [
       "  0%|          | 0/1000 [00:00<?, ?it/s]"
      ]
     },
     "metadata": {},
     "output_type": "display_data"
    },
    {
     "name": "stdout",
     "output_type": "stream",
     "text": [
      "Early stopping at epoch 23\n",
      "Accuracy: 0.8977591036414566\n",
      "Precision: 0.11864406779661017\n",
      "Recall: 0.25\n",
      "F1: 0.16091954022988506\n"
     ]
    },
    {
     "data": {
      "application/vnd.jupyter.widget-view+json": {
       "model_id": "e30ae35bdf2d4591ba90a82d5fea7c17",
       "version_major": 2,
       "version_minor": 0
      },
      "text/plain": [
       "  0%|          | 0/1000 [00:00<?, ?it/s]"
      ]
     },
     "metadata": {},
     "output_type": "display_data"
    },
    {
     "name": "stdout",
     "output_type": "stream",
     "text": [
      "Early stopping at epoch 12\n",
      "Accuracy: 0.8683473389355743\n",
      "Precision: 0.03571428571428571\n",
      "Recall: 0.047619047619047616\n",
      "F1: 0.04081632653061224\n"
     ]
    },
    {
     "data": {
      "application/vnd.jupyter.widget-view+json": {
       "model_id": "306cae6b259c4c9b8a94cd6a0ca87531",
       "version_major": 2,
       "version_minor": 0
      },
      "text/plain": [
       "  0%|          | 0/1000 [00:00<?, ?it/s]"
      ]
     },
     "metadata": {},
     "output_type": "display_data"
    },
    {
     "name": "stdout",
     "output_type": "stream",
     "text": [
      "Early stopping at epoch 16\n",
      "Accuracy: 0.9116409537166901\n",
      "Precision: 0.1\n",
      "Recall: 0.0425531914893617\n",
      "F1: 0.05970149253731343\n"
     ]
    },
    {
     "data": {
      "application/vnd.jupyter.widget-view+json": {
       "model_id": "0270aed192fc45dab5577655a268eadb",
       "version_major": 2,
       "version_minor": 0
      },
      "text/plain": [
       "  0%|          | 0/1000 [00:00<?, ?it/s]"
      ]
     },
     "metadata": {},
     "output_type": "display_data"
    },
    {
     "name": "stdout",
     "output_type": "stream",
     "text": [
      "Epoch 050: | Train Loss: 1.121 | Val Loss: 1.2719 | Train F1: 0.6750| Val F1: 0.1034\n",
      "Early stopping at epoch 82\n",
      "Accuracy: 0.9299719887955182\n",
      "Precision: 0.16666666666666666\n",
      "Recall: 0.07894736842105263\n",
      "F1: 0.10714285714285714\n"
     ]
    },
    {
     "data": {
      "application/vnd.jupyter.widget-view+json": {
       "model_id": "37acb4a39a8947b4bd0d60b3bbca462d",
       "version_major": 2,
       "version_minor": 0
      },
      "text/plain": [
       "  0%|          | 0/1000 [00:00<?, ?it/s]"
      ]
     },
     "metadata": {},
     "output_type": "display_data"
    },
    {
     "name": "stdout",
     "output_type": "stream",
     "text": [
      "Early stopping at epoch 32\n",
      "Accuracy: 0.907563025210084\n",
      "Precision: 0.1724137931034483\n",
      "Recall: 0.10638297872340426\n",
      "F1: 0.13157894736842105\n"
     ]
    },
    {
     "data": {
      "application/vnd.jupyter.widget-view+json": {
       "model_id": "8696669ad980478da01f335dd39030f8",
       "version_major": 2,
       "version_minor": 0
      },
      "text/plain": [
       "  0%|          | 0/1000 [00:00<?, ?it/s]"
      ]
     },
     "metadata": {},
     "output_type": "display_data"
    },
    {
     "name": "stdout",
     "output_type": "stream",
     "text": [
      "Early stopping at epoch 46\n",
      "Accuracy: 0.9201680672268907\n",
      "Precision: 0.08571428571428572\n",
      "Recall: 0.10714285714285714\n",
      "F1: 0.09523809523809523\n"
     ]
    },
    {
     "data": {
      "application/vnd.jupyter.widget-view+json": {
       "model_id": "3bfec934b9484818b6958fc290f13cc8",
       "version_major": 2,
       "version_minor": 0
      },
      "text/plain": [
       "  0%|          | 0/1000 [00:00<?, ?it/s]"
      ]
     },
     "metadata": {},
     "output_type": "display_data"
    },
    {
     "name": "stdout",
     "output_type": "stream",
     "text": [
      "Early stopping at epoch 22\n",
      "Accuracy: 0.9089635854341737\n",
      "Precision: 0.12903225806451613\n",
      "Recall: 0.09523809523809523\n",
      "F1: 0.1095890410958904\n"
     ]
    },
    {
     "data": {
      "application/vnd.jupyter.widget-view+json": {
       "model_id": "f99b257672624da4aa769b2efc6c48d6",
       "version_major": 2,
       "version_minor": 0
      },
      "text/plain": [
       "  0%|          | 0/1000 [00:00<?, ?it/s]"
      ]
     },
     "metadata": {},
     "output_type": "display_data"
    },
    {
     "name": "stdout",
     "output_type": "stream",
     "text": [
      "Early stopping at epoch 17\n",
      "Accuracy: 0.9102384291725105\n",
      "Precision: 0.05263157894736842\n",
      "Recall: 0.02127659574468085\n",
      "F1: 0.030303030303030304\n"
     ]
    },
    {
     "data": {
      "application/vnd.jupyter.widget-view+json": {
       "model_id": "9de5f0619bd0431ea2b377c408b8dc9b",
       "version_major": 2,
       "version_minor": 0
      },
      "text/plain": [
       "  0%|          | 0/1000 [00:00<?, ?it/s]"
      ]
     },
     "metadata": {},
     "output_type": "display_data"
    },
    {
     "name": "stdout",
     "output_type": "stream",
     "text": [
      "Epoch 050: | Train Loss: 1.312 | Val Loss: 1.3108 | Train F1: 0.2359| Val F1: 0.1127\n",
      "Epoch 100: | Train Loss: 1.235 | Val Loss: 1.2824 | Train F1: 0.3709| Val F1: 0.1053\n",
      "Epoch 150: | Train Loss: 1.192 | Val Loss: 1.2770 | Train F1: 0.4635| Val F1: 0.0822\n",
      "Early stopping at epoch 155\n",
      "Accuracy: 0.907563025210084\n",
      "Precision: 0.08823529411764706\n",
      "Recall: 0.07894736842105263\n",
      "F1: 0.08333333333333333\n"
     ]
    },
    {
     "data": {
      "application/vnd.jupyter.widget-view+json": {
       "model_id": "55f316affd72451ba3664d40536d74e9",
       "version_major": 2,
       "version_minor": 0
      },
      "text/plain": [
       "  0%|          | 0/1000 [00:00<?, ?it/s]"
      ]
     },
     "metadata": {},
     "output_type": "display_data"
    },
    {
     "name": "stdout",
     "output_type": "stream",
     "text": [
      "Epoch 050: | Train Loss: 1.273 | Val Loss: 1.4119 | Train F1: 0.2458| Val F1: 0.1270\n",
      "Epoch 100: | Train Loss: 1.207 | Val Loss: 1.3983 | Train F1: 0.3860| Val F1: 0.1489\n",
      "Early stopping at epoch 116\n",
      "Accuracy: 0.8823529411764706\n",
      "Precision: 0.13725490196078433\n",
      "Recall: 0.14893617021276595\n",
      "F1: 0.14285714285714285\n"
     ]
    },
    {
     "data": {
      "application/vnd.jupyter.widget-view+json": {
       "model_id": "dbe3026f73614999a962777515f6288f",
       "version_major": 2,
       "version_minor": 0
      },
      "text/plain": [
       "  0%|          | 0/1000 [00:00<?, ?it/s]"
      ]
     },
     "metadata": {},
     "output_type": "display_data"
    },
    {
     "name": "stdout",
     "output_type": "stream",
     "text": [
      "Epoch 050: | Train Loss: 1.351 | Val Loss: 1.1847 | Train F1: 0.2657| Val F1: 0.1600\n",
      "Epoch 100: | Train Loss: 1.264 | Val Loss: 1.1372 | Train F1: 0.4183| Val F1: 0.1075\n",
      "Epoch 150: | Train Loss: 1.216 | Val Loss: 1.1292 | Train F1: 0.4893| Val F1: 0.1205\n",
      "Epoch 200: | Train Loss: 1.184 | Val Loss: 1.1239 | Train F1: 0.5566| Val F1: 0.1429\n",
      "Early stopping at epoch 211\n",
      "Accuracy: 0.9159663865546218\n",
      "Precision: 0.11904761904761904\n",
      "Recall: 0.17857142857142858\n",
      "F1: 0.14285714285714285\n"
     ]
    },
    {
     "data": {
      "application/vnd.jupyter.widget-view+json": {
       "model_id": "78e9645ed3124649a62daedb2c37fba8",
       "version_major": 2,
       "version_minor": 0
      },
      "text/plain": [
       "  0%|          | 0/1000 [00:00<?, ?it/s]"
      ]
     },
     "metadata": {},
     "output_type": "display_data"
    },
    {
     "name": "stdout",
     "output_type": "stream",
     "text": [
      "Epoch 050: | Train Loss: 1.291 | Val Loss: 1.3387 | Train F1: 0.1628| Val F1: 0.0370\n",
      "Early stopping at epoch 89\n",
      "Accuracy: 0.9019607843137255\n",
      "Precision: 0.08823529411764706\n",
      "Recall: 0.07142857142857142\n",
      "F1: 0.07894736842105263\n"
     ]
    },
    {
     "data": {
      "application/vnd.jupyter.widget-view+json": {
       "model_id": "c914b1a37eb742a4ba740e9e829e65a4",
       "version_major": 2,
       "version_minor": 0
      },
      "text/plain": [
       "  0%|          | 0/1000 [00:00<?, ?it/s]"
      ]
     },
     "metadata": {},
     "output_type": "display_data"
    },
    {
     "name": "stdout",
     "output_type": "stream",
     "text": [
      "Epoch 050: | Train Loss: 1.284 | Val Loss: 1.4013 | Train F1: 0.2102| Val F1: 0.0000\n",
      "Early stopping at epoch 88\n",
      "Accuracy: 0.9116409537166901\n",
      "Precision: 0.05555555555555555\n",
      "Recall: 0.02127659574468085\n",
      "F1: 0.03076923076923077\n"
     ]
    },
    {
     "data": {
      "application/vnd.jupyter.widget-view+json": {
       "model_id": "fe1014e5024645879394757ae2fa6943",
       "version_major": 2,
       "version_minor": 0
      },
      "text/plain": [
       "  0%|          | 0/1000 [00:00<?, ?it/s]"
      ]
     },
     "metadata": {},
     "output_type": "display_data"
    },
    {
     "name": "stdout",
     "output_type": "stream",
     "text": [
      "Epoch 050: | Train Loss: 1.380 | Val Loss: 1.3555 | Train F1: 0.1152| Val F1: 0.0719\n",
      "Epoch 100: | Train Loss: 1.373 | Val Loss: 1.3506 | Train F1: 0.1320| Val F1: 0.0891\n",
      "Epoch 150: | Train Loss: 1.365 | Val Loss: 1.3449 | Train F1: 0.1551| Val F1: 0.0968\n",
      "Epoch 200: | Train Loss: 1.357 | Val Loss: 1.3385 | Train F1: 0.1787| Val F1: 0.1176\n",
      "Epoch 250: | Train Loss: 1.348 | Val Loss: 1.3319 | Train F1: 0.1622| Val F1: 0.1471\n",
      "Epoch 300: | Train Loss: 1.339 | Val Loss: 1.3255 | Train F1: 0.2012| Val F1: 0.1538\n",
      "Epoch 350: | Train Loss: 1.327 | Val Loss: 1.3194 | Train F1: 0.2153| Val F1: 0.1356\n",
      "Epoch 400: | Train Loss: 1.317 | Val Loss: 1.3140 | Train F1: 0.2239| Val F1: 0.1071\n",
      "Epoch 450: | Train Loss: 1.310 | Val Loss: 1.3091 | Train F1: 0.2254| Val F1: 0.1034\n",
      "Epoch 500: | Train Loss: 1.303 | Val Loss: 1.3047 | Train F1: 0.2445| Val F1: 0.1017\n",
      "Epoch 550: | Train Loss: 1.294 | Val Loss: 1.3007 | Train F1: 0.2759| Val F1: 0.0984\n",
      "Epoch 600: | Train Loss: 1.287 | Val Loss: 1.2973 | Train F1: 0.2710| Val F1: 0.0984\n",
      "Epoch 650: | Train Loss: 1.283 | Val Loss: 1.2942 | Train F1: 0.2910| Val F1: 0.0923\n",
      "Epoch 700: | Train Loss: 1.274 | Val Loss: 1.2915 | Train F1: 0.3202| Val F1: 0.0923\n",
      "Epoch 750: | Train Loss: 1.270 | Val Loss: 1.2892 | Train F1: 0.3106| Val F1: 0.0857\n",
      "Epoch 800: | Train Loss: 1.267 | Val Loss: 1.2872 | Train F1: 0.3106| Val F1: 0.0845\n",
      "Epoch 850: | Train Loss: 1.261 | Val Loss: 1.2855 | Train F1: 0.3195| Val F1: 0.1096\n",
      "Epoch 900: | Train Loss: 1.250 | Val Loss: 1.2839 | Train F1: 0.3636| Val F1: 0.1039\n",
      "Epoch 950: | Train Loss: 1.246 | Val Loss: 1.2826 | Train F1: 0.3397| Val F1: 0.1053\n",
      "Epoch 1000: | Train Loss: 1.238 | Val Loss: 1.2814 | Train F1: 0.3671| Val F1: 0.1039\n",
      "Accuracy: 0.9033613445378151\n",
      "Precision: 0.10256410256410256\n",
      "Recall: 0.10526315789473684\n",
      "F1: 0.1038961038961039\n"
     ]
    },
    {
     "data": {
      "application/vnd.jupyter.widget-view+json": {
       "model_id": "4461da77af5749129e568fd88d2e8b26",
       "version_major": 2,
       "version_minor": 0
      },
      "text/plain": [
       "  0%|          | 0/1000 [00:00<?, ?it/s]"
      ]
     },
     "metadata": {},
     "output_type": "display_data"
    },
    {
     "name": "stdout",
     "output_type": "stream",
     "text": [
      "Epoch 050: | Train Loss: 1.350 | Val Loss: 1.4357 | Train F1: 0.0960| Val F1: 0.0714\n",
      "Epoch 100: | Train Loss: 1.345 | Val Loss: 1.4337 | Train F1: 0.0962| Val F1: 0.0784\n",
      "Epoch 150: | Train Loss: 1.338 | Val Loss: 1.4315 | Train F1: 0.1168| Val F1: 0.0000\n",
      "Epoch 200: | Train Loss: 1.330 | Val Loss: 1.4292 | Train F1: 0.0756| Val F1: 0.0000\n",
      "Epoch 250: | Train Loss: 1.325 | Val Loss: 1.4266 | Train F1: 0.0579| Val F1: 0.0000\n",
      "Epoch 300: | Train Loss: 1.317 | Val Loss: 1.4241 | Train F1: 0.0641| Val F1: 0.0000\n",
      "Epoch 350: | Train Loss: 1.305 | Val Loss: 1.4217 | Train F1: 0.0765| Val F1: 0.0000\n",
      "Epoch 400: | Train Loss: 1.300 | Val Loss: 1.4194 | Train F1: 0.1291| Val F1: 0.0000\n",
      "Epoch 450: | Train Loss: 1.289 | Val Loss: 1.4170 | Train F1: 0.0982| Val F1: 0.0377\n",
      "Epoch 500: | Train Loss: 1.282 | Val Loss: 1.4148 | Train F1: 0.1323| Val F1: 0.0377\n",
      "Epoch 550: | Train Loss: 1.279 | Val Loss: 1.4128 | Train F1: 0.2031| Val F1: 0.1091\n",
      "Epoch 600: | Train Loss: 1.267 | Val Loss: 1.4108 | Train F1: 0.1928| Val F1: 0.1311\n",
      "Epoch 650: | Train Loss: 1.263 | Val Loss: 1.4090 | Train F1: 0.2149| Val F1: 0.1290\n",
      "Epoch 700: | Train Loss: 1.259 | Val Loss: 1.4072 | Train F1: 0.2591| Val F1: 0.1231\n",
      "Epoch 750: | Train Loss: 1.250 | Val Loss: 1.4055 | Train F1: 0.2720| Val F1: 0.1143\n",
      "Epoch 800: | Train Loss: 1.243 | Val Loss: 1.4039 | Train F1: 0.2942| Val F1: 0.1127\n",
      "Epoch 850: | Train Loss: 1.242 | Val Loss: 1.4028 | Train F1: 0.3100| Val F1: 0.1026\n",
      "Epoch 900: | Train Loss: 1.231 | Val Loss: 1.4017 | Train F1: 0.3476| Val F1: 0.1235\n",
      "Epoch 950: | Train Loss: 1.229 | Val Loss: 1.4009 | Train F1: 0.3406| Val F1: 0.1235\n",
      "Epoch 1000: | Train Loss: 1.223 | Val Loss: 1.4003 | Train F1: 0.3661| Val F1: 0.1163\n",
      "Accuracy: 0.8935574229691877\n",
      "Precision: 0.1282051282051282\n",
      "Recall: 0.10638297872340426\n",
      "F1: 0.11627906976744186\n"
     ]
    },
    {
     "data": {
      "application/vnd.jupyter.widget-view+json": {
       "model_id": "e28e33f9186442c69a0316171ba181c4",
       "version_major": 2,
       "version_minor": 0
      },
      "text/plain": [
       "  0%|          | 0/1000 [00:00<?, ?it/s]"
      ]
     },
     "metadata": {},
     "output_type": "display_data"
    },
    {
     "name": "stdout",
     "output_type": "stream",
     "text": [
      "Epoch 050: | Train Loss: 1.408 | Val Loss: 1.2566 | Train F1: 0.1113| Val F1: 0.0698\n",
      "Epoch 100: | Train Loss: 1.404 | Val Loss: 1.2511 | Train F1: 0.1127| Val F1: 0.0810\n",
      "Epoch 150: | Train Loss: 1.398 | Val Loss: 1.2447 | Train F1: 0.1218| Val F1: 0.0667\n",
      "Epoch 200: | Train Loss: 1.392 | Val Loss: 1.2378 | Train F1: 0.1604| Val F1: 0.0856\n",
      "Epoch 250: | Train Loss: 1.386 | Val Loss: 1.2300 | Train F1: 0.1649| Val F1: 0.0902\n",
      "Epoch 300: | Train Loss: 1.374 | Val Loss: 1.2220 | Train F1: 0.2033| Val F1: 0.0917\n",
      "Epoch 350: | Train Loss: 1.367 | Val Loss: 1.2137 | Train F1: 0.1972| Val F1: 0.1042\n",
      "Epoch 400: | Train Loss: 1.365 | Val Loss: 1.2058 | Train F1: 0.2305| Val F1: 0.1205\n",
      "Epoch 450: | Train Loss: 1.355 | Val Loss: 1.1982 | Train F1: 0.2390| Val F1: 0.1039\n",
      "Epoch 500: | Train Loss: 1.353 | Val Loss: 1.1913 | Train F1: 0.2613| Val F1: 0.1053\n",
      "Epoch 550: | Train Loss: 1.343 | Val Loss: 1.1849 | Train F1: 0.2616| Val F1: 0.1026\n",
      "Epoch 600: | Train Loss: 1.336 | Val Loss: 1.1789 | Train F1: 0.2858| Val F1: 0.1013\n",
      "Epoch 650: | Train Loss: 1.334 | Val Loss: 1.1736 | Train F1: 0.2623| Val F1: 0.1013\n",
      "Epoch 700: | Train Loss: 1.326 | Val Loss: 1.1685 | Train F1: 0.2803| Val F1: 0.0976\n",
      "Epoch 750: | Train Loss: 1.320 | Val Loss: 1.1642 | Train F1: 0.2943| Val F1: 0.0976\n",
      "Epoch 800: | Train Loss: 1.314 | Val Loss: 1.1602 | Train F1: 0.3030| Val F1: 0.0941\n",
      "Epoch 850: | Train Loss: 1.311 | Val Loss: 1.1567 | Train F1: 0.3008| Val F1: 0.0941\n",
      "Epoch 900: | Train Loss: 1.303 | Val Loss: 1.1537 | Train F1: 0.3115| Val F1: 0.0952\n",
      "Epoch 950: | Train Loss: 1.300 | Val Loss: 1.1508 | Train F1: 0.3460| Val F1: 0.0952\n",
      "Epoch 1000: | Train Loss: 1.293 | Val Loss: 1.1483 | Train F1: 0.3335| Val F1: 0.1190\n",
      "Accuracy: 0.896358543417367\n",
      "Precision: 0.08928571428571429\n",
      "Recall: 0.17857142857142858\n",
      "F1: 0.11904761904761904\n"
     ]
    },
    {
     "data": {
      "application/vnd.jupyter.widget-view+json": {
       "model_id": "14af1482ab7a43be8c01e50f43903f9b",
       "version_major": 2,
       "version_minor": 0
      },
      "text/plain": [
       "  0%|          | 0/1000 [00:00<?, ?it/s]"
      ]
     },
     "metadata": {},
     "output_type": "display_data"
    },
    {
     "name": "stdout",
     "output_type": "stream",
     "text": [
      "Epoch 050: | Train Loss: 1.359 | Val Loss: 1.3808 | Train F1: 0.0738| Val F1: 0.0400\n",
      "Epoch 100: | Train Loss: 1.353 | Val Loss: 1.3782 | Train F1: 0.1011| Val F1: 0.0435\n",
      "Epoch 150: | Train Loss: 1.353 | Val Loss: 1.3758 | Train F1: 0.0734| Val F1: 0.0000\n",
      "Epoch 200: | Train Loss: 1.346 | Val Loss: 1.3731 | Train F1: 0.1384| Val F1: 0.0000\n",
      "Epoch 250: | Train Loss: 1.341 | Val Loss: 1.3696 | Train F1: 0.1535| Val F1: 0.0000\n",
      "Epoch 300: | Train Loss: 1.339 | Val Loss: 1.3657 | Train F1: 0.1200| Val F1: 0.0000\n",
      "Epoch 350: | Train Loss: 1.328 | Val Loss: 1.3615 | Train F1: 0.1399| Val F1: 0.0392\n",
      "Epoch 400: | Train Loss: 1.325 | Val Loss: 1.3573 | Train F1: 0.1653| Val F1: 0.0377\n",
      "Epoch 450: | Train Loss: 1.318 | Val Loss: 1.3529 | Train F1: 0.1806| Val F1: 0.0351\n",
      "Epoch 500: | Train Loss: 1.309 | Val Loss: 1.3488 | Train F1: 0.2482| Val F1: 0.0333\n",
      "Epoch 550: | Train Loss: 1.308 | Val Loss: 1.3450 | Train F1: 0.1892| Val F1: 0.0656\n",
      "Epoch 600: | Train Loss: 1.296 | Val Loss: 1.3416 | Train F1: 0.2306| Val F1: 0.0635\n",
      "Epoch 650: | Train Loss: 1.293 | Val Loss: 1.3385 | Train F1: 0.2612| Val F1: 0.0615\n",
      "Epoch 700: | Train Loss: 1.284 | Val Loss: 1.3361 | Train F1: 0.2507| Val F1: 0.1194\n",
      "Epoch 750: | Train Loss: 1.276 | Val Loss: 1.3340 | Train F1: 0.2852| Val F1: 0.1194\n",
      "Epoch 800: | Train Loss: 1.272 | Val Loss: 1.3323 | Train F1: 0.3343| Val F1: 0.1143\n",
      "Epoch 850: | Train Loss: 1.266 | Val Loss: 1.3310 | Train F1: 0.3214| Val F1: 0.1127\n",
      "Epoch 900: | Train Loss: 1.261 | Val Loss: 1.3301 | Train F1: 0.3059| Val F1: 0.1351\n",
      "Epoch 950: | Train Loss: 1.255 | Val Loss: 1.3292 | Train F1: 0.3302| Val F1: 0.1316\n",
      "Epoch 1000: | Train Loss: 1.253 | Val Loss: 1.3285 | Train F1: 0.3228| Val F1: 0.1266\n",
      "Accuracy: 0.9033613445378151\n",
      "Precision: 0.13513513513513514\n",
      "Recall: 0.11904761904761904\n",
      "F1: 0.12658227848101267\n"
     ]
    },
    {
     "data": {
      "application/vnd.jupyter.widget-view+json": {
       "model_id": "d1885117c7b147b887dcbedab2bf7b2a",
       "version_major": 2,
       "version_minor": 0
      },
      "text/plain": [
       "  0%|          | 0/1000 [00:00<?, ?it/s]"
      ]
     },
     "metadata": {},
     "output_type": "display_data"
    },
    {
     "name": "stdout",
     "output_type": "stream",
     "text": [
      "Epoch 050: | Train Loss: 1.350 | Val Loss: 1.4356 | Train F1: 0.1445| Val F1: 0.0930\n",
      "Epoch 100: | Train Loss: 1.347 | Val Loss: 1.4327 | Train F1: 0.1040| Val F1: 0.0714\n",
      "Epoch 150: | Train Loss: 1.340 | Val Loss: 1.4297 | Train F1: 0.1076| Val F1: 0.0000\n",
      "Epoch 200: | Train Loss: 1.335 | Val Loss: 1.4261 | Train F1: 0.1088| Val F1: 0.0000\n",
      "Epoch 250: | Train Loss: 1.328 | Val Loss: 1.4223 | Train F1: 0.1467| Val F1: 0.0000\n",
      "Epoch 300: | Train Loss: 1.322 | Val Loss: 1.4182 | Train F1: 0.1421| Val F1: 0.0000\n",
      "Epoch 350: | Train Loss: 1.311 | Val Loss: 1.4138 | Train F1: 0.1805| Val F1: 0.0000\n",
      "Epoch 400: | Train Loss: 1.302 | Val Loss: 1.4098 | Train F1: 0.1984| Val F1: 0.0000\n",
      "Epoch 450: | Train Loss: 1.295 | Val Loss: 1.4061 | Train F1: 0.2230| Val F1: 0.0000\n",
      "Epoch 500: | Train Loss: 1.288 | Val Loss: 1.4031 | Train F1: 0.2143| Val F1: 0.0000\n",
      "Epoch 550: | Train Loss: 1.281 | Val Loss: 1.4004 | Train F1: 0.2390| Val F1: 0.0000\n",
      "Epoch 600: | Train Loss: 1.272 | Val Loss: 1.3981 | Train F1: 0.2504| Val F1: 0.0000\n",
      "Epoch 650: | Train Loss: 1.264 | Val Loss: 1.3963 | Train F1: 0.2784| Val F1: 0.0345\n",
      "Epoch 700: | Train Loss: 1.264 | Val Loss: 1.3951 | Train F1: 0.2849| Val F1: 0.0339\n",
      "Epoch 750: | Train Loss: 1.255 | Val Loss: 1.3942 | Train F1: 0.3231| Val F1: 0.0328\n",
      "Epoch 800: | Train Loss: 1.252 | Val Loss: 1.3935 | Train F1: 0.3160| Val F1: 0.0308\n",
      "Epoch 850: | Train Loss: 1.242 | Val Loss: 1.3932 | Train F1: 0.3325| Val F1: 0.0294\n",
      "Early stopping at epoch 870\n",
      "Accuracy: 0.9074333800841514\n",
      "Precision: 0.047619047619047616\n",
      "Recall: 0.02127659574468085\n",
      "F1: 0.029411764705882353\n"
     ]
    },
    {
     "data": {
      "application/vnd.jupyter.widget-view+json": {
       "model_id": "36b4556a1be044d4b4e01535aef0589b",
       "version_major": 2,
       "version_minor": 0
      },
      "text/plain": [
       "  0%|          | 0/1000 [00:00<?, ?it/s]"
      ]
     },
     "metadata": {},
     "output_type": "display_data"
    },
    {
     "name": "stdout",
     "output_type": "stream",
     "text": [
      "Early stopping at epoch 20\n",
      "Accuracy: 0.8823529411764706\n",
      "Precision: 0.07407407407407407\n",
      "Recall: 0.10526315789473684\n",
      "F1: 0.08695652173913043\n"
     ]
    },
    {
     "data": {
      "application/vnd.jupyter.widget-view+json": {
       "model_id": "b78127cb5e294476a31e2763ac0b47f8",
       "version_major": 2,
       "version_minor": 0
      },
      "text/plain": [
       "  0%|          | 0/1000 [00:00<?, ?it/s]"
      ]
     },
     "metadata": {},
     "output_type": "display_data"
    },
    {
     "name": "stdout",
     "output_type": "stream",
     "text": [
      "Early stopping at epoch 21\n",
      "Accuracy: 0.8977591036414566\n",
      "Precision: 0.175\n",
      "Recall: 0.14893617021276595\n",
      "F1: 0.16091954022988506\n"
     ]
    },
    {
     "data": {
      "application/vnd.jupyter.widget-view+json": {
       "model_id": "43950df3e1554cd2a1992ca4a64a65eb",
       "version_major": 2,
       "version_minor": 0
      },
      "text/plain": [
       "  0%|          | 0/1000 [00:00<?, ?it/s]"
      ]
     },
     "metadata": {},
     "output_type": "display_data"
    },
    {
     "name": "stdout",
     "output_type": "stream",
     "text": [
      "Early stopping at epoch 22\n",
      "Accuracy: 0.9145658263305322\n",
      "Precision: 0.11627906976744186\n",
      "Recall: 0.17857142857142858\n",
      "F1: 0.14084507042253522\n"
     ]
    },
    {
     "data": {
      "application/vnd.jupyter.widget-view+json": {
       "model_id": "e2ec8bf9d7d7480fbdb701abf16efc20",
       "version_major": 2,
       "version_minor": 0
      },
      "text/plain": [
       "  0%|          | 0/1000 [00:00<?, ?it/s]"
      ]
     },
     "metadata": {},
     "output_type": "display_data"
    },
    {
     "name": "stdout",
     "output_type": "stream",
     "text": [
      "Early stopping at epoch 14\n",
      "Accuracy: 0.8921568627450981\n",
      "Precision: 0.09302325581395349\n",
      "Recall: 0.09523809523809523\n",
      "F1: 0.09411764705882353\n"
     ]
    },
    {
     "data": {
      "application/vnd.jupyter.widget-view+json": {
       "model_id": "212615cd9e7a4187a8fd552c424fac6e",
       "version_major": 2,
       "version_minor": 0
      },
      "text/plain": [
       "  0%|          | 0/1000 [00:00<?, ?it/s]"
      ]
     },
     "metadata": {},
     "output_type": "display_data"
    },
    {
     "name": "stdout",
     "output_type": "stream",
     "text": [
      "Early stopping at epoch 15\n",
      "Accuracy: 0.8920056100981767\n",
      "Precision: 0.058823529411764705\n",
      "Recall: 0.0425531914893617\n",
      "F1: 0.04938271604938271\n"
     ]
    },
    {
     "data": {
      "application/vnd.jupyter.widget-view+json": {
       "model_id": "77f98e80dd764f1e82c6ed4f6c58a180",
       "version_major": 2,
       "version_minor": 0
      },
      "text/plain": [
       "  0%|          | 0/1000 [00:00<?, ?it/s]"
      ]
     },
     "metadata": {},
     "output_type": "display_data"
    },
    {
     "name": "stdout",
     "output_type": "stream",
     "text": [
      "Epoch 050: | Train Loss: 1.153 | Val Loss: 1.2680 | Train F1: 0.4983| Val F1: 0.1231\n",
      "Early stopping at epoch 60\n",
      "Accuracy: 0.9243697478991597\n",
      "Precision: 0.1\n",
      "Recall: 0.05263157894736842\n",
      "F1: 0.06896551724137931\n"
     ]
    },
    {
     "data": {
      "application/vnd.jupyter.widget-view+json": {
       "model_id": "8d14f740b6c74fbbae69116a99b96dae",
       "version_major": 2,
       "version_minor": 0
      },
      "text/plain": [
       "  0%|          | 0/1000 [00:00<?, ?it/s]"
      ]
     },
     "metadata": {},
     "output_type": "display_data"
    },
    {
     "name": "stdout",
     "output_type": "stream",
     "text": [
      "Early stopping at epoch 37\n",
      "Accuracy: 0.896358543417367\n",
      "Precision: 0.15384615384615385\n",
      "Recall: 0.1276595744680851\n",
      "F1: 0.13953488372093023\n"
     ]
    },
    {
     "data": {
      "application/vnd.jupyter.widget-view+json": {
       "model_id": "93fd9475d7b947508d4a938d46659d7a",
       "version_major": 2,
       "version_minor": 0
      },
      "text/plain": [
       "  0%|          | 0/1000 [00:00<?, ?it/s]"
      ]
     },
     "metadata": {},
     "output_type": "display_data"
    },
    {
     "name": "stdout",
     "output_type": "stream",
     "text": [
      "Epoch 050: | Train Loss: 1.178 | Val Loss: 1.1207 | Train F1: 0.5110| Val F1: 0.1389\n",
      "Early stopping at epoch 72\n",
      "Accuracy: 0.9201680672268907\n",
      "Precision: 0.10810810810810811\n",
      "Recall: 0.14285714285714285\n",
      "F1: 0.12307692307692308\n"
     ]
    },
    {
     "data": {
      "application/vnd.jupyter.widget-view+json": {
       "model_id": "21188cf15dd44b949a0c7e14ad6bd56f",
       "version_major": 2,
       "version_minor": 0
      },
      "text/plain": [
       "  0%|          | 0/1000 [00:00<?, ?it/s]"
      ]
     },
     "metadata": {},
     "output_type": "display_data"
    },
    {
     "name": "stdout",
     "output_type": "stream",
     "text": [
      "Early stopping at epoch 24\n",
      "Accuracy: 0.9089635854341737\n",
      "Precision: 0.10344827586206896\n",
      "Recall: 0.07142857142857142\n",
      "F1: 0.08450704225352113\n"
     ]
    },
    {
     "data": {
      "application/vnd.jupyter.widget-view+json": {
       "model_id": "d70bf59fc9074bb0b5de2ea9f1d232d3",
       "version_major": 2,
       "version_minor": 0
      },
      "text/plain": [
       "  0%|          | 0/1000 [00:00<?, ?it/s]"
      ]
     },
     "metadata": {},
     "output_type": "display_data"
    },
    {
     "name": "stdout",
     "output_type": "stream",
     "text": [
      "Early stopping at epoch 27\n",
      "Accuracy: 0.9046283309957924\n",
      "Precision: 0.08\n",
      "Recall: 0.0425531914893617\n",
      "F1: 0.05555555555555555\n"
     ]
    },
    {
     "data": {
      "application/vnd.jupyter.widget-view+json": {
       "model_id": "c7ef43c73a9d4ac38a5bccbf8ae18375",
       "version_major": 2,
       "version_minor": 0
      },
      "text/plain": [
       "  0%|          | 0/1000 [00:00<?, ?it/s]"
      ]
     },
     "metadata": {},
     "output_type": "display_data"
    },
    {
     "name": "stdout",
     "output_type": "stream",
     "text": [
      "Epoch 050: | Train Loss: 1.337 | Val Loss: 1.3233 | Train F1: 0.1705| Val F1: 0.1212\n",
      "Epoch 100: | Train Loss: 1.276 | Val Loss: 1.2899 | Train F1: 0.2952| Val F1: 0.1212\n",
      "Epoch 150: | Train Loss: 1.238 | Val Loss: 1.2773 | Train F1: 0.3743| Val F1: 0.0896\n",
      "Epoch 200: | Train Loss: 1.218 | Val Loss: 1.2751 | Train F1: 0.4264| Val F1: 0.0615\n",
      "Early stopping at epoch 209\n",
      "Accuracy: 0.9159663865546218\n",
      "Precision: 0.07692307692307693\n",
      "Recall: 0.05263157894736842\n",
      "F1: 0.0625\n"
     ]
    },
    {
     "data": {
      "application/vnd.jupyter.widget-view+json": {
       "model_id": "e40ca8e8ef1b47bfb834d93ea2582dd5",
       "version_major": 2,
       "version_minor": 0
      },
      "text/plain": [
       "  0%|          | 0/1000 [00:00<?, ?it/s]"
      ]
     },
     "metadata": {},
     "output_type": "display_data"
    },
    {
     "name": "stdout",
     "output_type": "stream",
     "text": [
      "Epoch 050: | Train Loss: 1.337 | Val Loss: 1.4298 | Train F1: 0.2056| Val F1: 0.0822\n",
      "Epoch 100: | Train Loss: 1.281 | Val Loss: 1.4139 | Train F1: 0.2551| Val F1: 0.1364\n",
      "Epoch 150: | Train Loss: 1.226 | Val Loss: 1.4068 | Train F1: 0.3699| Val F1: 0.1443\n",
      "Epoch 200: | Train Loss: 1.197 | Val Loss: 1.4043 | Train F1: 0.4011| Val F1: 0.1386\n",
      "Epoch 250: | Train Loss: 1.175 | Val Loss: 1.4019 | Train F1: 0.4163| Val F1: 0.1414\n",
      "Epoch 300: | Train Loss: 1.152 | Val Loss: 1.4006 | Train F1: 0.4804| Val F1: 0.1277\n",
      "Early stopping at epoch 305\n",
      "Accuracy: 0.8865546218487395\n",
      "Precision: 0.13043478260869565\n",
      "Recall: 0.1276595744680851\n",
      "F1: 0.12903225806451613\n"
     ]
    },
    {
     "data": {
      "application/vnd.jupyter.widget-view+json": {
       "model_id": "ba1ece07135f452ba3210138a6a89ff0",
       "version_major": 2,
       "version_minor": 0
      },
      "text/plain": [
       "  0%|          | 0/1000 [00:00<?, ?it/s]"
      ]
     },
     "metadata": {},
     "output_type": "display_data"
    },
    {
     "name": "stdout",
     "output_type": "stream",
     "text": [
      "Epoch 050: | Train Loss: 1.372 | Val Loss: 1.2097 | Train F1: 0.2085| Val F1: 0.1132\n",
      "Epoch 100: | Train Loss: 1.324 | Val Loss: 1.1621 | Train F1: 0.3118| Val F1: 0.1290\n",
      "Epoch 150: | Train Loss: 1.280 | Val Loss: 1.1383 | Train F1: 0.3516| Val F1: 0.1319\n",
      "Epoch 200: | Train Loss: 1.247 | Val Loss: 1.1286 | Train F1: 0.4044| Val F1: 0.1124\n",
      "Early stopping at epoch 236\n",
      "Accuracy: 0.8949579831932774\n",
      "Precision: 0.08771929824561403\n",
      "Recall: 0.17857142857142858\n",
      "F1: 0.11764705882352941\n"
     ]
    },
    {
     "data": {
      "application/vnd.jupyter.widget-view+json": {
       "model_id": "e989e2a2bf2f4cae830dd2834983f07c",
       "version_major": 2,
       "version_minor": 0
      },
      "text/plain": [
       "  0%|          | 0/1000 [00:00<?, ?it/s]"
      ]
     },
     "metadata": {},
     "output_type": "display_data"
    },
    {
     "name": "stdout",
     "output_type": "stream",
     "text": [
      "Epoch 050: | Train Loss: 1.329 | Val Loss: 1.3571 | Train F1: 0.1569| Val F1: 0.0769\n",
      "Epoch 100: | Train Loss: 1.279 | Val Loss: 1.3374 | Train F1: 0.3254| Val F1: 0.1000\n",
      "Epoch 150: | Train Loss: 1.239 | Val Loss: 1.3315 | Train F1: 0.3555| Val F1: 0.1111\n",
      "Early stopping at epoch 158\n",
      "Accuracy: 0.9117647058823529\n",
      "Precision: 0.16129032258064516\n",
      "Recall: 0.11904761904761904\n",
      "F1: 0.136986301369863\n"
     ]
    },
    {
     "data": {
      "application/vnd.jupyter.widget-view+json": {
       "model_id": "477ede6a5c174a1bacef2a08d80fa4b6",
       "version_major": 2,
       "version_minor": 0
      },
      "text/plain": [
       "  0%|          | 0/1000 [00:00<?, ?it/s]"
      ]
     },
     "metadata": {},
     "output_type": "display_data"
    },
    {
     "name": "stdout",
     "output_type": "stream",
     "text": [
      "Epoch 050: | Train Loss: 1.309 | Val Loss: 1.4056 | Train F1: 0.1632| Val F1: 0.0879\n",
      "Epoch 100: | Train Loss: 1.263 | Val Loss: 1.3898 | Train F1: 0.2905| Val F1: 0.0833\n",
      "Early stopping at epoch 132\n",
      "Accuracy: 0.908835904628331\n",
      "Precision: 0.125\n",
      "Recall: 0.06382978723404255\n",
      "F1: 0.08450704225352113\n"
     ]
    },
    {
     "data": {
      "application/vnd.jupyter.widget-view+json": {
       "model_id": "d27c1d95c9dc42efaa0a97381dd30314",
       "version_major": 2,
       "version_minor": 0
      },
      "text/plain": [
       "  0%|          | 0/1000 [00:00<?, ?it/s]"
      ]
     },
     "metadata": {},
     "output_type": "display_data"
    },
    {
     "name": "stdout",
     "output_type": "stream",
     "text": [
      "Epoch 050: | Train Loss: 1.377 | Val Loss: 1.3469 | Train F1: 0.0958| Val F1: 0.1752\n",
      "Epoch 100: | Train Loss: 1.372 | Val Loss: 1.3451 | Train F1: 0.1455| Val F1: 0.1754\n",
      "Epoch 150: | Train Loss: 1.370 | Val Loss: 1.3435 | Train F1: 0.1515| Val F1: 0.1895\n",
      "Epoch 200: | Train Loss: 1.368 | Val Loss: 1.3420 | Train F1: 0.1602| Val F1: 0.1978\n",
      "Epoch 250: | Train Loss: 1.367 | Val Loss: 1.3404 | Train F1: 0.1363| Val F1: 0.1609\n",
      "Epoch 300: | Train Loss: 1.360 | Val Loss: 1.3387 | Train F1: 0.2052| Val F1: 0.1687\n",
      "Epoch 350: | Train Loss: 1.358 | Val Loss: 1.3367 | Train F1: 0.1872| Val F1: 0.1481\n",
      "Epoch 400: | Train Loss: 1.356 | Val Loss: 1.3345 | Train F1: 0.1642| Val F1: 0.1481\n",
      "Epoch 450: | Train Loss: 1.351 | Val Loss: 1.3322 | Train F1: 0.2100| Val F1: 0.1519\n",
      "Epoch 500: | Train Loss: 1.345 | Val Loss: 1.3297 | Train F1: 0.1976| Val F1: 0.1558\n",
      "Epoch 550: | Train Loss: 1.338 | Val Loss: 1.3269 | Train F1: 0.2347| Val F1: 0.1333\n",
      "Epoch 600: | Train Loss: 1.334 | Val Loss: 1.3237 | Train F1: 0.2437| Val F1: 0.1600\n",
      "Epoch 650: | Train Loss: 1.332 | Val Loss: 1.3206 | Train F1: 0.2310| Val F1: 0.1600\n",
      "Epoch 700: | Train Loss: 1.325 | Val Loss: 1.3174 | Train F1: 0.2516| Val F1: 0.1867\n",
      "Epoch 750: | Train Loss: 1.321 | Val Loss: 1.3144 | Train F1: 0.2721| Val F1: 0.1842\n",
      "Epoch 800: | Train Loss: 1.313 | Val Loss: 1.3113 | Train F1: 0.2282| Val F1: 0.1579\n",
      "Epoch 850: | Train Loss: 1.313 | Val Loss: 1.3084 | Train F1: 0.2632| Val F1: 0.1579\n",
      "Epoch 900: | Train Loss: 1.301 | Val Loss: 1.3057 | Train F1: 0.2778| Val F1: 0.1558\n",
      "Epoch 950: | Train Loss: 1.306 | Val Loss: 1.3031 | Train F1: 0.2757| Val F1: 0.1538\n",
      "Epoch 1000: | Train Loss: 1.301 | Val Loss: 1.3007 | Train F1: 0.2745| Val F1: 0.1500\n",
      "Accuracy: 0.9047619047619048\n",
      "Precision: 0.14285714285714285\n",
      "Recall: 0.15789473684210525\n",
      "F1: 0.15\n"
     ]
    },
    {
     "data": {
      "application/vnd.jupyter.widget-view+json": {
       "model_id": "a3c83741cd6b4714a168da94ab5d069c",
       "version_major": 2,
       "version_minor": 0
      },
      "text/plain": [
       "  0%|          | 0/1000 [00:00<?, ?it/s]"
      ]
     },
     "metadata": {},
     "output_type": "display_data"
    },
    {
     "name": "stdout",
     "output_type": "stream",
     "text": [
      "Epoch 050: | Train Loss: 1.372 | Val Loss: 1.4494 | Train F1: 0.1031| Val F1: 0.1235\n",
      "Epoch 100: | Train Loss: 1.369 | Val Loss: 1.4482 | Train F1: 0.1039| Val F1: 0.1235\n",
      "Epoch 150: | Train Loss: 1.367 | Val Loss: 1.4472 | Train F1: 0.1054| Val F1: 0.1238\n",
      "Epoch 200: | Train Loss: 1.364 | Val Loss: 1.4463 | Train F1: 0.1061| Val F1: 0.1230\n",
      "Epoch 250: | Train Loss: 1.360 | Val Loss: 1.4455 | Train F1: 0.1088| Val F1: 0.1180\n",
      "Epoch 300: | Train Loss: 1.357 | Val Loss: 1.4445 | Train F1: 0.1145| Val F1: 0.1006\n",
      "Epoch 350: | Train Loss: 1.352 | Val Loss: 1.4434 | Train F1: 0.1168| Val F1: 0.0807\n",
      "Epoch 400: | Train Loss: 1.347 | Val Loss: 1.4421 | Train F1: 0.1205| Val F1: 0.0985\n",
      "Epoch 450: | Train Loss: 1.340 | Val Loss: 1.4405 | Train F1: 0.1383| Val F1: 0.1036\n",
      "Epoch 500: | Train Loss: 1.335 | Val Loss: 1.4386 | Train F1: 0.1511| Val F1: 0.1281\n",
      "Epoch 550: | Train Loss: 1.328 | Val Loss: 1.4366 | Train F1: 0.1512| Val F1: 0.1444\n",
      "Epoch 600: | Train Loss: 1.325 | Val Loss: 1.4346 | Train F1: 0.1668| Val F1: 0.1366\n",
      "Epoch 650: | Train Loss: 1.319 | Val Loss: 1.4326 | Train F1: 0.1705| Val F1: 0.1361\n",
      "Epoch 700: | Train Loss: 1.310 | Val Loss: 1.4306 | Train F1: 0.1931| Val F1: 0.1268\n",
      "Epoch 750: | Train Loss: 1.306 | Val Loss: 1.4286 | Train F1: 0.2142| Val F1: 0.1185\n",
      "Epoch 800: | Train Loss: 1.298 | Val Loss: 1.4267 | Train F1: 0.1995| Val F1: 0.1221\n",
      "Epoch 850: | Train Loss: 1.294 | Val Loss: 1.4248 | Train F1: 0.2120| Val F1: 0.1260\n",
      "Epoch 900: | Train Loss: 1.289 | Val Loss: 1.4230 | Train F1: 0.2168| Val F1: 0.1290\n",
      "Epoch 950: | Train Loss: 1.285 | Val Loss: 1.4212 | Train F1: 0.2189| Val F1: 0.1311\n",
      "Epoch 1000: | Train Loss: 1.280 | Val Loss: 1.4193 | Train F1: 0.2500| Val F1: 0.1345\n",
      "Accuracy: 0.8557422969187675\n",
      "Precision: 0.1111111111111111\n",
      "Recall: 0.1702127659574468\n",
      "F1: 0.13445378151260504\n"
     ]
    },
    {
     "data": {
      "application/vnd.jupyter.widget-view+json": {
       "model_id": "e84d072524de472eaaa8f860eb9a2fe7",
       "version_major": 2,
       "version_minor": 0
      },
      "text/plain": [
       "  0%|          | 0/1000 [00:00<?, ?it/s]"
      ]
     },
     "metadata": {},
     "output_type": "display_data"
    },
    {
     "name": "stdout",
     "output_type": "stream",
     "text": [
      "Epoch 050: | Train Loss: 1.396 | Val Loss: 1.2396 | Train F1: 0.1270| Val F1: 0.0000\n",
      "Epoch 100: | Train Loss: 1.395 | Val Loss: 1.2366 | Train F1: 0.1041| Val F1: 0.0000\n",
      "Epoch 150: | Train Loss: 1.392 | Val Loss: 1.2335 | Train F1: 0.1443| Val F1: 0.0000\n",
      "Epoch 200: | Train Loss: 1.389 | Val Loss: 1.2303 | Train F1: 0.1306| Val F1: 0.0000\n",
      "Epoch 250: | Train Loss: 1.384 | Val Loss: 1.2270 | Train F1: 0.1781| Val F1: 0.0435\n",
      "Epoch 300: | Train Loss: 1.383 | Val Loss: 1.2234 | Train F1: 0.1214| Val F1: 0.0426\n",
      "Epoch 350: | Train Loss: 1.381 | Val Loss: 1.2197 | Train F1: 0.1275| Val F1: 0.0426\n",
      "Epoch 400: | Train Loss: 1.376 | Val Loss: 1.2159 | Train F1: 0.2033| Val F1: 0.0444\n",
      "Epoch 450: | Train Loss: 1.373 | Val Loss: 1.2119 | Train F1: 0.1644| Val F1: 0.0444\n",
      "Epoch 500: | Train Loss: 1.368 | Val Loss: 1.2080 | Train F1: 0.1958| Val F1: 0.0435\n",
      "Epoch 550: | Train Loss: 1.365 | Val Loss: 1.2041 | Train F1: 0.1715| Val F1: 0.0816\n",
      "Epoch 600: | Train Loss: 1.363 | Val Loss: 1.2000 | Train F1: 0.1760| Val F1: 0.0755\n",
      "Epoch 650: | Train Loss: 1.357 | Val Loss: 1.1961 | Train F1: 0.2454| Val F1: 0.0755\n",
      "Epoch 700: | Train Loss: 1.353 | Val Loss: 1.1921 | Train F1: 0.2159| Val F1: 0.1091\n",
      "Epoch 750: | Train Loss: 1.353 | Val Loss: 1.1881 | Train F1: 0.1956| Val F1: 0.0968\n",
      "Epoch 800: | Train Loss: 1.341 | Val Loss: 1.1844 | Train F1: 0.2885| Val F1: 0.0896\n",
      "Epoch 850: | Train Loss: 1.338 | Val Loss: 1.1808 | Train F1: 0.2378| Val F1: 0.1449\n",
      "Epoch 900: | Train Loss: 1.332 | Val Loss: 1.1772 | Train F1: 0.2403| Val F1: 0.1449\n",
      "Epoch 950: | Train Loss: 1.331 | Val Loss: 1.1738 | Train F1: 0.2507| Val F1: 0.1667\n",
      "Epoch 1000: | Train Loss: 1.329 | Val Loss: 1.1705 | Train F1: 0.2606| Val F1: 0.1600\n",
      "Accuracy: 0.9117647058823529\n",
      "Precision: 0.1276595744680851\n",
      "Recall: 0.21428571428571427\n",
      "F1: 0.16\n"
     ]
    },
    {
     "data": {
      "application/vnd.jupyter.widget-view+json": {
       "model_id": "145442f7c0bc40748b4f47232bb8e3d0",
       "version_major": 2,
       "version_minor": 0
      },
      "text/plain": [
       "  0%|          | 0/1000 [00:00<?, ?it/s]"
      ]
     },
     "metadata": {},
     "output_type": "display_data"
    },
    {
     "name": "stdout",
     "output_type": "stream",
     "text": [
      "Epoch 050: | Train Loss: 1.377 | Val Loss: 1.3947 | Train F1: 0.0989| Val F1: 0.1093\n",
      "Epoch 100: | Train Loss: 1.373 | Val Loss: 1.3929 | Train F1: 0.1036| Val F1: 0.1081\n",
      "Epoch 150: | Train Loss: 1.371 | Val Loss: 1.3912 | Train F1: 0.1041| Val F1: 0.1120\n",
      "Epoch 200: | Train Loss: 1.370 | Val Loss: 1.3896 | Train F1: 0.1062| Val F1: 0.1165\n",
      "Epoch 250: | Train Loss: 1.366 | Val Loss: 1.3880 | Train F1: 0.1215| Val F1: 0.1219\n",
      "Epoch 300: | Train Loss: 1.363 | Val Loss: 1.3860 | Train F1: 0.1423| Val F1: 0.1400\n",
      "Epoch 350: | Train Loss: 1.360 | Val Loss: 1.3836 | Train F1: 0.1477| Val F1: 0.1438\n",
      "Epoch 400: | Train Loss: 1.356 | Val Loss: 1.3810 | Train F1: 0.1479| Val F1: 0.1719\n",
      "Epoch 450: | Train Loss: 1.354 | Val Loss: 1.3779 | Train F1: 0.1749| Val F1: 0.1930\n",
      "Epoch 500: | Train Loss: 1.351 | Val Loss: 1.3747 | Train F1: 0.1737| Val F1: 0.2020\n",
      "Epoch 550: | Train Loss: 1.345 | Val Loss: 1.3715 | Train F1: 0.1977| Val F1: 0.1957\n",
      "Epoch 600: | Train Loss: 1.343 | Val Loss: 1.3681 | Train F1: 0.1990| Val F1: 0.1798\n",
      "Epoch 650: | Train Loss: 1.340 | Val Loss: 1.3648 | Train F1: 0.2004| Val F1: 0.1609\n",
      "Epoch 700: | Train Loss: 1.332 | Val Loss: 1.3615 | Train F1: 0.1860| Val F1: 0.1647\n",
      "Epoch 750: | Train Loss: 1.323 | Val Loss: 1.3583 | Train F1: 0.2109| Val F1: 0.1687\n",
      "Epoch 800: | Train Loss: 1.322 | Val Loss: 1.3553 | Train F1: 0.2115| Val F1: 0.1707\n",
      "Epoch 850: | Train Loss: 1.319 | Val Loss: 1.3524 | Train F1: 0.2479| Val F1: 0.1463\n",
      "Epoch 900: | Train Loss: 1.316 | Val Loss: 1.3497 | Train F1: 0.2117| Val F1: 0.1500\n",
      "Epoch 950: | Train Loss: 1.310 | Val Loss: 1.3471 | Train F1: 0.2228| Val F1: 0.1282\n",
      "Epoch 1000: | Train Loss: 1.309 | Val Loss: 1.3447 | Train F1: 0.2312| Val F1: 0.1235\n",
      "Accuracy: 0.9005602240896359\n",
      "Precision: 0.1282051282051282\n",
      "Recall: 0.11904761904761904\n",
      "F1: 0.12345679012345678\n"
     ]
    },
    {
     "data": {
      "application/vnd.jupyter.widget-view+json": {
       "model_id": "ae141696f45e41ea9c1b3a3a5a1eb87a",
       "version_major": 2,
       "version_minor": 0
      },
      "text/plain": [
       "  0%|          | 0/1000 [00:00<?, ?it/s]"
      ]
     },
     "metadata": {},
     "output_type": "display_data"
    },
    {
     "name": "stdout",
     "output_type": "stream",
     "text": [
      "Epoch 050: | Train Loss: 1.351 | Val Loss: 1.4356 | Train F1: 0.0647| Val F1: 0.0000\n",
      "Epoch 100: | Train Loss: 1.347 | Val Loss: 1.4334 | Train F1: 0.0446| Val F1: 0.0000\n",
      "Epoch 150: | Train Loss: 1.339 | Val Loss: 1.4308 | Train F1: 0.1072| Val F1: 0.0000\n",
      "Epoch 200: | Train Loss: 1.336 | Val Loss: 1.4279 | Train F1: 0.1207| Val F1: 0.0000\n",
      "Epoch 250: | Train Loss: 1.333 | Val Loss: 1.4248 | Train F1: 0.0989| Val F1: 0.0000\n",
      "Epoch 300: | Train Loss: 1.324 | Val Loss: 1.4216 | Train F1: 0.1293| Val F1: 0.0000\n",
      "Epoch 350: | Train Loss: 1.323 | Val Loss: 1.4181 | Train F1: 0.1518| Val F1: 0.0000\n",
      "Epoch 400: | Train Loss: 1.319 | Val Loss: 1.4148 | Train F1: 0.1408| Val F1: 0.0000\n",
      "Epoch 450: | Train Loss: 1.317 | Val Loss: 1.4117 | Train F1: 0.1766| Val F1: 0.0000\n",
      "Epoch 500: | Train Loss: 1.305 | Val Loss: 1.4088 | Train F1: 0.1611| Val F1: 0.0000\n",
      "Epoch 550: | Train Loss: 1.307 | Val Loss: 1.4062 | Train F1: 0.1653| Val F1: 0.0000\n",
      "Epoch 600: | Train Loss: 1.298 | Val Loss: 1.4038 | Train F1: 0.2248| Val F1: 0.0000\n",
      "Epoch 650: | Train Loss: 1.296 | Val Loss: 1.4017 | Train F1: 0.1893| Val F1: 0.0000\n",
      "Epoch 700: | Train Loss: 1.290 | Val Loss: 1.3998 | Train F1: 0.1942| Val F1: 0.0000\n",
      "Epoch 750: | Train Loss: 1.285 | Val Loss: 1.3982 | Train F1: 0.2469| Val F1: 0.0000\n",
      "Epoch 800: | Train Loss: 1.284 | Val Loss: 1.3968 | Train F1: 0.2387| Val F1: 0.0000\n",
      "Epoch 850: | Train Loss: 1.281 | Val Loss: 1.3955 | Train F1: 0.2304| Val F1: 0.0000\n",
      "Epoch 900: | Train Loss: 1.269 | Val Loss: 1.3946 | Train F1: 0.2512| Val F1: 0.0000\n",
      "Epoch 950: | Train Loss: 1.270 | Val Loss: 1.3938 | Train F1: 0.2734| Val F1: 0.0000\n",
      "Epoch 1000: | Train Loss: 1.267 | Val Loss: 1.3932 | Train F1: 0.2438| Val F1: 0.0000\n",
      "Accuracy: 0.9200561009817672\n",
      "Precision: 0.0\n",
      "Recall: 0.0\n",
      "F1: 0.0\n"
     ]
    },
    {
     "data": {
      "application/vnd.jupyter.widget-view+json": {
       "model_id": "1d4786fedac64da6bac730cace6d9e7b",
       "version_major": 2,
       "version_minor": 0
      },
      "text/plain": [
       "  0%|          | 0/1000 [00:00<?, ?it/s]"
      ]
     },
     "metadata": {},
     "output_type": "display_data"
    },
    {
     "name": "stdout",
     "output_type": "stream",
     "text": [
      "Early stopping at epoch 33\n",
      "Accuracy: 0.9117647058823529\n",
      "Precision: 0.0967741935483871\n",
      "Recall: 0.07894736842105263\n",
      "F1: 0.08695652173913043\n"
     ]
    },
    {
     "data": {
      "application/vnd.jupyter.widget-view+json": {
       "model_id": "fec8e1b889c74912a661a8994e1c30d3",
       "version_major": 2,
       "version_minor": 0
      },
      "text/plain": [
       "  0%|          | 0/1000 [00:00<?, ?it/s]"
      ]
     },
     "metadata": {},
     "output_type": "display_data"
    },
    {
     "name": "stdout",
     "output_type": "stream",
     "text": [
      "Epoch 050: | Train Loss: 1.163 | Val Loss: 1.4042 | Train F1: 0.4392| Val F1: 0.1026\n",
      "Early stopping at epoch 62\n",
      "Accuracy: 0.8879551820728291\n",
      "Precision: 0.14893617021276595\n",
      "Recall: 0.14893617021276595\n",
      "F1: 0.14893617021276595\n"
     ]
    },
    {
     "data": {
      "application/vnd.jupyter.widget-view+json": {
       "model_id": "f7da4d6e12334a4daaef89b3d4486013",
       "version_major": 2,
       "version_minor": 0
      },
      "text/plain": [
       "  0%|          | 0/1000 [00:00<?, ?it/s]"
      ]
     },
     "metadata": {},
     "output_type": "display_data"
    },
    {
     "name": "stdout",
     "output_type": "stream",
     "text": [
      "Early stopping at epoch 41\n",
      "Accuracy: 0.9187675070028011\n",
      "Precision: 0.08333333333333333\n",
      "Recall: 0.10714285714285714\n",
      "F1: 0.09375\n"
     ]
    },
    {
     "data": {
      "application/vnd.jupyter.widget-view+json": {
       "model_id": "6f60e45ec6b74acbb149f7431b9a9e16",
       "version_major": 2,
       "version_minor": 0
      },
      "text/plain": [
       "  0%|          | 0/1000 [00:00<?, ?it/s]"
      ]
     },
     "metadata": {},
     "output_type": "display_data"
    },
    {
     "name": "stdout",
     "output_type": "stream",
     "text": [
      "Early stopping at epoch 16\n",
      "Accuracy: 0.8991596638655462\n",
      "Precision: 0.03125\n",
      "Recall: 0.023809523809523808\n",
      "F1: 0.02702702702702703\n"
     ]
    },
    {
     "data": {
      "application/vnd.jupyter.widget-view+json": {
       "model_id": "4dfd45d7a20f402ab1fc79b6718c2fb7",
       "version_major": 2,
       "version_minor": 0
      },
      "text/plain": [
       "  0%|          | 0/1000 [00:00<?, ?it/s]"
      ]
     },
     "metadata": {},
     "output_type": "display_data"
    },
    {
     "name": "stdout",
     "output_type": "stream",
     "text": [
      "Early stopping at epoch 19\n",
      "Accuracy: 0.8948106591865358\n",
      "Precision: 0.1111111111111111\n",
      "Recall: 0.0851063829787234\n",
      "F1: 0.0963855421686747\n"
     ]
    },
    {
     "data": {
      "application/vnd.jupyter.widget-view+json": {
       "model_id": "d0ad6b5795fa4ce88f1eafc824421b1c",
       "version_major": 2,
       "version_minor": 0
      },
      "text/plain": [
       "  0%|          | 0/1000 [00:00<?, ?it/s]"
      ]
     },
     "metadata": {},
     "output_type": "display_data"
    },
    {
     "name": "stdout",
     "output_type": "stream",
     "text": [
      "Early stopping at epoch 45\n",
      "Accuracy: 0.9131652661064426\n",
      "Precision: 0.1\n",
      "Recall: 0.07894736842105263\n",
      "F1: 0.08823529411764706\n"
     ]
    },
    {
     "data": {
      "application/vnd.jupyter.widget-view+json": {
       "model_id": "35c396bad9ae43328916039070a9dc3b",
       "version_major": 2,
       "version_minor": 0
      },
      "text/plain": [
       "  0%|          | 0/1000 [00:00<?, ?it/s]"
      ]
     },
     "metadata": {},
     "output_type": "display_data"
    },
    {
     "name": "stdout",
     "output_type": "stream",
     "text": [
      "Epoch 050: | Train Loss: 1.187 | Val Loss: 1.4027 | Train F1: 0.3575| Val F1: 0.1284\n",
      "Early stopping at epoch 51\n",
      "Accuracy: 0.8683473389355743\n",
      "Precision: 0.11475409836065574\n",
      "Recall: 0.14893617021276595\n",
      "F1: 0.12962962962962962\n"
     ]
    },
    {
     "data": {
      "application/vnd.jupyter.widget-view+json": {
       "model_id": "4a6f15cee066433da92beeb20c9c2ce3",
       "version_major": 2,
       "version_minor": 0
      },
      "text/plain": [
       "  0%|          | 0/1000 [00:00<?, ?it/s]"
      ]
     },
     "metadata": {},
     "output_type": "display_data"
    },
    {
     "name": "stdout",
     "output_type": "stream",
     "text": [
      "Epoch 050: | Train Loss: 1.231 | Val Loss: 1.1390 | Train F1: 0.4179| Val F1: 0.0952\n",
      "Early stopping at epoch 52\n",
      "Accuracy: 0.8669467787114846\n",
      "Precision: 0.06493506493506493\n",
      "Recall: 0.17857142857142858\n",
      "F1: 0.09523809523809523\n"
     ]
    },
    {
     "data": {
      "application/vnd.jupyter.widget-view+json": {
       "model_id": "15baa9cd6b15417089ab5a7a997f9ad3",
       "version_major": 2,
       "version_minor": 0
      },
      "text/plain": [
       "  0%|          | 0/1000 [00:00<?, ?it/s]"
      ]
     },
     "metadata": {},
     "output_type": "display_data"
    },
    {
     "name": "stdout",
     "output_type": "stream",
     "text": [
      "Early stopping at epoch 40\n",
      "Accuracy: 0.8949579831932774\n",
      "Precision: 0.0975609756097561\n",
      "Recall: 0.09523809523809523\n",
      "F1: 0.0963855421686747\n"
     ]
    },
    {
     "data": {
      "application/vnd.jupyter.widget-view+json": {
       "model_id": "78da097785c54d1896af641cc3566805",
       "version_major": 2,
       "version_minor": 0
      },
      "text/plain": [
       "  0%|          | 0/1000 [00:00<?, ?it/s]"
      ]
     },
     "metadata": {},
     "output_type": "display_data"
    },
    {
     "name": "stdout",
     "output_type": "stream",
     "text": [
      "Early stopping at epoch 43\n",
      "Accuracy: 0.8779803646563815\n",
      "Precision: 0.14285714285714285\n",
      "Recall: 0.1702127659574468\n",
      "F1: 0.1553398058252427\n"
     ]
    },
    {
     "data": {
      "application/vnd.jupyter.widget-view+json": {
       "model_id": "54eba09d6ab84e1690c2519b4f056995",
       "version_major": 2,
       "version_minor": 0
      },
      "text/plain": [
       "  0%|          | 0/1000 [00:00<?, ?it/s]"
      ]
     },
     "metadata": {},
     "output_type": "display_data"
    },
    {
     "name": "stdout",
     "output_type": "stream",
     "text": [
      "Epoch 050: | Train Loss: 1.361 | Val Loss: 1.3411 | Train F1: 0.1949| Val F1: 0.0308\n",
      "Epoch 100: | Train Loss: 1.327 | Val Loss: 1.3198 | Train F1: 0.2202| Val F1: 0.0635\n",
      "Epoch 150: | Train Loss: 1.293 | Val Loss: 1.3037 | Train F1: 0.2368| Val F1: 0.0769\n",
      "Epoch 200: | Train Loss: 1.264 | Val Loss: 1.2950 | Train F1: 0.3026| Val F1: 0.1013\n",
      "Epoch 250: | Train Loss: 1.249 | Val Loss: 1.2894 | Train F1: 0.3092| Val F1: 0.1000\n",
      "Epoch 300: | Train Loss: 1.229 | Val Loss: 1.2865 | Train F1: 0.3381| Val F1: 0.0769\n",
      "Epoch 350: | Train Loss: 1.222 | Val Loss: 1.2841 | Train F1: 0.3627| Val F1: 0.0750\n",
      "Early stopping at epoch 376\n",
      "Accuracy: 0.9005602240896359\n",
      "Precision: 0.07692307692307693\n",
      "Recall: 0.07894736842105263\n",
      "F1: 0.07792207792207792\n"
     ]
    },
    {
     "data": {
      "application/vnd.jupyter.widget-view+json": {
       "model_id": "2ba1b19c08ce4c0181e6a03f24295e5b",
       "version_major": 2,
       "version_minor": 0
      },
      "text/plain": [
       "  0%|          | 0/1000 [00:00<?, ?it/s]"
      ]
     },
     "metadata": {},
     "output_type": "display_data"
    },
    {
     "name": "stdout",
     "output_type": "stream",
     "text": [
      "Epoch 050: | Train Loss: 1.345 | Val Loss: 1.4326 | Train F1: 0.1215| Val F1: 0.1513\n",
      "Epoch 100: | Train Loss: 1.327 | Val Loss: 1.4184 | Train F1: 0.1379| Val F1: 0.1418\n",
      "Epoch 150: | Train Loss: 1.290 | Val Loss: 1.4091 | Train F1: 0.1980| Val F1: 0.1481\n",
      "Epoch 200: | Train Loss: 1.255 | Val Loss: 1.4033 | Train F1: 0.2242| Val F1: 0.1132\n",
      "Early stopping at epoch 245\n",
      "Accuracy: 0.8683473389355743\n",
      "Precision: 0.1016949152542373\n",
      "Recall: 0.1276595744680851\n",
      "F1: 0.11320754716981132\n"
     ]
    },
    {
     "data": {
      "application/vnd.jupyter.widget-view+json": {
       "model_id": "6eba9a8e2c3b47bdb29ba44a2dac911c",
       "version_major": 2,
       "version_minor": 0
      },
      "text/plain": [
       "  0%|          | 0/1000 [00:00<?, ?it/s]"
      ]
     },
     "metadata": {},
     "output_type": "display_data"
    },
    {
     "name": "stdout",
     "output_type": "stream",
     "text": [
      "Epoch 050: | Train Loss: 1.387 | Val Loss: 1.2279 | Train F1: 0.1451| Val F1: 0.1053\n",
      "Epoch 100: | Train Loss: 1.364 | Val Loss: 1.2019 | Train F1: 0.2070| Val F1: 0.1322\n",
      "Epoch 150: | Train Loss: 1.335 | Val Loss: 1.1803 | Train F1: 0.2622| Val F1: 0.1207\n",
      "Epoch 200: | Train Loss: 1.311 | Val Loss: 1.1650 | Train F1: 0.2728| Val F1: 0.1239\n",
      "Epoch 250: | Train Loss: 1.285 | Val Loss: 1.1551 | Train F1: 0.3293| Val F1: 0.1250\n",
      "Epoch 300: | Train Loss: 1.263 | Val Loss: 1.1490 | Train F1: 0.3688| Val F1: 0.1284\n",
      "Epoch 350: | Train Loss: 1.249 | Val Loss: 1.1436 | Train F1: 0.3895| Val F1: 0.1321\n",
      "Epoch 400: | Train Loss: 1.251 | Val Loss: 1.1392 | Train F1: 0.3938| Val F1: 0.1188\n",
      "Epoch 450: | Train Loss: 1.235 | Val Loss: 1.1347 | Train F1: 0.4223| Val F1: 0.1277\n",
      "Epoch 500: | Train Loss: 1.231 | Val Loss: 1.1302 | Train F1: 0.4571| Val F1: 0.1304\n",
      "Epoch 550: | Train Loss: 1.230 | Val Loss: 1.1252 | Train F1: 0.4967| Val F1: 0.1379\n",
      "Epoch 600: | Train Loss: 1.215 | Val Loss: 1.1217 | Train F1: 0.5147| Val F1: 0.1429\n",
      "Epoch 650: | Train Loss: 1.212 | Val Loss: 1.1175 | Train F1: 0.5394| Val F1: 0.1463\n",
      "Epoch 700: | Train Loss: 1.201 | Val Loss: 1.1137 | Train F1: 0.5611| Val F1: 0.1579\n",
      "Epoch 750: | Train Loss: 1.201 | Val Loss: 1.1107 | Train F1: 0.5611| Val F1: 0.1714\n",
      "Early stopping at epoch 773\n",
      "Accuracy: 0.9187675070028011\n",
      "Precision: 0.14285714285714285\n",
      "Recall: 0.21428571428571427\n",
      "F1: 0.17142857142857143\n"
     ]
    },
    {
     "data": {
      "application/vnd.jupyter.widget-view+json": {
       "model_id": "2e47f6c57c8c4605827d284dcdd6deb0",
       "version_major": 2,
       "version_minor": 0
      },
      "text/plain": [
       "  0%|          | 0/1000 [00:00<?, ?it/s]"
      ]
     },
     "metadata": {},
     "output_type": "display_data"
    },
    {
     "name": "stdout",
     "output_type": "stream",
     "text": [
      "Epoch 050: | Train Loss: 1.377 | Val Loss: 1.4006 | Train F1: 0.1058| Val F1: 0.1111\n",
      "Epoch 100: | Train Loss: 1.368 | Val Loss: 1.3973 | Train F1: 0.1058| Val F1: 0.1111\n",
      "Epoch 150: | Train Loss: 1.359 | Val Loss: 1.3942 | Train F1: 0.1058| Val F1: 0.1111\n",
      "Epoch 200: | Train Loss: 1.347 | Val Loss: 1.3910 | Train F1: 0.1058| Val F1: 0.1111\n",
      "Epoch 250: | Train Loss: 1.342 | Val Loss: 1.3885 | Train F1: 0.1939| Val F1: 0.1242\n",
      "Epoch 300: | Train Loss: 1.331 | Val Loss: 1.3865 | Train F1: 0.2418| Val F1: 0.1447\n",
      "Early stopping at epoch 327\n",
      "Accuracy: 0.7450980392156863\n",
      "Precision: 0.08823529411764706\n",
      "Recall: 0.35714285714285715\n",
      "F1: 0.14150943396226415\n"
     ]
    },
    {
     "data": {
      "application/vnd.jupyter.widget-view+json": {
       "model_id": "c92d2837f6274dbaa8d1212e99b6d810",
       "version_major": 2,
       "version_minor": 0
      },
      "text/plain": [
       "  0%|          | 0/1000 [00:00<?, ?it/s]"
      ]
     },
     "metadata": {},
     "output_type": "display_data"
    },
    {
     "name": "stdout",
     "output_type": "stream",
     "text": [
      "Epoch 050: | Train Loss: 1.323 | Val Loss: 1.4156 | Train F1: 0.0106| Val F1: 0.0000\n",
      "Epoch 100: | Train Loss: 1.298 | Val Loss: 1.3954 | Train F1: 0.0780| Val F1: 0.0000\n",
      "Epoch 150: | Train Loss: 1.273 | Val Loss: 1.3839 | Train F1: 0.1635| Val F1: 0.0400\n",
      "Epoch 200: | Train Loss: 1.250 | Val Loss: 1.3781 | Train F1: 0.2465| Val F1: 0.0984\n",
      "Epoch 250: | Train Loss: 1.229 | Val Loss: 1.3756 | Train F1: 0.3191| Val F1: 0.1159\n",
      "Early stopping at epoch 277\n",
      "Accuracy: 0.9116409537166901\n",
      "Precision: 0.16666666666666666\n",
      "Recall: 0.0851063829787234\n",
      "F1: 0.11267605633802817\n"
     ]
    },
    {
     "data": {
      "application/vnd.jupyter.widget-view+json": {
       "model_id": "88a7b0786715403f9911f94e1207d4f2",
       "version_major": 2,
       "version_minor": 0
      },
      "text/plain": [
       "  0%|          | 0/1000 [00:00<?, ?it/s]"
      ]
     },
     "metadata": {},
     "output_type": "display_data"
    },
    {
     "name": "stdout",
     "output_type": "stream",
     "text": [
      "Epoch 050: | Train Loss: 1.393 | Val Loss: 1.3659 | Train F1: 0.1083| Val F1: 0.1017\n",
      "Epoch 100: | Train Loss: 1.391 | Val Loss: 1.3642 | Train F1: 0.1091| Val F1: 0.1019\n",
      "Epoch 150: | Train Loss: 1.391 | Val Loss: 1.3629 | Train F1: 0.1071| Val F1: 0.1020\n",
      "Epoch 200: | Train Loss: 1.388 | Val Loss: 1.3618 | Train F1: 0.1090| Val F1: 0.1027\n",
      "Epoch 250: | Train Loss: 1.388 | Val Loss: 1.3608 | Train F1: 0.1078| Val F1: 0.1028\n",
      "Epoch 300: | Train Loss: 1.386 | Val Loss: 1.3598 | Train F1: 0.1092| Val F1: 0.1031\n",
      "Epoch 350: | Train Loss: 1.384 | Val Loss: 1.3587 | Train F1: 0.1096| Val F1: 0.1031\n",
      "Epoch 400: | Train Loss: 1.383 | Val Loss: 1.3577 | Train F1: 0.1106| Val F1: 0.1034\n",
      "Epoch 450: | Train Loss: 1.382 | Val Loss: 1.3566 | Train F1: 0.1094| Val F1: 0.1018\n",
      "Epoch 500: | Train Loss: 1.380 | Val Loss: 1.3554 | Train F1: 0.1190| Val F1: 0.0978\n",
      "Epoch 550: | Train Loss: 1.379 | Val Loss: 1.3541 | Train F1: 0.1115| Val F1: 0.0843\n",
      "Epoch 600: | Train Loss: 1.378 | Val Loss: 1.3528 | Train F1: 0.1093| Val F1: 0.0886\n",
      "Epoch 650: | Train Loss: 1.376 | Val Loss: 1.3514 | Train F1: 0.1189| Val F1: 0.0868\n",
      "Epoch 700: | Train Loss: 1.374 | Val Loss: 1.3499 | Train F1: 0.1213| Val F1: 0.0938\n",
      "Epoch 750: | Train Loss: 1.371 | Val Loss: 1.3483 | Train F1: 0.1238| Val F1: 0.1014\n",
      "Epoch 800: | Train Loss: 1.368 | Val Loss: 1.3467 | Train F1: 0.1242| Val F1: 0.1006\n",
      "Epoch 850: | Train Loss: 1.368 | Val Loss: 1.3450 | Train F1: 0.1235| Val F1: 0.0949\n",
      "Epoch 900: | Train Loss: 1.365 | Val Loss: 1.3431 | Train F1: 0.1233| Val F1: 0.0920\n",
      "Epoch 950: | Train Loss: 1.362 | Val Loss: 1.3409 | Train F1: 0.1303| Val F1: 0.0948\n",
      "Epoch 1000: | Train Loss: 1.355 | Val Loss: 1.3387 | Train F1: 0.1390| Val F1: 0.1058\n",
      "Accuracy: 0.7394957983193278\n",
      "Precision: 0.06470588235294118\n",
      "Recall: 0.2894736842105263\n",
      "F1: 0.10576923076923077\n"
     ]
    },
    {
     "data": {
      "application/vnd.jupyter.widget-view+json": {
       "model_id": "0a8d718e2f1046db960ef621c734a617",
       "version_major": 2,
       "version_minor": 0
      },
      "text/plain": [
       "  0%|          | 0/1000 [00:00<?, ?it/s]"
      ]
     },
     "metadata": {},
     "output_type": "display_data"
    },
    {
     "name": "stdout",
     "output_type": "stream",
     "text": [
      "Epoch 050: | Train Loss: 1.356 | Val Loss: 1.4390 | Train F1: 0.1087| Val F1: 0.1181\n",
      "Early stopping at epoch 79\n",
      "Accuracy: 0.6792717086834734\n",
      "Precision: 0.07075471698113207\n",
      "Recall: 0.3191489361702128\n",
      "F1: 0.11583011583011583\n"
     ]
    },
    {
     "data": {
      "application/vnd.jupyter.widget-view+json": {
       "model_id": "31923cba05c148c48ecccfa0f001d078",
       "version_major": 2,
       "version_minor": 0
      },
      "text/plain": [
       "  0%|          | 0/1000 [00:00<?, ?it/s]"
      ]
     },
     "metadata": {},
     "output_type": "display_data"
    },
    {
     "name": "stdout",
     "output_type": "stream",
     "text": [
      "Epoch 050: | Train Loss: 1.395 | Val Loss: 1.2386 | Train F1: 0.1174| Val F1: 0.1008\n",
      "Epoch 100: | Train Loss: 1.393 | Val Loss: 1.2357 | Train F1: 0.1458| Val F1: 0.1053\n",
      "Epoch 150: | Train Loss: 1.392 | Val Loss: 1.2329 | Train F1: 0.1182| Val F1: 0.1321\n",
      "Epoch 200: | Train Loss: 1.388 | Val Loss: 1.2299 | Train F1: 0.1404| Val F1: 0.1458\n",
      "Epoch 250: | Train Loss: 1.386 | Val Loss: 1.2268 | Train F1: 0.1461| Val F1: 0.1538\n",
      "Epoch 300: | Train Loss: 1.382 | Val Loss: 1.2234 | Train F1: 0.1237| Val F1: 0.1163\n",
      "Epoch 350: | Train Loss: 1.379 | Val Loss: 1.2199 | Train F1: 0.1516| Val F1: 0.1235\n",
      "Epoch 400: | Train Loss: 1.378 | Val Loss: 1.2162 | Train F1: 0.1565| Val F1: 0.1282\n",
      "Epoch 450: | Train Loss: 1.374 | Val Loss: 1.2127 | Train F1: 0.1909| Val F1: 0.1351\n",
      "Epoch 500: | Train Loss: 1.373 | Val Loss: 1.2091 | Train F1: 0.1668| Val F1: 0.1127\n",
      "Epoch 550: | Train Loss: 1.369 | Val Loss: 1.2059 | Train F1: 0.1564| Val F1: 0.1159\n",
      "Epoch 600: | Train Loss: 1.364 | Val Loss: 1.2025 | Train F1: 0.1891| Val F1: 0.1159\n",
      "Epoch 650: | Train Loss: 1.364 | Val Loss: 1.1993 | Train F1: 0.2151| Val F1: 0.1159\n",
      "Epoch 700: | Train Loss: 1.359 | Val Loss: 1.1960 | Train F1: 0.2132| Val F1: 0.1143\n",
      "Epoch 750: | Train Loss: 1.365 | Val Loss: 1.1929 | Train F1: 0.1962| Val F1: 0.0845\n",
      "Epoch 800: | Train Loss: 1.357 | Val Loss: 1.1898 | Train F1: 0.2031| Val F1: 0.0845\n",
      "Epoch 850: | Train Loss: 1.357 | Val Loss: 1.1869 | Train F1: 0.1953| Val F1: 0.1370\n",
      "Epoch 900: | Train Loss: 1.346 | Val Loss: 1.1841 | Train F1: 0.2296| Val F1: 0.1316\n",
      "Epoch 950: | Train Loss: 1.350 | Val Loss: 1.1813 | Train F1: 0.2111| Val F1: 0.1333\n",
      "Epoch 1000: | Train Loss: 1.337 | Val Loss: 1.1787 | Train F1: 0.2532| Val F1: 0.1333\n",
      "Accuracy: 0.9089635854341737\n",
      "Precision: 0.10638297872340426\n",
      "Recall: 0.17857142857142858\n",
      "F1: 0.13333333333333333\n"
     ]
    },
    {
     "data": {
      "application/vnd.jupyter.widget-view+json": {
       "model_id": "a4698728baaf42debd0c46b29d1b8767",
       "version_major": 2,
       "version_minor": 0
      },
      "text/plain": [
       "  0%|          | 0/1000 [00:00<?, ?it/s]"
      ]
     },
     "metadata": {},
     "output_type": "display_data"
    },
    {
     "name": "stdout",
     "output_type": "stream",
     "text": [
      "Epoch 050: | Train Loss: 1.372 | Val Loss: 1.3923 | Train F1: 0.1025| Val F1: 0.1098\n",
      "Epoch 100: | Train Loss: 1.370 | Val Loss: 1.3916 | Train F1: 0.1052| Val F1: 0.1136\n",
      "Epoch 150: | Train Loss: 1.370 | Val Loss: 1.3908 | Train F1: 0.0977| Val F1: 0.1055\n",
      "Epoch 200: | Train Loss: 1.368 | Val Loss: 1.3899 | Train F1: 0.1162| Val F1: 0.1043\n",
      "Epoch 250: | Train Loss: 1.368 | Val Loss: 1.3889 | Train F1: 0.1035| Val F1: 0.0752\n",
      "Epoch 300: | Train Loss: 1.366 | Val Loss: 1.3880 | Train F1: 0.1046| Val F1: 0.0952\n",
      "Epoch 350: | Train Loss: 1.365 | Val Loss: 1.3868 | Train F1: 0.1049| Val F1: 0.1270\n",
      "Epoch 400: | Train Loss: 1.362 | Val Loss: 1.3855 | Train F1: 0.1239| Val F1: 0.1404\n",
      "Epoch 450: | Train Loss: 1.360 | Val Loss: 1.3842 | Train F1: 0.1217| Val F1: 0.0417\n",
      "Epoch 500: | Train Loss: 1.361 | Val Loss: 1.3826 | Train F1: 0.0684| Val F1: 0.0435\n",
      "Epoch 550: | Train Loss: 1.356 | Val Loss: 1.3810 | Train F1: 0.0892| Val F1: 0.0444\n",
      "Epoch 600: | Train Loss: 1.356 | Val Loss: 1.3792 | Train F1: 0.1075| Val F1: 0.0000\n",
      "Epoch 650: | Train Loss: 1.349 | Val Loss: 1.3773 | Train F1: 0.0763| Val F1: 0.0000\n",
      "Epoch 700: | Train Loss: 1.351 | Val Loss: 1.3753 | Train F1: 0.1188| Val F1: 0.0000\n",
      "Epoch 750: | Train Loss: 1.344 | Val Loss: 1.3733 | Train F1: 0.0927| Val F1: 0.0000\n",
      "Epoch 800: | Train Loss: 1.340 | Val Loss: 1.3713 | Train F1: 0.0938| Val F1: 0.0000\n",
      "Epoch 850: | Train Loss: 1.341 | Val Loss: 1.3692 | Train F1: 0.0635| Val F1: 0.0000\n",
      "Epoch 900: | Train Loss: 1.335 | Val Loss: 1.3671 | Train F1: 0.0974| Val F1: 0.0000\n",
      "Epoch 950: | Train Loss: 1.331 | Val Loss: 1.3651 | Train F1: 0.1135| Val F1: 0.0000\n",
      "Epoch 1000: | Train Loss: 1.331 | Val Loss: 1.3632 | Train F1: 0.0872| Val F1: 0.0000\n",
      "Accuracy: 0.9411764705882353\n",
      "Precision: 0.0\n",
      "Recall: 0.0\n",
      "F1: 0.0\n"
     ]
    },
    {
     "name": "stderr",
     "output_type": "stream",
     "text": [
      "C:\\Users\\eduar\\AppData\\Local\\Programs\\Python\\Python311\\Lib\\site-packages\\sklearn\\metrics\\_classification.py:1509: UndefinedMetricWarning: Precision is ill-defined and being set to 0.0 in labels with no predicted samples. Use `zero_division` parameter to control this behavior.\n",
      "  _warn_prf(average, modifier, f\"{metric.capitalize()} is\", len(result))\n",
      "C:\\Users\\eduar\\AppData\\Local\\Programs\\Python\\Python311\\Lib\\site-packages\\sklearn\\metrics\\_classification.py:1509: UndefinedMetricWarning: Precision is ill-defined and being set to 0.0 in labels with no predicted samples. Use `zero_division` parameter to control this behavior.\n",
      "  _warn_prf(average, modifier, f\"{metric.capitalize()} is\", len(result))\n",
      "C:\\Users\\eduar\\AppData\\Local\\Programs\\Python\\Python311\\Lib\\site-packages\\sklearn\\metrics\\_classification.py:1509: UndefinedMetricWarning: Precision is ill-defined and being set to 0.0 in labels with no predicted samples. Use `zero_division` parameter to control this behavior.\n",
      "  _warn_prf(average, modifier, f\"{metric.capitalize()} is\", len(result))\n",
      "C:\\Users\\eduar\\AppData\\Local\\Programs\\Python\\Python311\\Lib\\site-packages\\sklearn\\metrics\\_classification.py:1509: UndefinedMetricWarning: Precision is ill-defined and being set to 0.0 due to no predicted samples. Use `zero_division` parameter to control this behavior.\n",
      "  _warn_prf(average, modifier, f\"{metric.capitalize()} is\", len(result))\n"
     ]
    },
    {
     "data": {
      "application/vnd.jupyter.widget-view+json": {
       "model_id": "a518c1e56b8b46779315a69e93293cc1",
       "version_major": 2,
       "version_minor": 0
      },
      "text/plain": [
       "  0%|          | 0/1000 [00:00<?, ?it/s]"
      ]
     },
     "metadata": {},
     "output_type": "display_data"
    },
    {
     "name": "stdout",
     "output_type": "stream",
     "text": [
      "Epoch 050: | Train Loss: 1.361 | Val Loss: 1.4409 | Train F1: 0.1139| Val F1: 0.1309\n",
      "Epoch 100: | Train Loss: 1.359 | Val Loss: 1.4400 | Train F1: 0.1038| Val F1: 0.1297\n",
      "Epoch 150: | Train Loss: 1.359 | Val Loss: 1.4389 | Train F1: 0.1071| Val F1: 0.1357\n",
      "Epoch 200: | Train Loss: 1.352 | Val Loss: 1.4378 | Train F1: 0.1188| Val F1: 0.1408\n",
      "Epoch 250: | Train Loss: 1.353 | Val Loss: 1.4366 | Train F1: 0.1101| Val F1: 0.1485\n",
      "Epoch 300: | Train Loss: 1.350 | Val Loss: 1.4354 | Train F1: 0.1271| Val F1: 0.1768\n",
      "Epoch 350: | Train Loss: 1.344 | Val Loss: 1.4341 | Train F1: 0.1223| Val F1: 0.1688\n",
      "Epoch 400: | Train Loss: 1.344 | Val Loss: 1.4327 | Train F1: 0.1311| Val F1: 0.1739\n",
      "Epoch 450: | Train Loss: 1.342 | Val Loss: 1.4313 | Train F1: 0.1285| Val F1: 0.1600\n",
      "Epoch 500: | Train Loss: 1.338 | Val Loss: 1.4297 | Train F1: 0.1353| Val F1: 0.1681\n",
      "Epoch 550: | Train Loss: 1.337 | Val Loss: 1.4283 | Train F1: 0.1197| Val F1: 0.1724\n",
      "Epoch 600: | Train Loss: 1.337 | Val Loss: 1.4267 | Train F1: 0.1242| Val F1: 0.1682\n",
      "Epoch 650: | Train Loss: 1.337 | Val Loss: 1.4251 | Train F1: 0.1151| Val F1: 0.1731\n",
      "Epoch 700: | Train Loss: 1.333 | Val Loss: 1.4233 | Train F1: 0.1211| Val F1: 0.1800\n",
      "Epoch 750: | Train Loss: 1.327 | Val Loss: 1.4217 | Train F1: 0.1489| Val F1: 0.1837\n",
      "Epoch 800: | Train Loss: 1.323 | Val Loss: 1.4200 | Train F1: 0.1356| Val F1: 0.1837\n",
      "Epoch 850: | Train Loss: 1.321 | Val Loss: 1.4181 | Train F1: 0.1362| Val F1: 0.1875\n",
      "Epoch 900: | Train Loss: 1.317 | Val Loss: 1.4163 | Train F1: 0.1310| Val F1: 0.1702\n",
      "Epoch 950: | Train Loss: 1.315 | Val Loss: 1.4146 | Train F1: 0.1444| Val F1: 0.1667\n",
      "Epoch 1000: | Train Loss: 1.317 | Val Loss: 1.4128 | Train F1: 0.1314| Val F1: 0.1684\n",
      "Accuracy: 0.8892005610098177\n",
      "Precision: 0.16666666666666666\n",
      "Recall: 0.1702127659574468\n",
      "F1: 0.16842105263157894\n"
     ]
    }
   ],
   "source": [
    "import numpy as np\n",
    "import pandas as pd\n",
    "from sklearn.model_selection import KFold\n",
    "import pandas as pd\n",
    "\n",
    "K = 5\n",
    "\n",
    "# Define your hyperparameters\n",
    "hidden_layers = [1, 2]\n",
    "hidden_layer_max_sizes = [256, 128, 64, 32, 16]\n",
    "lrs = [0.01, 0.001, 0.0001, 0.00001]\n",
    "patience = [10]\n",
    "num_epochs = 1000\n",
    "\n",
    "if K > 1:\n",
    "    k_fold = KFold(n_splits=K)  # Specify K as the number of folds\n",
    "\n",
    "results = []\n",
    "\n",
    "for h_layers, h_size, lr, pat in itertools.product(hidden_layers, hidden_layer_max_sizes, lrs, patience):\n",
    "\n",
    "    hidden_layers_struct = get_layers(h_layers,h_size)\n",
    "    \n",
    "    fold_metrics = {'Accuracy': [], 'Precision': [], 'Recall': [], 'F1': []}\n",
    "\n",
    "    if K == 1:\n",
    "        dim = int(reduced_X_train.shape[0])\n",
    "        dim_thres = int(dim*0.5)\n",
    "        fold_generator = [(np.arange(0,dim_thres),np.arange(dim_thres,dim))]\n",
    "    else:\n",
    "        fold_generator = k_fold.split(reduced_X_train)\n",
    "        \n",
    "    for train_index, val_index in fold_generator:\n",
    "        # Split data into train and validation set for this fold\n",
    "        X_train_fold, X_val_fold = reduced_X_train[train_index], reduced_X_train[val_index]\n",
    "        y_train_fold, y_val_fold = y_train[train_index], y_train[val_index]\n",
    "\n",
    "        scaler = StandardScaler()\n",
    "        X_train_fold = scaler.fit_transform(X_train_fold)\n",
    "        X_val_fold = scaler.transform(X_val_fold)\n",
    "        \n",
    "        # smote = SMOTE(random_state=42)\n",
    "        # X_train_fold, y_train_fold = smote.fit_resample(X_train_fold, y_train_fold)\n",
    "\n",
    "        # undersampler = RandomUnderSampler(random_state=42)\n",
    "        # X_train_fold, y_train_fold = undersampler.fit_resample(X_train_fold, y_train_fold)\n",
    "\n",
    "        # Create datasets and model\n",
    "        train_loader, _, val_dataset = create_datasets(X_train_fold, y_train_fold, X_test, y_test, X_val_fold, y_val_fold, val=True, batch_size=320)\n",
    "        model = NeuralNetwork(input_size, hidden_layers_struct, output_size, pos_weight, lr, device=device, hidden_activation=hidden_activation, output_activation=output_activation, criterion=criterion)\n",
    "\n",
    "        # Train the model\n",
    "        train_nn(model, train_loader, val_dataset, num_epochs=num_epochs, skip=50, patience=pat)\n",
    "\n",
    "        # Evaluate the model on validation set for this fold\n",
    "        y_pred = predict_nn(model, val_dataset)\n",
    "        accuracy, precision, recall, f1 = eval_predict_nn(y_val_fold, y_pred)\n",
    "\n",
    "        # Store metrics for this fold\n",
    "        fold_metrics['Accuracy'].append(accuracy)\n",
    "        fold_metrics['Precision'].append(precision)\n",
    "        fold_metrics['Recall'].append(recall)\n",
    "        fold_metrics['F1'].append(f1)\n",
    "\n",
    "    # Calculate mean metrics across all folds\n",
    "    mean_accuracy = np.mean(fold_metrics['Accuracy'])\n",
    "    mean_precision = np.mean(fold_metrics['Precision'])\n",
    "    mean_recall = np.mean(fold_metrics['Recall'])\n",
    "    mean_f1 = np.mean(fold_metrics['F1'])\n",
    "\n",
    "    if pos_weight is None:\n",
    "        pos_weights_dict = 0\n",
    "    else:\n",
    "        pos_weights_dict = 1\n",
    "\n",
    "    # Store hyperparameters and mean metrics in results list\n",
    "    results.append({\n",
    "        'Hidden Layers': h_layers,\n",
    "        'Hidden Layer Size': h_size,\n",
    "        'Learning Rate': lr,\n",
    "        'Mean Accuracy': mean_accuracy,\n",
    "        'Mean Precision': mean_precision,\n",
    "        'Mean Recall': mean_recall,\n",
    "        'Mean F1': mean_f1\n",
    "    })\n",
    "\n",
    "# Convert results to a DataFrame\n",
    "results_df = pd.DataFrame(results)\n",
    "results_df.to_csv('new_model_results_pos_weight_CV.csv')"
   ]
  },
  {
   "cell_type": "code",
   "execution_count": 13,
   "id": "fb4f3168-a390-45ed-913f-3c1b0f8b859c",
   "metadata": {},
   "outputs": [
    {
     "data": {
      "text/html": [
       "<div>\n",
       "<style scoped>\n",
       "    .dataframe tbody tr th:only-of-type {\n",
       "        vertical-align: middle;\n",
       "    }\n",
       "\n",
       "    .dataframe tbody tr th {\n",
       "        vertical-align: top;\n",
       "    }\n",
       "\n",
       "    .dataframe thead th {\n",
       "        text-align: right;\n",
       "    }\n",
       "</style>\n",
       "<table border=\"1\" class=\"dataframe\">\n",
       "  <thead>\n",
       "    <tr style=\"text-align: right;\">\n",
       "      <th></th>\n",
       "      <th>Hidden Layers</th>\n",
       "      <th>Hidden Layer Size</th>\n",
       "      <th>Learning Rate</th>\n",
       "      <th>Mean Accuracy</th>\n",
       "      <th>Mean Precision</th>\n",
       "      <th>Mean Recall</th>\n",
       "      <th>Mean F1</th>\n",
       "    </tr>\n",
       "  </thead>\n",
       "  <tbody>\n",
       "    <tr>\n",
       "      <th>15</th>\n",
       "      <td>1</td>\n",
       "      <td>32</td>\n",
       "      <td>0.00001</td>\n",
       "      <td>0.877838</td>\n",
       "      <td>0.143366</td>\n",
       "      <td>0.210196</td>\n",
       "      <td>0.156218</td>\n",
       "    </tr>\n",
       "    <tr>\n",
       "      <th>14</th>\n",
       "      <td>1</td>\n",
       "      <td>32</td>\n",
       "      <td>0.00010</td>\n",
       "      <td>0.884007</td>\n",
       "      <td>0.123480</td>\n",
       "      <td>0.157319</td>\n",
       "      <td>0.132234</td>\n",
       "    </tr>\n",
       "    <tr>\n",
       "      <th>17</th>\n",
       "      <td>1</td>\n",
       "      <td>16</td>\n",
       "      <td>0.00100</td>\n",
       "      <td>0.872241</td>\n",
       "      <td>0.113380</td>\n",
       "      <td>0.169725</td>\n",
       "      <td>0.130988</td>\n",
       "    </tr>\n",
       "    <tr>\n",
       "      <th>6</th>\n",
       "      <td>1</td>\n",
       "      <td>128</td>\n",
       "      <td>0.00010</td>\n",
       "      <td>0.903898</td>\n",
       "      <td>0.141898</td>\n",
       "      <td>0.132648</td>\n",
       "      <td>0.130911</td>\n",
       "    </tr>\n",
       "    <tr>\n",
       "      <th>13</th>\n",
       "      <td>1</td>\n",
       "      <td>32</td>\n",
       "      <td>0.00100</td>\n",
       "      <td>0.891851</td>\n",
       "      <td>0.124687</td>\n",
       "      <td>0.140156</td>\n",
       "      <td>0.125699</td>\n",
       "    </tr>\n",
       "    <tr>\n",
       "      <th>38</th>\n",
       "      <td>2</td>\n",
       "      <td>16</td>\n",
       "      <td>0.00010</td>\n",
       "      <td>0.868883</td>\n",
       "      <td>0.115275</td>\n",
       "      <td>0.172628</td>\n",
       "      <td>0.123349</td>\n",
       "    </tr>\n",
       "    <tr>\n",
       "      <th>2</th>\n",
       "      <td>1</td>\n",
       "      <td>256</td>\n",
       "      <td>0.00010</td>\n",
       "      <td>0.901376</td>\n",
       "      <td>0.122138</td>\n",
       "      <td>0.130779</td>\n",
       "      <td>0.120866</td>\n",
       "    </tr>\n",
       "    <tr>\n",
       "      <th>11</th>\n",
       "      <td>1</td>\n",
       "      <td>64</td>\n",
       "      <td>0.00001</td>\n",
       "      <td>0.881207</td>\n",
       "      <td>0.107680</td>\n",
       "      <td>0.163235</td>\n",
       "      <td>0.120601</td>\n",
       "    </tr>\n",
       "    <tr>\n",
       "      <th>10</th>\n",
       "      <td>1</td>\n",
       "      <td>64</td>\n",
       "      <td>0.00010</td>\n",
       "      <td>0.893812</td>\n",
       "      <td>0.112114</td>\n",
       "      <td>0.136042</td>\n",
       "      <td>0.117496</td>\n",
       "    </tr>\n",
       "    <tr>\n",
       "      <th>26</th>\n",
       "      <td>2</td>\n",
       "      <td>128</td>\n",
       "      <td>0.00010</td>\n",
       "      <td>0.916786</td>\n",
       "      <td>0.145564</td>\n",
       "      <td>0.103722</td>\n",
       "      <td>0.115545</td>\n",
       "    </tr>\n",
       "    <tr>\n",
       "      <th>7</th>\n",
       "      <td>1</td>\n",
       "      <td>128</td>\n",
       "      <td>0.00001</td>\n",
       "      <td>0.893814</td>\n",
       "      <td>0.115539</td>\n",
       "      <td>0.140804</td>\n",
       "      <td>0.115525</td>\n",
       "    </tr>\n",
       "    <tr>\n",
       "      <th>35</th>\n",
       "      <td>2</td>\n",
       "      <td>32</td>\n",
       "      <td>0.00001</td>\n",
       "      <td>0.898577</td>\n",
       "      <td>0.101967</td>\n",
       "      <td>0.132288</td>\n",
       "      <td>0.113582</td>\n",
       "    </tr>\n",
       "    <tr>\n",
       "      <th>37</th>\n",
       "      <td>2</td>\n",
       "      <td>16</td>\n",
       "      <td>0.00100</td>\n",
       "      <td>0.884280</td>\n",
       "      <td>0.104021</td>\n",
       "      <td>0.134381</td>\n",
       "      <td>0.112966</td>\n",
       "    </tr>\n",
       "    <tr>\n",
       "      <th>18</th>\n",
       "      <td>1</td>\n",
       "      <td>16</td>\n",
       "      <td>0.00010</td>\n",
       "      <td>0.878965</td>\n",
       "      <td>0.100878</td>\n",
       "      <td>0.145561</td>\n",
       "      <td>0.112800</td>\n",
       "    </tr>\n",
       "    <tr>\n",
       "      <th>12</th>\n",
       "      <td>1</td>\n",
       "      <td>32</td>\n",
       "      <td>0.01000</td>\n",
       "      <td>0.892132</td>\n",
       "      <td>0.110319</td>\n",
       "      <td>0.118874</td>\n",
       "      <td>0.109994</td>\n",
       "    </tr>\n",
       "    <tr>\n",
       "      <th>9</th>\n",
       "      <td>1</td>\n",
       "      <td>64</td>\n",
       "      <td>0.00100</td>\n",
       "      <td>0.898012</td>\n",
       "      <td>0.105689</td>\n",
       "      <td>0.118373</td>\n",
       "      <td>0.109165</td>\n",
       "    </tr>\n",
       "    <tr>\n",
       "      <th>3</th>\n",
       "      <td>1</td>\n",
       "      <td>256</td>\n",
       "      <td>0.00001</td>\n",
       "      <td>0.898855</td>\n",
       "      <td>0.110202</td>\n",
       "      <td>0.123636</td>\n",
       "      <td>0.108486</td>\n",
       "    </tr>\n",
       "    <tr>\n",
       "      <th>5</th>\n",
       "      <td>1</td>\n",
       "      <td>128</td>\n",
       "      <td>0.00100</td>\n",
       "      <td>0.897453</td>\n",
       "      <td>0.108435</td>\n",
       "      <td>0.113105</td>\n",
       "      <td>0.107674</td>\n",
       "    </tr>\n",
       "    <tr>\n",
       "      <th>16</th>\n",
       "      <td>1</td>\n",
       "      <td>16</td>\n",
       "      <td>0.01000</td>\n",
       "      <td>0.877005</td>\n",
       "      <td>0.097533</td>\n",
       "      <td>0.137917</td>\n",
       "      <td>0.107614</td>\n",
       "    </tr>\n",
       "    <tr>\n",
       "      <th>32</th>\n",
       "      <td>2</td>\n",
       "      <td>32</td>\n",
       "      <td>0.01000</td>\n",
       "      <td>0.895768</td>\n",
       "      <td>0.103440</td>\n",
       "      <td>0.114112</td>\n",
       "      <td>0.106444</td>\n",
       "    </tr>\n",
       "    <tr>\n",
       "      <th>34</th>\n",
       "      <td>2</td>\n",
       "      <td>32</td>\n",
       "      <td>0.00010</td>\n",
       "      <td>0.903616</td>\n",
       "      <td>0.116273</td>\n",
       "      <td>0.108348</td>\n",
       "      <td>0.106135</td>\n",
       "    </tr>\n",
       "    <tr>\n",
       "      <th>22</th>\n",
       "      <td>2</td>\n",
       "      <td>256</td>\n",
       "      <td>0.00010</td>\n",
       "      <td>0.911460</td>\n",
       "      <td>0.118650</td>\n",
       "      <td>0.097958</td>\n",
       "      <td>0.104810</td>\n",
       "    </tr>\n",
       "    <tr>\n",
       "      <th>39</th>\n",
       "      <td>2</td>\n",
       "      <td>16</td>\n",
       "      <td>0.00001</td>\n",
       "      <td>0.831622</td>\n",
       "      <td>0.081702</td>\n",
       "      <td>0.191481</td>\n",
       "      <td>0.104671</td>\n",
       "    </tr>\n",
       "    <tr>\n",
       "      <th>23</th>\n",
       "      <td>2</td>\n",
       "      <td>256</td>\n",
       "      <td>0.00001</td>\n",
       "      <td>0.913703</td>\n",
       "      <td>0.122056</td>\n",
       "      <td>0.096083</td>\n",
       "      <td>0.103176</td>\n",
       "    </tr>\n",
       "    <tr>\n",
       "      <th>19</th>\n",
       "      <td>1</td>\n",
       "      <td>16</td>\n",
       "      <td>0.00001</td>\n",
       "      <td>0.874769</td>\n",
       "      <td>0.115710</td>\n",
       "      <td>0.135666</td>\n",
       "      <td>0.101976</td>\n",
       "    </tr>\n",
       "    <tr>\n",
       "      <th>31</th>\n",
       "      <td>2</td>\n",
       "      <td>64</td>\n",
       "      <td>0.00001</td>\n",
       "      <td>0.900814</td>\n",
       "      <td>0.100562</td>\n",
       "      <td>0.106108</td>\n",
       "      <td>0.099043</td>\n",
       "    </tr>\n",
       "    <tr>\n",
       "      <th>28</th>\n",
       "      <td>2</td>\n",
       "      <td>64</td>\n",
       "      <td>0.01000</td>\n",
       "      <td>0.899415</td>\n",
       "      <td>0.104205</td>\n",
       "      <td>0.107116</td>\n",
       "      <td>0.097284</td>\n",
       "    </tr>\n",
       "    <tr>\n",
       "      <th>27</th>\n",
       "      <td>2</td>\n",
       "      <td>128</td>\n",
       "      <td>0.00001</td>\n",
       "      <td>0.904739</td>\n",
       "      <td>0.103321</td>\n",
       "      <td>0.100339</td>\n",
       "      <td>0.096914</td>\n",
       "    </tr>\n",
       "    <tr>\n",
       "      <th>30</th>\n",
       "      <td>2</td>\n",
       "      <td>64</td>\n",
       "      <td>0.00010</td>\n",
       "      <td>0.903897</td>\n",
       "      <td>0.097666</td>\n",
       "      <td>0.099832</td>\n",
       "      <td>0.095753</td>\n",
       "    </tr>\n",
       "    <tr>\n",
       "      <th>29</th>\n",
       "      <td>2</td>\n",
       "      <td>64</td>\n",
       "      <td>0.00100</td>\n",
       "      <td>0.915381</td>\n",
       "      <td>0.121292</td>\n",
       "      <td>0.081798</td>\n",
       "      <td>0.094770</td>\n",
       "    </tr>\n",
       "    <tr>\n",
       "      <th>33</th>\n",
       "      <td>2</td>\n",
       "      <td>32</td>\n",
       "      <td>0.00100</td>\n",
       "      <td>0.910898</td>\n",
       "      <td>0.109081</td>\n",
       "      <td>0.087426</td>\n",
       "      <td>0.094328</td>\n",
       "    </tr>\n",
       "    <tr>\n",
       "      <th>1</th>\n",
       "      <td>1</td>\n",
       "      <td>256</td>\n",
       "      <td>0.00100</td>\n",
       "      <td>0.903896</td>\n",
       "      <td>0.100538</td>\n",
       "      <td>0.094710</td>\n",
       "      <td>0.093084</td>\n",
       "    </tr>\n",
       "    <tr>\n",
       "      <th>36</th>\n",
       "      <td>2</td>\n",
       "      <td>16</td>\n",
       "      <td>0.01000</td>\n",
       "      <td>0.902492</td>\n",
       "      <td>0.094281</td>\n",
       "      <td>0.088788</td>\n",
       "      <td>0.090611</td>\n",
       "    </tr>\n",
       "    <tr>\n",
       "      <th>0</th>\n",
       "      <td>1</td>\n",
       "      <td>256</td>\n",
       "      <td>0.01000</td>\n",
       "      <td>0.898288</td>\n",
       "      <td>0.090542</td>\n",
       "      <td>0.091828</td>\n",
       "      <td>0.086033</td>\n",
       "    </tr>\n",
       "    <tr>\n",
       "      <th>4</th>\n",
       "      <td>1</td>\n",
       "      <td>128</td>\n",
       "      <td>0.01000</td>\n",
       "      <td>0.871677</td>\n",
       "      <td>0.072293</td>\n",
       "      <td>0.111230</td>\n",
       "      <td>0.083033</td>\n",
       "    </tr>\n",
       "    <tr>\n",
       "      <th>8</th>\n",
       "      <td>1</td>\n",
       "      <td>64</td>\n",
       "      <td>0.01000</td>\n",
       "      <td>0.884568</td>\n",
       "      <td>0.077729</td>\n",
       "      <td>0.097451</td>\n",
       "      <td>0.082196</td>\n",
       "    </tr>\n",
       "    <tr>\n",
       "      <th>25</th>\n",
       "      <td>2</td>\n",
       "      <td>128</td>\n",
       "      <td>0.00100</td>\n",
       "      <td>0.913139</td>\n",
       "      <td>0.097904</td>\n",
       "      <td>0.070405</td>\n",
       "      <td>0.076281</td>\n",
       "    </tr>\n",
       "    <tr>\n",
       "      <th>24</th>\n",
       "      <td>2</td>\n",
       "      <td>128</td>\n",
       "      <td>0.01000</td>\n",
       "      <td>0.905297</td>\n",
       "      <td>0.082816</td>\n",
       "      <td>0.079558</td>\n",
       "      <td>0.071685</td>\n",
       "    </tr>\n",
       "    <tr>\n",
       "      <th>21</th>\n",
       "      <td>2</td>\n",
       "      <td>256</td>\n",
       "      <td>0.00100</td>\n",
       "      <td>0.920704</td>\n",
       "      <td>0.086169</td>\n",
       "      <td>0.042340</td>\n",
       "      <td>0.054247</td>\n",
       "    </tr>\n",
       "    <tr>\n",
       "      <th>20</th>\n",
       "      <td>2</td>\n",
       "      <td>256</td>\n",
       "      <td>0.01000</td>\n",
       "      <td>0.909486</td>\n",
       "      <td>0.062051</td>\n",
       "      <td>0.046590</td>\n",
       "      <td>0.049502</td>\n",
       "    </tr>\n",
       "  </tbody>\n",
       "</table>\n",
       "</div>"
      ],
      "text/plain": [
       "    Hidden Layers  Hidden Layer Size  Learning Rate  Mean Accuracy  \\\n",
       "15              1                 32        0.00001       0.877838   \n",
       "14              1                 32        0.00010       0.884007   \n",
       "17              1                 16        0.00100       0.872241   \n",
       "6               1                128        0.00010       0.903898   \n",
       "13              1                 32        0.00100       0.891851   \n",
       "38              2                 16        0.00010       0.868883   \n",
       "2               1                256        0.00010       0.901376   \n",
       "11              1                 64        0.00001       0.881207   \n",
       "10              1                 64        0.00010       0.893812   \n",
       "26              2                128        0.00010       0.916786   \n",
       "7               1                128        0.00001       0.893814   \n",
       "35              2                 32        0.00001       0.898577   \n",
       "37              2                 16        0.00100       0.884280   \n",
       "18              1                 16        0.00010       0.878965   \n",
       "12              1                 32        0.01000       0.892132   \n",
       "9               1                 64        0.00100       0.898012   \n",
       "3               1                256        0.00001       0.898855   \n",
       "5               1                128        0.00100       0.897453   \n",
       "16              1                 16        0.01000       0.877005   \n",
       "32              2                 32        0.01000       0.895768   \n",
       "34              2                 32        0.00010       0.903616   \n",
       "22              2                256        0.00010       0.911460   \n",
       "39              2                 16        0.00001       0.831622   \n",
       "23              2                256        0.00001       0.913703   \n",
       "19              1                 16        0.00001       0.874769   \n",
       "31              2                 64        0.00001       0.900814   \n",
       "28              2                 64        0.01000       0.899415   \n",
       "27              2                128        0.00001       0.904739   \n",
       "30              2                 64        0.00010       0.903897   \n",
       "29              2                 64        0.00100       0.915381   \n",
       "33              2                 32        0.00100       0.910898   \n",
       "1               1                256        0.00100       0.903896   \n",
       "36              2                 16        0.01000       0.902492   \n",
       "0               1                256        0.01000       0.898288   \n",
       "4               1                128        0.01000       0.871677   \n",
       "8               1                 64        0.01000       0.884568   \n",
       "25              2                128        0.00100       0.913139   \n",
       "24              2                128        0.01000       0.905297   \n",
       "21              2                256        0.00100       0.920704   \n",
       "20              2                256        0.01000       0.909486   \n",
       "\n",
       "    Mean Precision  Mean Recall   Mean F1  \n",
       "15        0.143366     0.210196  0.156218  \n",
       "14        0.123480     0.157319  0.132234  \n",
       "17        0.113380     0.169725  0.130988  \n",
       "6         0.141898     0.132648  0.130911  \n",
       "13        0.124687     0.140156  0.125699  \n",
       "38        0.115275     0.172628  0.123349  \n",
       "2         0.122138     0.130779  0.120866  \n",
       "11        0.107680     0.163235  0.120601  \n",
       "10        0.112114     0.136042  0.117496  \n",
       "26        0.145564     0.103722  0.115545  \n",
       "7         0.115539     0.140804  0.115525  \n",
       "35        0.101967     0.132288  0.113582  \n",
       "37        0.104021     0.134381  0.112966  \n",
       "18        0.100878     0.145561  0.112800  \n",
       "12        0.110319     0.118874  0.109994  \n",
       "9         0.105689     0.118373  0.109165  \n",
       "3         0.110202     0.123636  0.108486  \n",
       "5         0.108435     0.113105  0.107674  \n",
       "16        0.097533     0.137917  0.107614  \n",
       "32        0.103440     0.114112  0.106444  \n",
       "34        0.116273     0.108348  0.106135  \n",
       "22        0.118650     0.097958  0.104810  \n",
       "39        0.081702     0.191481  0.104671  \n",
       "23        0.122056     0.096083  0.103176  \n",
       "19        0.115710     0.135666  0.101976  \n",
       "31        0.100562     0.106108  0.099043  \n",
       "28        0.104205     0.107116  0.097284  \n",
       "27        0.103321     0.100339  0.096914  \n",
       "30        0.097666     0.099832  0.095753  \n",
       "29        0.121292     0.081798  0.094770  \n",
       "33        0.109081     0.087426  0.094328  \n",
       "1         0.100538     0.094710  0.093084  \n",
       "36        0.094281     0.088788  0.090611  \n",
       "0         0.090542     0.091828  0.086033  \n",
       "4         0.072293     0.111230  0.083033  \n",
       "8         0.077729     0.097451  0.082196  \n",
       "25        0.097904     0.070405  0.076281  \n",
       "24        0.082816     0.079558  0.071685  \n",
       "21        0.086169     0.042340  0.054247  \n",
       "20        0.062051     0.046590  0.049502  "
      ]
     },
     "execution_count": 13,
     "metadata": {},
     "output_type": "execute_result"
    }
   ],
   "source": [
    "results_df.sort_values('Mean F1',ascending=False)"
   ]
  },
  {
   "cell_type": "code",
   "execution_count": null,
   "id": "40620e59-635a-4ee3-a838-b422c7556836",
   "metadata": {},
   "outputs": [],
   "source": []
  }
 ],
 "metadata": {
  "kernelspec": {
   "display_name": "Python 3 (ipykernel)",
   "language": "python",
   "name": "python3"
  },
  "language_info": {
   "codemirror_mode": {
    "name": "ipython",
    "version": 3
   },
   "file_extension": ".py",
   "mimetype": "text/x-python",
   "name": "python",
   "nbconvert_exporter": "python",
   "pygments_lexer": "ipython3",
   "version": "3.11.4"
  }
 },
 "nbformat": 4,
 "nbformat_minor": 5
}
